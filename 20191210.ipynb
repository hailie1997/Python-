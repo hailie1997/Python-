{
 "cells": [
  {
   "cell_type": "code",
   "execution_count": null,
   "metadata": {},
   "outputs": [],
   "source": [
    "#请输入星期几的第一个字母，用来判断是星期几，如果第一个字母一样，则\n",
    "#继续判断第二个字母，以此类推\n",
    "week=['Monday','Tuseday','Wednesday','Thursday','Friday','Saturday','Sunday']\n",
    "while True:\n",
    "    myStr=input(\"请输入任意一个字母：\")\n",
    "    upMyStr=myStr.upper()\n",
    "    for weeks in week:\n",
    "        if upMyStr==weeks[0]:\n",
    "            if weeks.startswith(\"M\"):\n",
    "                print(\"星期一\")\n",
    "            elif weeks.startswith(\"W\"):\n",
    "                print(\"星期三\")\n",
    "            elif weeks.startswith(\"F\"):\n",
    "                print(\"星期五\")\n",
    "            elif weeks.startswith(\"T\") or weeks.startswith(\"S\"):\n",
    "                secondStr=input(\"请再输入一个字母：\")\n",
    "                newStr=upMyStr+secondStr\n",
    "                print(newStr)\n",
    "                for weekStr in week:\n",
    "                    if weekStr.find(newStr,0,2)!=-1:\n",
    "                        if newStr==\"Tu\":\n",
    "                            print(\"星期二\")\n",
    "                        elif newStr==\"Th\":\n",
    "                            print(\"星期四\")\n",
    "                        elif newStr==\"Sa\":\n",
    "                            print(\"星期六\")\n",
    "                        elif newStr==\"Su\":\n",
    "                            print(\"星期日\")\n",
    "                        break\n",
    "            break"
   ]
  }
 ],
 "metadata": {
  "kernelspec": {
   "display_name": "Python 3",
   "language": "python",
   "name": "python3"
  },
  "language_info": {
   "codemirror_mode": {
    "name": "ipython",
    "version": 3
   },
   "file_extension": ".py",
   "mimetype": "text/x-python",
   "name": "python",
   "nbconvert_exporter": "python",
   "pygments_lexer": "ipython3",
   "version": "3.7.3"
  }
 },
 "nbformat": 4,
 "nbformat_minor": 2
}
