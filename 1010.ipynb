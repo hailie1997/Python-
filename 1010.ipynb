{
 "cells": [
  {
   "cell_type": "code",
   "execution_count": 1,
   "metadata": {},
   "outputs": [
    {
     "data": {
      "text/plain": [
       "','"
      ]
     },
     "execution_count": 1,
     "metadata": {},
     "output_type": "execute_result"
    }
   ],
   "source": [
    "str = 'hello,world!'\n",
    "str[5]"
   ]
  },
  {
   "cell_type": "code",
   "execution_count": 2,
   "metadata": {},
   "outputs": [
    {
     "ename": "IndexError",
     "evalue": "string index out of range",
     "output_type": "error",
     "traceback": [
      "\u001b[1;31m---------------------------------------------------------------------------\u001b[0m",
      "\u001b[1;31mIndexError\u001b[0m                                Traceback (most recent call last)",
      "\u001b[1;32m<ipython-input-2-94c47cdc5cea>\u001b[0m in \u001b[0;36m<module>\u001b[1;34m\u001b[0m\n\u001b[1;32m----> 1\u001b[1;33m \u001b[0mstr\u001b[0m\u001b[1;33m[\u001b[0m\u001b[1;36m13\u001b[0m\u001b[1;33m]\u001b[0m\u001b[1;33m\u001b[0m\u001b[1;33m\u001b[0m\u001b[0m\n\u001b[0m",
      "\u001b[1;31mIndexError\u001b[0m: string index out of range"
     ]
    }
   ],
   "source": [
    "str[13]"
   ]
  },
  {
   "cell_type": "code",
   "execution_count": 3,
   "metadata": {},
   "outputs": [
    {
     "name": "stdout",
     "output_type": "stream",
     "text": [
      "HELLO,WORLD!\n"
     ]
    }
   ],
   "source": [
    "print(str.upper())"
   ]
  },
  {
   "cell_type": "code",
   "execution_count": 6,
   "metadata": {},
   "outputs": [
    {
     "name": "stdout",
     "output_type": "stream",
     "text": [
      "hello,world!\n"
     ]
    }
   ],
   "source": [
    "print(str.lower())"
   ]
  },
  {
   "cell_type": "code",
   "execution_count": 8,
   "metadata": {},
   "outputs": [
    {
     "name": "stdout",
     "output_type": "stream",
     "text": [
      "Hello,World!\n"
     ]
    }
   ],
   "source": [
    "print(str.title())"
   ]
  },
  {
   "cell_type": "code",
   "execution_count": 10,
   "metadata": {},
   "outputs": [
    {
     "name": "stdout",
     "output_type": "stream",
     "text": [
      "helloly\n"
     ]
    }
   ],
   "source": [
    "str = 'hello'\n",
    "name=  'ly'\n",
    "print(str + name)"
   ]
  },
  {
   "cell_type": "code",
   "execution_count": 12,
   "metadata": {},
   "outputs": [
    {
     "data": {
      "text/plain": [
       "'lhelloy'"
      ]
     },
     "execution_count": 12,
     "metadata": {},
     "output_type": "execute_result"
    }
   ],
   "source": [
    "str.join(name)"
   ]
  },
  {
   "cell_type": "code",
   "execution_count": 14,
   "metadata": {},
   "outputs": [
    {
     "data": {
      "text/plain": [
       "'1 + 2 + 3 + 4 + 5'"
      ]
     },
     "execution_count": 14,
     "metadata": {},
     "output_type": "execute_result"
    }
   ],
   "source": [
    "numbers = '12345'\n",
    "' + '.join(numbers)"
   ]
  },
  {
   "cell_type": "code",
   "execution_count": 17,
   "metadata": {},
   "outputs": [
    {
     "name": "stdout",
     "output_type": "stream",
     "text": [
      "Hello , world\n"
     ]
    }
   ],
   "source": [
    "#格式化输出\n",
    "print('Hello , %s' % 'world')"
   ]
  },
  {
   "cell_type": "code",
   "execution_count": 20,
   "metadata": {},
   "outputs": [
    {
     "name": "stdout",
     "output_type": "stream",
     "text": [
      "9 = 3 * 3\n",
      "9 = 3 * 3\n"
     ]
    }
   ],
   "source": [
    "x = 3\n",
    "print('{} = {} * {}'.format(x * x, x, x))\n",
    "print('{1} = {0} * {0}'.format(x, x * x))"
   ]
  },
  {
   "cell_type": "code",
   "execution_count": 22,
   "metadata": {},
   "outputs": [
    {
     "name": "stdout",
     "output_type": "stream",
     "text": [
      "my name is ly, my age is 51\n",
      "my name is ly, my age is 22\n"
     ]
    }
   ],
   "source": [
    "print('my name is {name}, my age is {age}'.format(name = 'ly', age = '51'))\n",
    "name = 'ly'\n",
    "age = 22\n",
    "print(f'my name is {name}, my age is {age}')"
   ]
  },
  {
   "cell_type": "code",
   "execution_count": 24,
   "metadata": {},
   "outputs": [
    {
     "data": {
      "text/plain": [
       "'   hello   '"
      ]
     },
     "execution_count": 24,
     "metadata": {},
     "output_type": "execute_result"
    }
   ],
   "source": [
    "'hello' .center(11)"
   ]
  },
  {
   "cell_type": "code",
   "execution_count": 26,
   "metadata": {},
   "outputs": [
    {
     "data": {
      "text/plain": [
       "'***hello***'"
      ]
     },
     "execution_count": 26,
     "metadata": {},
     "output_type": "execute_result"
    }
   ],
   "source": [
    "'hello' .center(11, '*')"
   ]
  },
  {
   "cell_type": "code",
   "execution_count": 30,
   "metadata": {},
   "outputs": [
    {
     "name": "stdout",
     "output_type": "stream",
     "text": [
      "****************************************\n",
      "              hello,world!              \n",
      "****************************************\n"
     ]
    }
   ],
   "source": [
    "print('*' * 40)\n",
    "print('hello,world!'.center(40))\n",
    "print('*' * 40)"
   ]
  },
  {
   "cell_type": "code",
   "execution_count": 32,
   "metadata": {},
   "outputs": [
    {
     "name": "stdout",
     "output_type": "stream",
     "text": [
      "****************************************\n",
      "*             hello,world!             *\n",
      "****************************************\n"
     ]
    }
   ],
   "source": [
    "print('*' * 40)\n",
    "print('hello,world!'.center(38).center(40, '*'))\n",
    "print('*' * 40)"
   ]
  },
  {
   "cell_type": "code",
   "execution_count": 35,
   "metadata": {},
   "outputs": [
    {
     "name": "stdout",
     "output_type": "stream",
     "text": [
      "21\n"
     ]
    }
   ],
   "source": [
    "file_path = r'd:\\C:\\Users\\DELL\\1010.ipynb'\n",
    "index = file_path.find('.')\n",
    "print(index)"
   ]
  },
  {
   "cell_type": "code",
   "execution_count": 37,
   "metadata": {},
   "outputs": [
    {
     "data": {
      "text/plain": [
       "'ipynb'"
      ]
     },
     "execution_count": 37,
     "metadata": {},
     "output_type": "execute_result"
    }
   ],
   "source": [
    "file_path[index +1:]"
   ]
  },
  {
   "cell_type": "code",
   "execution_count": 39,
   "metadata": {},
   "outputs": [
    {
     "data": {
      "text/plain": [
       "16"
      ]
     },
     "execution_count": 39,
     "metadata": {},
     "output_type": "execute_result"
    }
   ],
   "source": [
    "file_path.rfind('\\\\')"
   ]
  },
  {
   "cell_type": "code",
   "execution_count": 42,
   "metadata": {},
   "outputs": [
    {
     "data": {
      "text/plain": [
       "'1010'"
      ]
     },
     "execution_count": 42,
     "metadata": {},
     "output_type": "execute_result"
    }
   ],
   "source": [
    "file_path[file_path.rfind('\\\\') + 1: file_path.find('.')]#两个\\，就是转义字符，要不然会被认为是字符串里面的单引号"
   ]
  },
  {
   "cell_type": "code",
   "execution_count": 46,
   "metadata": {},
   "outputs": [
    {
     "name": "stdout",
     "output_type": "stream",
     "text": [
      "do u like py?yes\n"
     ]
    }
   ],
   "source": [
    "answer = input('do u like py?')\n",
    "if answer.lower == 'yes':\n",
    "    print('Great.')"
   ]
  },
  {
   "cell_type": "code",
   "execution_count": 47,
   "metadata": {},
   "outputs": [
    {
     "data": {
      "text/plain": [
       "'Hello'"
      ]
     },
     "execution_count": 47,
     "metadata": {},
     "output_type": "execute_result"
    }
   ],
   "source": [
    "'hello'.replace('h', 'H')"
   ]
  },
  {
   "cell_type": "code",
   "execution_count": 51,
   "metadata": {},
   "outputs": [
    {
     "data": {
      "text/plain": [
       "'Hello, ly'"
      ]
     },
     "execution_count": 51,
     "metadata": {},
     "output_type": "execute_result"
    }
   ],
   "source": [
    "'Hello, #name#'.replace('#name#', 'ly')"
   ]
  },
  {
   "cell_type": "code",
   "execution_count": 68,
   "metadata": {},
   "outputs": [
    {
     "name": "stdout",
     "output_type": "stream",
     "text": [
      "plz input a name:zhangsan\n"
     ]
    },
    {
     "ename": "ValueError",
     "evalue": "'zhangsan' is not in list",
     "output_type": "error",
     "traceback": [
      "\u001b[1;31m---------------------------------------------------------------------------\u001b[0m",
      "\u001b[1;31mValueError\u001b[0m                                Traceback (most recent call last)",
      "\u001b[1;32m<ipython-input-68-909df68efff8>\u001b[0m in \u001b[0;36m<module>\u001b[1;34m\u001b[0m\n\u001b[0;32m      3\u001b[0m \u001b[0mscores\u001b[0m \u001b[1;33m=\u001b[0m \u001b[1;33m[\u001b[0m\u001b[1;36m100\u001b[0m\u001b[1;33m,\u001b[0m \u001b[1;36m90\u001b[0m\u001b[1;33m,\u001b[0m \u001b[1;36m80\u001b[0m\u001b[1;33m,\u001b[0m \u001b[1;36m70\u001b[0m\u001b[1;33m]\u001b[0m\u001b[1;33m\u001b[0m\u001b[1;33m\u001b[0m\u001b[0m\n\u001b[0;32m      4\u001b[0m \u001b[0mname\u001b[0m \u001b[1;33m=\u001b[0m \u001b[0minput\u001b[0m\u001b[1;33m(\u001b[0m\u001b[1;34m'plz input a name:'\u001b[0m\u001b[1;33m)\u001b[0m\u001b[1;33m\u001b[0m\u001b[1;33m\u001b[0m\u001b[0m\n\u001b[1;32m----> 5\u001b[1;33m \u001b[0mprint\u001b[0m\u001b[1;33m(\u001b[0m\u001b[0mscores\u001b[0m\u001b[1;33m[\u001b[0m\u001b[0mnames\u001b[0m\u001b[1;33m.\u001b[0m\u001b[0mindex\u001b[0m\u001b[1;33m(\u001b[0m\u001b[0mname\u001b[0m\u001b[1;33m)\u001b[0m\u001b[1;33m]\u001b[0m\u001b[1;33m)\u001b[0m\u001b[1;33m\u001b[0m\u001b[1;33m\u001b[0m\u001b[0m\n\u001b[0m",
      "\u001b[1;31mValueError\u001b[0m: 'zhangsan' is not in list"
     ]
    }
   ],
   "source": [
    "#Dictionary\n",
    "names = ['Zhangsan', 'Lisi', 'Wangwu', 'Maliu']\n",
    "scores = [100, 90, 80, 70]\n",
    "name = input('plz input a name:')\n",
    "print(scores[names.index(name)])"
   ]
  },
  {
   "cell_type": "code",
   "execution_count": 55,
   "metadata": {},
   "outputs": [
    {
     "name": "stdout",
     "output_type": "stream",
     "text": [
      "plz inputzhangsan\n",
      "100\n"
     ]
    }
   ],
   "source": [
    "scores = {'zhangsan':100, 'lisi':90, 'wangwu':80, 'maliu':70}\n",
    "name = input('plz input')\n",
    "print(scores[name])"
   ]
  },
  {
   "cell_type": "code",
   "execution_count": 56,
   "metadata": {},
   "outputs": [],
   "source": [
    "scores = {}\n",
    "scores = dict()\n",
    "scores['zhangsan'] = 100"
   ]
  },
  {
   "cell_type": "code",
   "execution_count": 57,
   "metadata": {},
   "outputs": [
    {
     "data": {
      "text/plain": [
       "{'zhangsan': 100}"
      ]
     },
     "execution_count": 57,
     "metadata": {},
     "output_type": "execute_result"
    }
   ],
   "source": [
    "scores"
   ]
  },
  {
   "cell_type": "code",
   "execution_count": 58,
   "metadata": {},
   "outputs": [
    {
     "name": "stdout",
     "output_type": "stream",
     "text": [
      "plz input a namezhangsan\n",
      "100\n"
     ]
    }
   ],
   "source": [
    "name = input('plz input a name')\n",
    "if name in scores:\n",
    "    print(scores[name])\n",
    "else:\n",
    "    print('name not found')"
   ]
  },
  {
   "cell_type": "code",
   "execution_count": 62,
   "metadata": {},
   "outputs": [],
   "source": [
    "scores['list'] = 90\n",
    "scores['list'] = 80"
   ]
  },
  {
   "cell_type": "code",
   "execution_count": 63,
   "metadata": {},
   "outputs": [
    {
     "data": {
      "text/plain": [
       "{'zhangsan': 100, 'list': 80}"
      ]
     },
     "execution_count": 63,
     "metadata": {},
     "output_type": "execute_result"
    }
   ],
   "source": [
    "scores"
   ]
  },
  {
   "cell_type": "code",
   "execution_count": 64,
   "metadata": {},
   "outputs": [
    {
     "data": {
      "text/plain": [
       "{'zhangsan': 100, 'list': 80}"
      ]
     },
     "execution_count": 64,
     "metadata": {},
     "output_type": "execute_result"
    }
   ],
   "source": [
    "s2 = scores\n",
    "s2"
   ]
  },
  {
   "cell_type": "code",
   "execution_count": 65,
   "metadata": {},
   "outputs": [],
   "source": [
    "s2['zhangsan'] = 100"
   ]
  },
  {
   "cell_type": "code",
   "execution_count": 66,
   "metadata": {},
   "outputs": [
    {
     "data": {
      "text/plain": [
       "{'zhangsan': 100, 'list': 80}"
      ]
     },
     "execution_count": 66,
     "metadata": {},
     "output_type": "execute_result"
    }
   ],
   "source": [
    "scores"
   ]
  },
  {
   "cell_type": "code",
   "execution_count": 69,
   "metadata": {},
   "outputs": [
    {
     "ename": "SyntaxError",
     "evalue": "invalid syntax (<ipython-input-69-d672e5f4f304>, line 1)",
     "output_type": "error",
     "traceback": [
      "\u001b[1;36m  File \u001b[1;32m\"<ipython-input-69-d672e5f4f304>\"\u001b[1;36m, line \u001b[1;32m1\u001b[0m\n\u001b[1;33m    scores = {}.frontkeys{['zhangsan', 'lisi', 'wangwu', 'maliu'], 100}\u001b[0m\n\u001b[1;37m                         ^\u001b[0m\n\u001b[1;31mSyntaxError\u001b[0m\u001b[1;31m:\u001b[0m invalid syntax\n"
     ]
    }
   ],
   "source": [
    "scores = {}.frontkeys{['zhangsan', 'lisi', 'wangwu', 'maliu'], 100}\n",
    "scores"
   ]
  },
  {
   "cell_type": "code",
   "execution_count": 73,
   "metadata": {},
   "outputs": [
    {
     "name": "stdout",
     "output_type": "stream",
     "text": [
      "{'a': 2, 'e': 5, 'i': 5, 'o': 1, 'u': 0}\n"
     ]
    }
   ],
   "source": [
    "str = 'hello, this is a test. I designed this test last night.'\n",
    "count = dict.fromkeys('aeiou', 0)\n",
    "for ch in str:\n",
    "    if ch in 'aeiou':\n",
    "        count[ch]  +=1\n",
    "print(count)"
   ]
  },
  {
   "cell_type": "code",
   "execution_count": 74,
   "metadata": {},
   "outputs": [
    {
     "name": "stdout",
     "output_type": "stream",
     "text": [
      "None\n"
     ]
    }
   ],
   "source": [
    "print(count.get('b'))"
   ]
  },
  {
   "cell_type": "code",
   "execution_count": 75,
   "metadata": {},
   "outputs": [
    {
     "name": "stdout",
     "output_type": "stream",
     "text": [
      "2\n"
     ]
    }
   ],
   "source": [
    "print(count.get('a'))"
   ]
  },
  {
   "cell_type": "code",
   "execution_count": 77,
   "metadata": {},
   "outputs": [
    {
     "name": "stdout",
     "output_type": "stream",
     "text": [
      "plz input a namelisi\n",
      "plz input a score80\n",
      "lisi's score is 80 \n"
     ]
    }
   ],
   "source": [
    "student = dict.fromkeys('name', 'scores')\n",
    "student['name'] = input('plz input a name')\n",
    "student['score'] = input('plz input a score')\n",
    "print(\"{}'s score is {} \".format(student['name'],student['score']))"
   ]
  },
  {
   "cell_type": "code",
   "execution_count": 80,
   "metadata": {},
   "outputs": [
    {
     "name": "stdout",
     "output_type": "stream",
     "text": [
      "['san zhao', 'san qian', 'san sun', 'san li', 'san zhou', 'san wu', 'san zheng', 'san wang', 'si zhao', 'si qian', 'si sun', 'si li', 'si zhou', 'si wu', 'si zheng', 'si wang', 'wu zhao', 'wu qian', 'wu sun', 'wu li', 'wu zhou', 'wu wu', 'wu zheng', 'wu wang', 'liu zhao', 'liu qian', 'liu sun', 'liu li', 'liu zhou', 'liu wu', 'liu zheng', 'liu wang', 'jia zhao', 'jia qian', 'jia sun', 'jia li', 'jia zhou', 'jia wu', 'jia zheng', 'jia wang', 'yi zhao', 'yi qian', 'yi sun', 'yi li', 'yi zhou', 'yi wu', 'yi zheng', 'yi wang', 'bing zhao', 'bing qian', 'bing sun', 'bing li', 'bing zhou', 'bing wu', 'bing zheng', 'bing wang', 'ding zhao', 'ding qian', 'ding sun', 'ding li', 'ding zhou', 'ding wu', 'ding zheng', 'ding wang']\n"
     ]
    }
   ],
   "source": [
    "first_names = ['san', 'si', 'wu', 'liu', 'jia', 'yi', 'bing', 'ding']\n",
    "last_names = ['zhao', 'qian', 'sun', 'li', 'zhou', 'wu', 'zheng', 'wang']\n",
    "names = list()\n",
    "\n",
    "for first_name in first_names:\n",
    "    for last_name in last_names:\n",
    "        names.append(first_name + ' ' + last_name)\n",
    "        \n",
    "print(names)"
   ]
  },
  {
   "cell_type": "code",
   "execution_count": 81,
   "metadata": {},
   "outputs": [
    {
     "data": {
      "text/plain": [
       "64"
      ]
     },
     "execution_count": 81,
     "metadata": {},
     "output_type": "execute_result"
    }
   ],
   "source": [
    "len(names)"
   ]
  },
  {
   "cell_type": "code",
   "execution_count": 83,
   "metadata": {},
   "outputs": [
    {
     "data": {
      "text/plain": [
       "'yi qian'"
      ]
     },
     "execution_count": 83,
     "metadata": {},
     "output_type": "execute_result"
    }
   ],
   "source": [
    "import random\n",
    "random.choice(names)"
   ]
  },
  {
   "cell_type": "code",
   "execution_count": 86,
   "metadata": {},
   "outputs": [
    {
     "name": "stdout",
     "output_type": "stream",
     "text": [
      "4 94 43 4 19 66 34 56 33 42 2 34 94 74 47 85 34 54 38 75 23 84 34 76 45 17 34 93 80 34 30 67 18 12 25 20 43 35 25 94 54 45 48 17 47 63 53 98 35 43 38 32 65 66 71 23 42 34 80 56 51 2 25 82 1 34 26 54 4 31 94 31 28 76 30 16 68 80 27 57 41 75 13 87 97 55 38 20 44 82 63 58 39 56 32 60 91 55 23 18 "
     ]
    }
   ],
   "source": [
    "for i in range(0,100):\n",
    "    score = random.randint(0,100)\n",
    "    print(score, end=' ')"
   ]
  },
  {
   "cell_type": "code",
   "execution_count": 90,
   "metadata": {},
   "outputs": [
    {
     "name": "stdout",
     "output_type": "stream",
     "text": [
      "98 86 73 66 100 100 92 82 77 70 99 73 100 94 68 16 62 57 40 79 90 76 70 88 75 63 61 48 99 100 100 58 85 67 60 74 58 78 84 52 89 70 86 48 38 94 73 78 100 81 89 70 76 97 64 21 83 83 34 59 35 63 47 100 91 94 52 72 83 79 63 100 39 52 63 46 68 79 81 100 78 84 100 87 80 100 55 69 58 65 64 100 82 58 88 96 45 82 12 90 "
     ]
    }
   ],
   "source": [
    "import math\n",
    "for i in range(0,100):\n",
    "    score = math.ceil(random.gauss(75, 20))\n",
    "    if score > 100 :score = 100\n",
    "    elif score < 0 :score = 0\n",
    "    print(score, end=' ')"
   ]
  },
  {
   "cell_type": "code",
   "execution_count": 94,
   "metadata": {},
   "outputs": [
    {
     "name": "stdout",
     "output_type": "stream",
     "text": [
      "{'san zhao': {'physics': 82, 'math': 75, 'python': 82}, 'san qian': {'physics': 91, 'math': 91, 'python': 81}, 'san sun': {'physics': 70, 'math': 46, 'python': 70}, 'san li': {'physics': 69, 'math': 67, 'python': 79}, 'san zhou': {'physics': 84, 'math': 89, 'python': 58}, 'san wu': {'physics': 100, 'math': 84, 'python': 84}, 'san zheng': {'physics': 27, 'math': 66, 'python': 54}, 'san wang': {'physics': 100, 'math': 87, 'python': 71}, 'si zhao': {'physics': 100, 'math': 91, 'python': 100}, 'si qian': {'physics': 73, 'math': 77, 'python': 92}, 'si sun': {'physics': 100, 'math': 48, 'python': 72}, 'si li': {'physics': 100, 'math': 55, 'python': 58}, 'si zhou': {'physics': 68, 'math': 100, 'python': 84}, 'si wu': {'physics': 19, 'math': 69, 'python': 56}, 'si zheng': {'physics': 64, 'math': 73, 'python': 81}, 'si wang': {'physics': 100, 'math': 57, 'python': 21}, 'wu zhao': {'physics': 100, 'math': 69, 'python': 80}, 'wu qian': {'physics': 92, 'math': 86, 'python': 53}, 'wu sun': {'physics': 72, 'math': 82, 'python': 100}, 'wu li': {'physics': 57, 'math': 62, 'python': 93}, 'wu zhou': {'physics': 82, 'math': 89, 'python': 86}, 'wu wu': {'physics': 91, 'math': 81, 'python': 60}, 'wu zheng': {'physics': 57, 'math': 75, 'python': 76}, 'wu wang': {'physics': 100, 'math': 89, 'python': 42}, 'liu zhao': {'physics': 100, 'math': 84, 'python': 98}, 'liu qian': {'physics': 97, 'math': 100, 'python': 76}, 'liu sun': {'physics': 90, 'math': 68, 'python': 100}, 'liu li': {'physics': 88, 'math': 49, 'python': 77}, 'liu zhou': {'physics': 100, 'math': 100, 'python': 100}, 'liu wu': {'physics': 59, 'math': 58, 'python': 75}, 'liu zheng': {'physics': 90, 'math': 69, 'python': 72}, 'liu wang': {'physics': 91, 'math': 85, 'python': 100}, 'jia zhao': {'physics': 49, 'math': 68, 'python': 63}, 'jia qian': {'physics': 67, 'math': 71, 'python': 100}, 'jia sun': {'physics': 68, 'math': 20, 'python': 100}, 'jia li': {'physics': 59, 'math': 76, 'python': 56}, 'jia zhou': {'physics': 77, 'math': 96, 'python': 100}, 'jia wu': {'physics': 71, 'math': 59, 'python': 84}, 'jia zheng': {'physics': 100, 'math': 54, 'python': 47}, 'jia wang': {'physics': 97, 'math': 82, 'python': 79}, 'yi zhao': {'physics': 100, 'math': 49, 'python': 61}, 'yi qian': {'physics': 78, 'math': 77, 'python': 85}, 'yi sun': {'physics': 55, 'math': 58, 'python': 53}, 'yi li': {'physics': 75, 'math': 73, 'python': 91}, 'yi zhou': {'physics': 85, 'math': 86, 'python': 82}, 'yi wu': {'physics': 65, 'math': 97, 'python': 85}, 'yi zheng': {'physics': 53, 'math': 100, 'python': 100}, 'yi wang': {'physics': 63, 'math': 57, 'python': 100}, 'bing zhao': {'physics': 80, 'math': 70, 'python': 96}, 'bing qian': {'physics': 70, 'math': 95, 'python': 89}, 'bing sun': {'physics': 82, 'math': 100, 'python': 99}, 'bing li': {'physics': 100, 'math': 78, 'python': 45}, 'bing zhou': {'physics': 53, 'math': 100, 'python': 63}, 'bing wu': {'physics': 74, 'math': 67, 'python': 67}, 'bing zheng': {'physics': 34, 'math': 100, 'python': 70}, 'bing wang': {'physics': 100, 'math': 81, 'python': 100}, 'ding zhao': {'physics': 64, 'math': 88, 'python': 66}, 'ding qian': {'physics': 53, 'math': 100, 'python': 97}, 'ding sun': {'physics': 60, 'math': 56, 'python': 79}, 'ding li': {'physics': 85, 'math': 82, 'python': 93}, 'ding zhou': {'physics': 100, 'math': 65, 'python': 100}, 'ding wu': {'physics': 99, 'math': 57, 'python': 100}, 'ding zheng': {'physics': 100, 'math': 50, 'python': 44}, 'ding wang': {'physics': 53, 'math': 69, 'python': 91}}\n"
     ]
    }
   ],
   "source": [
    "score_db = {}\n",
    "score_template = {}.fromkeys(['physics', 'math', 'python'])\n",
    "for name in names:\n",
    "    scores = score_template.copy()\n",
    "    \n",
    "    score = math.ceil(random.gauss(75, 20))\n",
    "    if score > 100 :score = 100\n",
    "    elif score < 0 :score = 0\n",
    "    scores['physics'] = score\n",
    "    \n",
    "    score = math.ceil(random.gauss(75, 20))\n",
    "    if score > 100 :score = 100\n",
    "    elif score < 0 :score = 0\n",
    "    scores['math'] = score\n",
    "    \n",
    "    score = math.ceil(random.gauss(75, 20))\n",
    "    if score > 100 :score = 100\n",
    "    elif score < 0 :score = 0\n",
    "    scores['python'] = score\n",
    "    \n",
    "    score_db[name] = scores\n",
    "    \n",
    "print(score_db)"
   ]
  },
  {
   "cell_type": "code",
   "execution_count": 96,
   "metadata": {},
   "outputs": [
    {
     "name": "stdout",
     "output_type": "stream",
     "text": [
      "7\n"
     ]
    }
   ],
   "source": [
    "def add(a, b):\n",
    "    return a + b\n",
    "\n",
    "print(add(3, 4))"
   ]
  },
  {
   "cell_type": "code",
   "execution_count": 98,
   "metadata": {},
   "outputs": [
    {
     "name": "stdout",
     "output_type": "stream",
     "text": [
      "{'san zhao': {'physics': 80, 'math': 61, 'python': 76}, 'san qian': {'physics': 69, 'math': 56, 'python': 75}, 'san sun': {'physics': 86, 'math': 77, 'python': 47}, 'san li': {'physics': 85, 'math': 68, 'python': 87}, 'san zhou': {'physics': 87, 'math': 95, 'python': 56}, 'san wu': {'physics': 76, 'math': 100, 'python': 76}, 'san zheng': {'physics': 14, 'math': 65, 'python': 98}, 'san wang': {'physics': 81, 'math': 67, 'python': 100}, 'si zhao': {'physics': 100, 'math': 90, 'python': 64}, 'si qian': {'physics': 83, 'math': 89, 'python': 96}, 'si sun': {'physics': 82, 'math': 98, 'python': 85}, 'si li': {'physics': 77, 'math': 61, 'python': 100}, 'si zhou': {'physics': 62, 'math': 92, 'python': 69}, 'si wu': {'physics': 75, 'math': 87, 'python': 83}, 'si zheng': {'physics': 60, 'math': 46, 'python': 60}, 'si wang': {'physics': 100, 'math': 38, 'python': 97}, 'wu zhao': {'physics': 81, 'math': 100, 'python': 100}, 'wu qian': {'physics': 86, 'math': 55, 'python': 76}, 'wu sun': {'physics': 72, 'math': 100, 'python': 62}, 'wu li': {'physics': 26, 'math': 52, 'python': 84}, 'wu zhou': {'physics': 59, 'math': 70, 'python': 77}, 'wu wu': {'physics': 60, 'math': 81, 'python': 97}, 'wu zheng': {'physics': 63, 'math': 62, 'python': 70}, 'wu wang': {'physics': 39, 'math': 100, 'python': 40}, 'liu zhao': {'physics': 85, 'math': 83, 'python': 83}, 'liu qian': {'physics': 80, 'math': 96, 'python': 65}, 'liu sun': {'physics': 77, 'math': 100, 'python': 100}, 'liu li': {'physics': 33, 'math': 100, 'python': 96}, 'liu zhou': {'physics': 56, 'math': 100, 'python': 100}, 'liu wu': {'physics': 50, 'math': 98, 'python': 48}, 'liu zheng': {'physics': 100, 'math': 47, 'python': 68}, 'liu wang': {'physics': 73, 'math': 53, 'python': 64}, 'jia zhao': {'physics': 87, 'math': 49, 'python': 50}, 'jia qian': {'physics': 89, 'math': 51, 'python': 100}, 'jia sun': {'physics': 50, 'math': 70, 'python': 69}, 'jia li': {'physics': 37, 'math': 69, 'python': 71}, 'jia zhou': {'physics': 71, 'math': 97, 'python': 76}, 'jia wu': {'physics': 42, 'math': 100, 'python': 71}, 'jia zheng': {'physics': 55, 'math': 80, 'python': 58}, 'jia wang': {'physics': 52, 'math': 100, 'python': 69}, 'yi zhao': {'physics': 72, 'math': 84, 'python': 45}, 'yi qian': {'physics': 74, 'math': 100, 'python': 54}, 'yi sun': {'physics': 92, 'math': 59, 'python': 94}, 'yi li': {'physics': 95, 'math': 80, 'python': 54}, 'yi zhou': {'physics': 90, 'math': 88, 'python': 62}, 'yi wu': {'physics': 68, 'math': 90, 'python': 55}, 'yi zheng': {'physics': 68, 'math': 76, 'python': 63}, 'yi wang': {'physics': 20, 'math': 79, 'python': 41}, 'bing zhao': {'physics': 56, 'math': 54, 'python': 100}, 'bing qian': {'physics': 44, 'math': 100, 'python': 100}, 'bing sun': {'physics': 66, 'math': 67, 'python': 75}, 'bing li': {'physics': 90, 'math': 59, 'python': 72}, 'bing zhou': {'physics': 43, 'math': 100, 'python': 94}, 'bing wu': {'physics': 100, 'math': 59, 'python': 80}, 'bing zheng': {'physics': 81, 'math': 48, 'python': 55}, 'bing wang': {'physics': 91, 'math': 100, 'python': 62}, 'ding zhao': {'physics': 50, 'math': 100, 'python': 79}, 'ding qian': {'physics': 68, 'math': 49, 'python': 68}, 'ding sun': {'physics': 86, 'math': 47, 'python': 89}, 'ding li': {'physics': 100, 'math': 63, 'python': 56}, 'ding zhou': {'physics': 69, 'math': 87, 'python': 100}, 'ding wu': {'physics': 56, 'math': 96, 'python': 88}, 'ding zheng': {'physics': 47, 'math': 68, 'python': 60}, 'ding wang': {'physics': 44, 'math': 88, 'python': 63}}\n"
     ]
    }
   ],
   "source": [
    "\n",
    "def get_random_score():\n",
    "    score = math.ceil(random.gauss(75, 20))\n",
    "    if score > 100 :score = 100\n",
    "    elif score < 0 :score = 0\n",
    "    return score\n",
    "\n",
    "score_db = {}\n",
    "score_template = {}.fromkeys(['physics', 'math', 'python'])\n",
    "for name in names:\n",
    "    scores = score_template.copy()\n",
    "    \n",
    "    scores['physics'] = get_random_score()\n",
    "    scores['math'] = get_random_score()\n",
    "    scores['python'] = get_random_score()\n",
    "    \n",
    "    score_db[name] = scores\n",
    "    \n",
    "print(score_db)"
   ]
  },
  {
   "cell_type": "code",
   "execution_count": 100,
   "metadata": {},
   "outputs": [
    {
     "name": "stdout",
     "output_type": "stream",
     "text": [
      "plz input a nameding zheng\n",
      "physics: 47\n",
      "math: 68\n",
      "python: 60\n",
      "total: 175\n"
     ]
    }
   ],
   "source": [
    "name = input('plz input a name')\n",
    "if name in score_db:\n",
    "    print('physics:', score_db[name]['physics'])\n",
    "    print('math:', score_db[name]['math'])\n",
    "    print('python:', score_db[name]['python'])\n",
    "    print('total:', score_db[name]['physics'] + score_db[name]['math'] + score_db[name]['python'])\n",
    "    \n",
    "else:\n",
    "    print('not found')"
   ]
  },
  {
   "cell_type": "code",
   "execution_count": 102,
   "metadata": {},
   "outputs": [
    {
     "name": "stdout",
     "output_type": "stream",
     "text": [
      "physics: 80\n",
      "math: 61\n",
      "python: 76\n",
      "total: 217\n",
      "physics: 69\n",
      "math: 56\n",
      "python: 75\n",
      "total: 200\n",
      "physics: 86\n",
      "math: 77\n",
      "python: 47\n",
      "total: 210\n",
      "physics: 85\n",
      "math: 68\n",
      "python: 87\n",
      "total: 240\n",
      "physics: 87\n",
      "math: 95\n",
      "python: 56\n",
      "total: 238\n",
      "physics: 76\n",
      "math: 100\n",
      "python: 76\n",
      "total: 252\n",
      "physics: 14\n",
      "math: 65\n",
      "python: 98\n",
      "total: 177\n",
      "physics: 81\n",
      "math: 67\n",
      "python: 100\n",
      "total: 248\n",
      "physics: 100\n",
      "math: 90\n",
      "python: 64\n",
      "total: 254\n",
      "physics: 83\n",
      "math: 89\n",
      "python: 96\n",
      "total: 268\n",
      "physics: 82\n",
      "math: 98\n",
      "python: 85\n",
      "total: 265\n",
      "physics: 77\n",
      "math: 61\n",
      "python: 100\n",
      "total: 238\n",
      "physics: 62\n",
      "math: 92\n",
      "python: 69\n",
      "total: 223\n",
      "physics: 75\n",
      "math: 87\n",
      "python: 83\n",
      "total: 245\n",
      "physics: 60\n",
      "math: 46\n",
      "python: 60\n",
      "total: 166\n",
      "physics: 100\n",
      "math: 38\n",
      "python: 97\n",
      "total: 235\n",
      "physics: 81\n",
      "math: 100\n",
      "python: 100\n",
      "total: 281\n",
      "physics: 86\n",
      "math: 55\n",
      "python: 76\n",
      "total: 217\n",
      "physics: 72\n",
      "math: 100\n",
      "python: 62\n",
      "total: 234\n",
      "physics: 26\n",
      "math: 52\n",
      "python: 84\n",
      "total: 162\n",
      "physics: 59\n",
      "math: 70\n",
      "python: 77\n",
      "total: 206\n",
      "physics: 60\n",
      "math: 81\n",
      "python: 97\n",
      "total: 238\n",
      "physics: 63\n",
      "math: 62\n",
      "python: 70\n",
      "total: 195\n",
      "physics: 39\n",
      "math: 100\n",
      "python: 40\n",
      "total: 179\n",
      "physics: 85\n",
      "math: 83\n",
      "python: 83\n",
      "total: 251\n",
      "physics: 80\n",
      "math: 96\n",
      "python: 65\n",
      "total: 241\n",
      "physics: 77\n",
      "math: 100\n",
      "python: 100\n",
      "total: 277\n",
      "physics: 33\n",
      "math: 100\n",
      "python: 96\n",
      "total: 229\n",
      "physics: 56\n",
      "math: 100\n",
      "python: 100\n",
      "total: 256\n",
      "physics: 50\n",
      "math: 98\n",
      "python: 48\n",
      "total: 196\n",
      "physics: 100\n",
      "math: 47\n",
      "python: 68\n",
      "total: 215\n",
      "physics: 73\n",
      "math: 53\n",
      "python: 64\n",
      "total: 190\n",
      "physics: 87\n",
      "math: 49\n",
      "python: 50\n",
      "total: 186\n",
      "physics: 89\n",
      "math: 51\n",
      "python: 100\n",
      "total: 240\n",
      "physics: 50\n",
      "math: 70\n",
      "python: 69\n",
      "total: 189\n",
      "physics: 37\n",
      "math: 69\n",
      "python: 71\n",
      "total: 177\n",
      "physics: 71\n",
      "math: 97\n",
      "python: 76\n",
      "total: 244\n",
      "physics: 42\n",
      "math: 100\n",
      "python: 71\n",
      "total: 213\n",
      "physics: 55\n",
      "math: 80\n",
      "python: 58\n",
      "total: 193\n",
      "physics: 52\n",
      "math: 100\n",
      "python: 69\n",
      "total: 221\n",
      "physics: 72\n",
      "math: 84\n",
      "python: 45\n",
      "total: 201\n",
      "physics: 74\n",
      "math: 100\n",
      "python: 54\n",
      "total: 228\n",
      "physics: 92\n",
      "math: 59\n",
      "python: 94\n",
      "total: 245\n",
      "physics: 95\n",
      "math: 80\n",
      "python: 54\n",
      "total: 229\n",
      "physics: 90\n",
      "math: 88\n",
      "python: 62\n",
      "total: 240\n",
      "physics: 68\n",
      "math: 90\n",
      "python: 55\n",
      "total: 213\n",
      "physics: 68\n",
      "math: 76\n",
      "python: 63\n",
      "total: 207\n",
      "physics: 20\n",
      "math: 79\n",
      "python: 41\n",
      "total: 140\n",
      "physics: 56\n",
      "math: 54\n",
      "python: 100\n",
      "total: 210\n",
      "physics: 44\n",
      "math: 100\n",
      "python: 100\n",
      "total: 244\n",
      "physics: 66\n",
      "math: 67\n",
      "python: 75\n",
      "total: 208\n",
      "physics: 90\n",
      "math: 59\n",
      "python: 72\n",
      "total: 221\n",
      "physics: 43\n",
      "math: 100\n",
      "python: 94\n",
      "total: 237\n",
      "physics: 100\n",
      "math: 59\n",
      "python: 80\n",
      "total: 239\n",
      "physics: 81\n",
      "math: 48\n",
      "python: 55\n",
      "total: 184\n",
      "physics: 91\n",
      "math: 100\n",
      "python: 62\n",
      "total: 253\n",
      "physics: 50\n",
      "math: 100\n",
      "python: 79\n",
      "total: 229\n",
      "physics: 68\n",
      "math: 49\n",
      "python: 68\n",
      "total: 185\n",
      "physics: 86\n",
      "math: 47\n",
      "python: 89\n",
      "total: 222\n",
      "physics: 100\n",
      "math: 63\n",
      "python: 56\n",
      "total: 219\n",
      "physics: 69\n",
      "math: 87\n",
      "python: 100\n",
      "total: 256\n",
      "physics: 56\n",
      "math: 96\n",
      "python: 88\n",
      "total: 240\n",
      "physics: 47\n",
      "math: 68\n",
      "python: 60\n",
      "total: 175\n",
      "physics: 44\n",
      "math: 88\n",
      "python: 63\n",
      "total: 195\n",
      "not found\n"
     ]
    }
   ],
   "source": [
    "for name in score_db.keys():\n",
    "    print('physics:', score_db[name]['physics'])\n",
    "    print('math:', score_db[name]['math'])\n",
    "    print('python:', score_db[name]['python'])\n",
    "    print('total:', score_db[name]['physics'] + score_db[name]['math'] + score_db[name]['python'])\n",
    "    \n",
    "else:\n",
    "    print('not found')"
   ]
  },
  {
   "cell_type": "code",
   "execution_count": 113,
   "metadata": {},
   "outputs": [
    {
     "name": "stdout",
     "output_type": "stream",
     "text": [
      "name\t\tphysics\tmath\tpython\ttotal\t\n",
      "san zhao      \t80\t61\t76\t217\n",
      "san qian      \t69\t56\t75\t200\n",
      "san sun       \t86\t77\t47\t210\n",
      "san li        \t85\t68\t87\t240\n",
      "san zhou      \t87\t95\t56\t238\n",
      "san wu        \t76\t100\t76\t252\n",
      "san zheng     \t14\t65\t98\t177\n",
      "san wang      \t81\t67\t100\t248\n",
      "si zhao       \t100\t90\t64\t254\n",
      "si qian       \t83\t89\t96\t268\n",
      "si sun        \t82\t98\t85\t265\n",
      "si li         \t77\t61\t100\t238\n",
      "si zhou       \t62\t92\t69\t223\n",
      "si wu         \t75\t87\t83\t245\n",
      "si zheng      \t60\t46\t60\t166\n",
      "si wang       \t100\t38\t97\t235\n",
      "wu zhao       \t81\t100\t100\t281\n",
      "wu qian       \t86\t55\t76\t217\n",
      "wu sun        \t72\t100\t62\t234\n",
      "wu li         \t26\t52\t84\t162\n",
      "wu zhou       \t59\t70\t77\t206\n",
      "wu wu         \t60\t81\t97\t238\n",
      "wu zheng      \t63\t62\t70\t195\n",
      "wu wang       \t39\t100\t40\t179\n",
      "liu zhao      \t85\t83\t83\t251\n",
      "liu qian      \t80\t96\t65\t241\n",
      "liu sun       \t77\t100\t100\t277\n",
      "liu li        \t33\t100\t96\t229\n",
      "liu zhou      \t56\t100\t100\t256\n",
      "liu wu        \t50\t98\t48\t196\n",
      "liu zheng     \t100\t47\t68\t215\n",
      "liu wang      \t73\t53\t64\t190\n",
      "jia zhao      \t87\t49\t50\t186\n",
      "jia qian      \t89\t51\t100\t240\n",
      "jia sun       \t50\t70\t69\t189\n",
      "jia li        \t37\t69\t71\t177\n",
      "jia zhou      \t71\t97\t76\t244\n",
      "jia wu        \t42\t100\t71\t213\n",
      "jia zheng     \t55\t80\t58\t193\n",
      "jia wang      \t52\t100\t69\t221\n",
      "yi zhao       \t72\t84\t45\t201\n",
      "yi qian       \t74\t100\t54\t228\n",
      "yi sun        \t92\t59\t94\t245\n",
      "yi li         \t95\t80\t54\t229\n",
      "yi zhou       \t90\t88\t62\t240\n",
      "yi wu         \t68\t90\t55\t213\n",
      "yi zheng      \t68\t76\t63\t207\n",
      "yi wang       \t20\t79\t41\t140\n",
      "bing zhao     \t56\t54\t100\t210\n",
      "bing qian     \t44\t100\t100\t244\n",
      "bing sun      \t66\t67\t75\t208\n",
      "bing li       \t90\t59\t72\t221\n",
      "bing zhou     \t43\t100\t94\t237\n",
      "bing wu       \t100\t59\t80\t239\n",
      "bing zheng    \t81\t48\t55\t184\n",
      "bing wang     \t91\t100\t62\t253\n",
      "ding zhao     \t50\t100\t79\t229\n",
      "ding qian     \t68\t49\t68\t185\n",
      "ding sun      \t86\t47\t89\t222\n",
      "ding li       \t100\t63\t56\t219\n",
      "ding zhou     \t69\t87\t100\t256\n",
      "ding wu       \t56\t96\t88\t240\n",
      "ding zheng    \t47\t68\t60\t175\n",
      "ding wang     \t44\t88\t63\t195\n",
      "not found\n"
     ]
    }
   ],
   "source": [
    "print('name\\t\\tphysics\\tmath\\tpython\\ttotal\\t')\n",
    "\n",
    "for name in score_db.keys():\n",
    "    print('{:<14}'.format(name),end='\\t')\n",
    "    print(score_db[name]['physics'],end='\\t')\n",
    "    print(score_db[name]['math'],end='\\t')\n",
    "    print(score_db[name]['python'],end='\\t')\n",
    "    print(score_db[name]['physics'] + score_db[name]['math'] + score_db[name]['python'],end='\\n')\n",
    "    \n",
    "else:\n",
    "    print('not found')"
   ]
  },
  {
   "cell_type": "code",
   "execution_count": 115,
   "metadata": {},
   "outputs": [
    {
     "name": "stdout",
     "output_type": "stream",
     "text": [
      "dict_items([('san zhao', {'physics': 80, 'math': 61, 'python': 76}), ('san qian', {'physics': 69, 'math': 56, 'python': 75}), ('san sun', {'physics': 86, 'math': 77, 'python': 47}), ('san li', {'physics': 85, 'math': 68, 'python': 87}), ('san zhou', {'physics': 87, 'math': 95, 'python': 56}), ('san wu', {'physics': 76, 'math': 100, 'python': 76}), ('san zheng', {'physics': 14, 'math': 65, 'python': 98}), ('san wang', {'physics': 81, 'math': 67, 'python': 100}), ('si zhao', {'physics': 100, 'math': 90, 'python': 64}), ('si qian', {'physics': 83, 'math': 89, 'python': 96}), ('si sun', {'physics': 82, 'math': 98, 'python': 85}), ('si li', {'physics': 77, 'math': 61, 'python': 100}), ('si zhou', {'physics': 62, 'math': 92, 'python': 69}), ('si wu', {'physics': 75, 'math': 87, 'python': 83}), ('si zheng', {'physics': 60, 'math': 46, 'python': 60}), ('si wang', {'physics': 100, 'math': 38, 'python': 97}), ('wu zhao', {'physics': 81, 'math': 100, 'python': 100}), ('wu qian', {'physics': 86, 'math': 55, 'python': 76}), ('wu sun', {'physics': 72, 'math': 100, 'python': 62}), ('wu li', {'physics': 26, 'math': 52, 'python': 84}), ('wu zhou', {'physics': 59, 'math': 70, 'python': 77}), ('wu wu', {'physics': 60, 'math': 81, 'python': 97}), ('wu zheng', {'physics': 63, 'math': 62, 'python': 70}), ('wu wang', {'physics': 39, 'math': 100, 'python': 40}), ('liu zhao', {'physics': 85, 'math': 83, 'python': 83}), ('liu qian', {'physics': 80, 'math': 96, 'python': 65}), ('liu sun', {'physics': 77, 'math': 100, 'python': 100}), ('liu li', {'physics': 33, 'math': 100, 'python': 96}), ('liu zhou', {'physics': 56, 'math': 100, 'python': 100}), ('liu wu', {'physics': 50, 'math': 98, 'python': 48}), ('liu zheng', {'physics': 100, 'math': 47, 'python': 68}), ('liu wang', {'physics': 73, 'math': 53, 'python': 64}), ('jia zhao', {'physics': 87, 'math': 49, 'python': 50}), ('jia qian', {'physics': 89, 'math': 51, 'python': 100}), ('jia sun', {'physics': 50, 'math': 70, 'python': 69}), ('jia li', {'physics': 37, 'math': 69, 'python': 71}), ('jia zhou', {'physics': 71, 'math': 97, 'python': 76}), ('jia wu', {'physics': 42, 'math': 100, 'python': 71}), ('jia zheng', {'physics': 55, 'math': 80, 'python': 58}), ('jia wang', {'physics': 52, 'math': 100, 'python': 69}), ('yi zhao', {'physics': 72, 'math': 84, 'python': 45}), ('yi qian', {'physics': 74, 'math': 100, 'python': 54}), ('yi sun', {'physics': 92, 'math': 59, 'python': 94}), ('yi li', {'physics': 95, 'math': 80, 'python': 54}), ('yi zhou', {'physics': 90, 'math': 88, 'python': 62}), ('yi wu', {'physics': 68, 'math': 90, 'python': 55}), ('yi zheng', {'physics': 68, 'math': 76, 'python': 63}), ('yi wang', {'physics': 20, 'math': 79, 'python': 41}), ('bing zhao', {'physics': 56, 'math': 54, 'python': 100}), ('bing qian', {'physics': 44, 'math': 100, 'python': 100}), ('bing sun', {'physics': 66, 'math': 67, 'python': 75}), ('bing li', {'physics': 90, 'math': 59, 'python': 72}), ('bing zhou', {'physics': 43, 'math': 100, 'python': 94}), ('bing wu', {'physics': 100, 'math': 59, 'python': 80}), ('bing zheng', {'physics': 81, 'math': 48, 'python': 55}), ('bing wang', {'physics': 91, 'math': 100, 'python': 62}), ('ding zhao', {'physics': 50, 'math': 100, 'python': 79}), ('ding qian', {'physics': 68, 'math': 49, 'python': 68}), ('ding sun', {'physics': 86, 'math': 47, 'python': 89}), ('ding li', {'physics': 100, 'math': 63, 'python': 56}), ('ding zhou', {'physics': 69, 'math': 87, 'python': 100}), ('ding wu', {'physics': 56, 'math': 96, 'python': 88}), ('ding zheng', {'physics': 47, 'math': 68, 'python': 60}), ('ding wang', {'physics': 44, 'math': 88, 'python': 63})])\n"
     ]
    }
   ],
   "source": [
    "items = score_db.items()\n",
    "print(items)"
   ]
  },
  {
   "cell_type": "code",
   "execution_count": 117,
   "metadata": {},
   "outputs": [
    {
     "name": "stdout",
     "output_type": "stream",
     "text": [
      "[('bing li', {'physics': 90, 'math': 59, 'python': 72}), ('bing qian', {'physics': 44, 'math': 100, 'python': 100}), ('bing sun', {'physics': 66, 'math': 67, 'python': 75}), ('bing wang', {'physics': 91, 'math': 100, 'python': 62}), ('bing wu', {'physics': 100, 'math': 59, 'python': 80}), ('bing zhao', {'physics': 56, 'math': 54, 'python': 100}), ('bing zheng', {'physics': 81, 'math': 48, 'python': 55}), ('bing zhou', {'physics': 43, 'math': 100, 'python': 94}), ('ding li', {'physics': 100, 'math': 63, 'python': 56}), ('ding qian', {'physics': 68, 'math': 49, 'python': 68}), ('ding sun', {'physics': 86, 'math': 47, 'python': 89}), ('ding wang', {'physics': 44, 'math': 88, 'python': 63}), ('ding wu', {'physics': 56, 'math': 96, 'python': 88}), ('ding zhao', {'physics': 50, 'math': 100, 'python': 79}), ('ding zheng', {'physics': 47, 'math': 68, 'python': 60}), ('ding zhou', {'physics': 69, 'math': 87, 'python': 100}), ('jia li', {'physics': 37, 'math': 69, 'python': 71}), ('jia qian', {'physics': 89, 'math': 51, 'python': 100}), ('jia sun', {'physics': 50, 'math': 70, 'python': 69}), ('jia wang', {'physics': 52, 'math': 100, 'python': 69}), ('jia wu', {'physics': 42, 'math': 100, 'python': 71}), ('jia zhao', {'physics': 87, 'math': 49, 'python': 50}), ('jia zheng', {'physics': 55, 'math': 80, 'python': 58}), ('jia zhou', {'physics': 71, 'math': 97, 'python': 76}), ('liu li', {'physics': 33, 'math': 100, 'python': 96}), ('liu qian', {'physics': 80, 'math': 96, 'python': 65}), ('liu sun', {'physics': 77, 'math': 100, 'python': 100}), ('liu wang', {'physics': 73, 'math': 53, 'python': 64}), ('liu wu', {'physics': 50, 'math': 98, 'python': 48}), ('liu zhao', {'physics': 85, 'math': 83, 'python': 83}), ('liu zheng', {'physics': 100, 'math': 47, 'python': 68}), ('liu zhou', {'physics': 56, 'math': 100, 'python': 100}), ('san li', {'physics': 85, 'math': 68, 'python': 87}), ('san qian', {'physics': 69, 'math': 56, 'python': 75}), ('san sun', {'physics': 86, 'math': 77, 'python': 47}), ('san wang', {'physics': 81, 'math': 67, 'python': 100}), ('san wu', {'physics': 76, 'math': 100, 'python': 76}), ('san zhao', {'physics': 80, 'math': 61, 'python': 76}), ('san zheng', {'physics': 14, 'math': 65, 'python': 98}), ('san zhou', {'physics': 87, 'math': 95, 'python': 56}), ('si li', {'physics': 77, 'math': 61, 'python': 100}), ('si qian', {'physics': 83, 'math': 89, 'python': 96}), ('si sun', {'physics': 82, 'math': 98, 'python': 85}), ('si wang', {'physics': 100, 'math': 38, 'python': 97}), ('si wu', {'physics': 75, 'math': 87, 'python': 83}), ('si zhao', {'physics': 100, 'math': 90, 'python': 64}), ('si zheng', {'physics': 60, 'math': 46, 'python': 60}), ('si zhou', {'physics': 62, 'math': 92, 'python': 69}), ('wu li', {'physics': 26, 'math': 52, 'python': 84}), ('wu qian', {'physics': 86, 'math': 55, 'python': 76}), ('wu sun', {'physics': 72, 'math': 100, 'python': 62}), ('wu wang', {'physics': 39, 'math': 100, 'python': 40}), ('wu wu', {'physics': 60, 'math': 81, 'python': 97}), ('wu zhao', {'physics': 81, 'math': 100, 'python': 100}), ('wu zheng', {'physics': 63, 'math': 62, 'python': 70}), ('wu zhou', {'physics': 59, 'math': 70, 'python': 77}), ('yi li', {'physics': 95, 'math': 80, 'python': 54}), ('yi qian', {'physics': 74, 'math': 100, 'python': 54}), ('yi sun', {'physics': 92, 'math': 59, 'python': 94}), ('yi wang', {'physics': 20, 'math': 79, 'python': 41}), ('yi wu', {'physics': 68, 'math': 90, 'python': 55}), ('yi zhao', {'physics': 72, 'math': 84, 'python': 45}), ('yi zheng', {'physics': 68, 'math': 76, 'python': 63}), ('yi zhou', {'physics': 90, 'math': 88, 'python': 62})]\n"
     ]
    }
   ],
   "source": [
    "items = score_db.items()\n",
    "print(sorted(items, key= ))"
   ]
  },
  {
   "cell_type": "code",
   "execution_count": 123,
   "metadata": {},
   "outputs": [
    {
     "name": "stdout",
     "output_type": "stream",
     "text": [
      "name\t\tphysics\tmath\tpython\ttotal\t\n",
      "wu zhao       \t81\t100\t100\t281\n",
      "liu sun       \t77\t100\t100\t277\n",
      "si qian       \t83\t89\t96\t268\n",
      "si sun        \t82\t98\t85\t265\n",
      "liu zhou      \t56\t100\t100\t256\n",
      "ding zhou     \t69\t87\t100\t256\n",
      "si zhao       \t100\t90\t64\t254\n",
      "bing wang     \t91\t100\t62\t253\n",
      "san wu        \t76\t100\t76\t252\n",
      "liu zhao      \t85\t83\t83\t251\n",
      "san wang      \t81\t67\t100\t248\n",
      "si wu         \t75\t87\t83\t245\n",
      "yi sun        \t92\t59\t94\t245\n",
      "jia zhou      \t71\t97\t76\t244\n",
      "bing qian     \t44\t100\t100\t244\n",
      "liu qian      \t80\t96\t65\t241\n",
      "san li        \t85\t68\t87\t240\n",
      "jia qian      \t89\t51\t100\t240\n",
      "yi zhou       \t90\t88\t62\t240\n",
      "ding wu       \t56\t96\t88\t240\n",
      "bing wu       \t100\t59\t80\t239\n",
      "san zhou      \t87\t95\t56\t238\n",
      "si li         \t77\t61\t100\t238\n",
      "wu wu         \t60\t81\t97\t238\n",
      "bing zhou     \t43\t100\t94\t237\n",
      "si wang       \t100\t38\t97\t235\n",
      "wu sun        \t72\t100\t62\t234\n",
      "liu li        \t33\t100\t96\t229\n",
      "yi li         \t95\t80\t54\t229\n",
      "ding zhao     \t50\t100\t79\t229\n",
      "yi qian       \t74\t100\t54\t228\n",
      "si zhou       \t62\t92\t69\t223\n",
      "ding sun      \t86\t47\t89\t222\n",
      "jia wang      \t52\t100\t69\t221\n",
      "bing li       \t90\t59\t72\t221\n",
      "ding li       \t100\t63\t56\t219\n",
      "san zhao      \t80\t61\t76\t217\n",
      "wu qian       \t86\t55\t76\t217\n",
      "liu zheng     \t100\t47\t68\t215\n",
      "jia wu        \t42\t100\t71\t213\n",
      "yi wu         \t68\t90\t55\t213\n",
      "san sun       \t86\t77\t47\t210\n",
      "bing zhao     \t56\t54\t100\t210\n",
      "bing sun      \t66\t67\t75\t208\n",
      "yi zheng      \t68\t76\t63\t207\n",
      "wu zhou       \t59\t70\t77\t206\n",
      "yi zhao       \t72\t84\t45\t201\n",
      "san qian      \t69\t56\t75\t200\n",
      "liu wu        \t50\t98\t48\t196\n",
      "wu zheng      \t63\t62\t70\t195\n",
      "ding wang     \t44\t88\t63\t195\n",
      "jia zheng     \t55\t80\t58\t193\n",
      "liu wang      \t73\t53\t64\t190\n",
      "jia sun       \t50\t70\t69\t189\n",
      "jia zhao      \t87\t49\t50\t186\n",
      "ding qian     \t68\t49\t68\t185\n",
      "bing zheng    \t81\t48\t55\t184\n",
      "wu wang       \t39\t100\t40\t179\n",
      "san zheng     \t14\t65\t98\t177\n",
      "jia li        \t37\t69\t71\t177\n",
      "ding zheng    \t47\t68\t60\t175\n",
      "si zheng      \t60\t46\t60\t166\n",
      "wu li         \t26\t52\t84\t162\n",
      "yi wang       \t20\t79\t41\t140\n"
     ]
    }
   ],
   "source": [
    "def total(item):\n",
    "    return item[1]['physics'] + item[1]['math'] + item[1]['python']\n",
    "\n",
    "\n",
    "items = score_db.items()\n",
    "sorted_scores = sorted(items, key = total, reverse = True)\n",
    "\n",
    "print('name\\t\\tphysics\\tmath\\tpython\\ttotal\\t')\n",
    "\n",
    "for item in sorted_scores:\n",
    "    print('{:<14}'.format(item[0]),end='\\t')\n",
    "    print(item[1]['physics'],end='\\t')\n",
    "    print(item[1]['math'],end='\\t')\n",
    "    print(item[1]['python'],end='\\t')\n",
    "    print(item[1]['physics'] + item[1]['math'] + item[1]['python'],end='\\n')\n",
    "    "
   ]
  },
  {
   "cell_type": "code",
   "execution_count": null,
   "metadata": {},
   "outputs": [],
   "source": []
  }
 ],
 "metadata": {
  "kernelspec": {
   "display_name": "Python 3",
   "language": "python",
   "name": "python3"
  },
  "language_info": {
   "codemirror_mode": {
    "name": "ipython",
    "version": 3
   },
   "file_extension": ".py",
   "mimetype": "text/x-python",
   "name": "python",
   "nbconvert_exporter": "python",
   "pygments_lexer": "ipython3",
   "version": "3.7.3"
  }
 },
 "nbformat": 4,
 "nbformat_minor": 2
}
