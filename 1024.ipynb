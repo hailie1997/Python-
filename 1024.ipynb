{
 "cells": [
  {
   "cell_type": "code",
   "execution_count": 3,
   "metadata": {},
   "outputs": [
    {
     "name": "stdout",
     "output_type": "stream",
     "text": [
      "a 10\n",
      "b 20\n",
      "c 30\n",
      "d 40\n"
     ]
    }
   ],
   "source": [
    "names = ['a', 'b', 'c', 'd']\n",
    "ages = [10, 20, 30, 40]\n",
    "for i in range(len(names)):\n",
    "    print(names[i], ages[i])"
   ]
  },
  {
   "cell_type": "code",
   "execution_count": 4,
   "metadata": {},
   "outputs": [
    {
     "name": "stdout",
     "output_type": "stream",
     "text": [
      "a 10\n",
      "b 20\n",
      "c 30\n",
      "d 40\n"
     ]
    }
   ],
   "source": [
    "names = ['a', 'b', 'c', 'd']\n",
    "ages = [10, 20, 30, 40]\n",
    "for name, age in zip(names, ages):\n",
    "    print(name, age)"
   ]
  },
  {
   "cell_type": "code",
   "execution_count": 5,
   "metadata": {},
   "outputs": [
    {
     "data": {
      "text/plain": [
       "[('a', 10), ('b', 20), ('c', 30), ('d', 40)]"
      ]
     },
     "execution_count": 5,
     "metadata": {},
     "output_type": "execute_result"
    }
   ],
   "source": [
    "a = list(zip(names, ages))\n",
    "a"
   ]
  },
  {
   "cell_type": "code",
   "execution_count": 6,
   "metadata": {},
   "outputs": [
    {
     "name": "stdout",
     "output_type": "stream",
     "text": [
      "1 a\n",
      "2 b\n",
      "3 c\n",
      "4 d\n"
     ]
    }
   ],
   "source": [
    "names = ['a', 'b', 'c', 'd']\n",
    "for i in range(len(names)):\n",
    "    print(i +1, names[i])"
   ]
  },
  {
   "cell_type": "code",
   "execution_count": 7,
   "metadata": {},
   "outputs": [
    {
     "name": "stdout",
     "output_type": "stream",
     "text": [
      "1 a\n",
      "2 b\n",
      "3 c\n",
      "4 d\n"
     ]
    }
   ],
   "source": [
    "names = ['a', 'b', 'c', 'd']\n",
    "i = 1\n",
    "for name in names:\n",
    "    print(i, name)\n",
    "    i += 1"
   ]
  },
  {
   "cell_type": "code",
   "execution_count": 11,
   "metadata": {},
   "outputs": [
    {
     "name": "stdout",
     "output_type": "stream",
     "text": [
      "0 a\n",
      "1 b\n",
      "2 c\n",
      "3 d\n"
     ]
    }
   ],
   "source": [
    "names = ['a', 'b', 'c', 'd']\n",
    "for i, name in enumerate(names):\n",
    "    print(i, name)"
   ]
  },
  {
   "cell_type": "code",
   "execution_count": 12,
   "metadata": {},
   "outputs": [],
   "source": [
    "a = list(enumerate(names))"
   ]
  },
  {
   "cell_type": "code",
   "execution_count": 13,
   "metadata": {},
   "outputs": [
    {
     "data": {
      "text/plain": [
       "[(0, 'a'), (1, 'b'), (2, 'c'), (3, 'd')]"
      ]
     },
     "execution_count": 13,
     "metadata": {},
     "output_type": "execute_result"
    }
   ],
   "source": [
    "a"
   ]
  },
  {
   "cell_type": "code",
   "execution_count": 14,
   "metadata": {},
   "outputs": [
    {
     "name": "stdout",
     "output_type": "stream",
     "text": [
      "[0, 1, 2, 3, 4, 5, 6, 7, 8, 9] [0, 1, 4, 9, 16, 25, 36, 49, 64, 81]\n"
     ]
    }
   ],
   "source": [
    "a = list(range(0, 10))\n",
    "b = list()\n",
    "for item in a:\n",
    "    b.append(item * item)\n",
    "\n",
    "print(a, b)"
   ]
  },
  {
   "cell_type": "code",
   "execution_count": 15,
   "metadata": {},
   "outputs": [
    {
     "data": {
      "text/plain": [
       "[0, 1, 4, 9, 16, 25, 36, 49, 64, 81]"
      ]
     },
     "execution_count": 15,
     "metadata": {},
     "output_type": "execute_result"
    }
   ],
   "source": [
    "b = [item * item for item in range(0, 10)]\n",
    "b"
   ]
  },
  {
   "cell_type": "code",
   "execution_count": 18,
   "metadata": {},
   "outputs": [
    {
     "name": "stdout",
     "output_type": "stream",
     "text": [
      "[0, 3, 6, 9, 12, 15, 18, 21, 24, 27, 30, 33, 36, 39, 42, 45, 48, 51, 54, 57, 60, 63, 66, 69, 72, 75, 78, 81, 84, 87, 90, 93, 96, 99]\n"
     ]
    }
   ],
   "source": [
    "a = [item for item in range(0, 100) if item % 3 == 0]\n",
    "print(a)"
   ]
  },
  {
   "cell_type": "code",
   "execution_count": 19,
   "metadata": {},
   "outputs": [
    {
     "name": "stdout",
     "output_type": "stream",
     "text": [
      "[(1, 0), (1, 1), (1, 2), (1, 3), (1, 4), (1, 5), (1, 6), (1, 7), (1, 8), (1, 9), (2, 0), (2, 1), (2, 2), (2, 3), (2, 4), (2, 5), (2, 6), (2, 7), (2, 8), (2, 9), (3, 0), (3, 1), (3, 2), (3, 3), (3, 4), (3, 5), (3, 6), (3, 7), (3, 8), (3, 9), (4, 0), (4, 1), (4, 2), (4, 3), (4, 4), (4, 5), (4, 6), (4, 7), (4, 8), (4, 9), (5, 0), (5, 1), (5, 2), (5, 3), (5, 4), (5, 5), (5, 6), (5, 7), (5, 8), (5, 9), (6, 0), (6, 1), (6, 2), (6, 3), (6, 4), (6, 5), (6, 6), (6, 7), (6, 8), (6, 9), (7, 0), (7, 1), (7, 2), (7, 3), (7, 4), (7, 5), (7, 6), (7, 7), (7, 8), (7, 9), (8, 0), (8, 1), (8, 2), (8, 3), (8, 4), (8, 5), (8, 6), (8, 7), (8, 8), (8, 9), (9, 0), (9, 1), (9, 2), (9, 3), (9, 4), (9, 5), (9, 6), (9, 7), (9, 8), (9, 9)]\n"
     ]
    }
   ],
   "source": [
    "coordinates = []\n",
    "for x in range(1,10):\n",
    "    for y in range(0, 10):\n",
    "        coordinates.append((x, y))\n",
    "        \n",
    "print(coordinates)"
   ]
  },
  {
   "cell_type": "code",
   "execution_count": 20,
   "metadata": {},
   "outputs": [
    {
     "name": "stdout",
     "output_type": "stream",
     "text": [
      "[(0, 0), (0, 1), (0, 2), (0, 3), (0, 4), (0, 5), (0, 6), (0, 7), (0, 8), (0, 9), (1, 0), (1, 1), (1, 2), (1, 3), (1, 4), (1, 5), (1, 6), (1, 7), (1, 8), (1, 9), (2, 0), (2, 1), (2, 2), (2, 3), (2, 4), (2, 5), (2, 6), (2, 7), (2, 8), (2, 9), (3, 0), (3, 1), (3, 2), (3, 3), (3, 4), (3, 5), (3, 6), (3, 7), (3, 8), (3, 9), (4, 0), (4, 1), (4, 2), (4, 3), (4, 4), (4, 5), (4, 6), (4, 7), (4, 8), (4, 9), (5, 0), (5, 1), (5, 2), (5, 3), (5, 4), (5, 5), (5, 6), (5, 7), (5, 8), (5, 9), (6, 0), (6, 1), (6, 2), (6, 3), (6, 4), (6, 5), (6, 6), (6, 7), (6, 8), (6, 9), (7, 0), (7, 1), (7, 2), (7, 3), (7, 4), (7, 5), (7, 6), (7, 7), (7, 8), (7, 9), (8, 0), (8, 1), (8, 2), (8, 3), (8, 4), (8, 5), (8, 6), (8, 7), (8, 8), (8, 9), (9, 0), (9, 1), (9, 2), (9, 3), (9, 4), (9, 5), (9, 6), (9, 7), (9, 8), (9, 9)]\n"
     ]
    }
   ],
   "source": [
    "coordinates = [(x, y) for x in range(0, 10) for y in range(0, 10)]\n",
    "print(coordinates)"
   ]
  },
  {
   "cell_type": "code",
   "execution_count": 22,
   "metadata": {},
   "outputs": [
    {
     "name": "stdout",
     "output_type": "stream",
     "text": [
      "['chris+clarice', 'arnold+alice', 'bob+bernice']\n"
     ]
    }
   ],
   "source": [
    "girls = ['alice', 'bernice', 'clarice']\n",
    "boys = ['chris', 'arnold', 'bob']\n",
    "result = [boy + '+' + girl for boy in boys for girl in girls if boy[0] == girl[0]]\n",
    "print(result)"
   ]
  },
  {
   "cell_type": "code",
   "execution_count": 23,
   "metadata": {},
   "outputs": [
    {
     "name": "stdout",
     "output_type": "stream",
     "text": [
      "['chris+clarice', 'arnold+alice', 'bob+bernice', 'bob+betrice']\n"
     ]
    }
   ],
   "source": [
    "girls = ['alice', 'bernice', 'clarice', 'betrice']\n",
    "boys = ['chris', 'arnold', 'bob']\n",
    "result = [boy + '+' + girl for boy in boys for girl in girls if boy[0] == girl[0]]\n",
    "print(result)"
   ]
  },
  {
   "cell_type": "code",
   "execution_count": 25,
   "metadata": {},
   "outputs": [
    {
     "name": "stdout",
     "output_type": "stream",
     "text": [
      "{0: 0, 1: 1, 2: 4, 3: 9, 4: 16, 5: 25, 6: 36, 7: 49, 8: 64, 9: 81}\n"
     ]
    }
   ],
   "source": [
    "squares = {i : i ** 2 for i in range(0, 10)}\n",
    "print(squares)"
   ]
  },
  {
   "cell_type": "code",
   "execution_count": 27,
   "metadata": {},
   "outputs": [
    {
     "data": {
      "text/plain": [
       "25"
      ]
     },
     "execution_count": 27,
     "metadata": {},
     "output_type": "execute_result"
    }
   ],
   "source": [
    "squares[5]"
   ]
  },
  {
   "cell_type": "code",
   "execution_count": 29,
   "metadata": {},
   "outputs": [
    {
     "data": {
      "text/plain": [
       "True"
      ]
     },
     "execution_count": 29,
     "metadata": {},
     "output_type": "execute_result"
    }
   ],
   "source": [
    "a = [1, 2, 3]\n",
    "b = a\n",
    "b is a"
   ]
  },
  {
   "cell_type": "code",
   "execution_count": 30,
   "metadata": {},
   "outputs": [
    {
     "data": {
      "text/plain": [
       "[1, 2, 3]"
      ]
     },
     "execution_count": 30,
     "metadata": {},
     "output_type": "execute_result"
    }
   ],
   "source": [
    "a = None\n",
    "b"
   ]
  },
  {
   "cell_type": "code",
   "execution_count": 31,
   "metadata": {},
   "outputs": [],
   "source": [
    "b = None"
   ]
  },
  {
   "cell_type": "code",
   "execution_count": 32,
   "metadata": {},
   "outputs": [
    {
     "ename": "NameError",
     "evalue": "name 'x' is not defined",
     "output_type": "error",
     "traceback": [
      "\u001b[1;31m---------------------------------------------------------------------------\u001b[0m",
      "\u001b[1;31mNameError\u001b[0m                                 Traceback (most recent call last)",
      "\u001b[1;32m<ipython-input-32-ff2c65f40a06>\u001b[0m in \u001b[0;36m<module>\u001b[1;34m\u001b[0m\n\u001b[0;32m      1\u001b[0m \u001b[0mx\u001b[0m \u001b[1;33m=\u001b[0m \u001b[1;36m1\u001b[0m\u001b[1;33m\u001b[0m\u001b[1;33m\u001b[0m\u001b[0m\n\u001b[0;32m      2\u001b[0m \u001b[1;32mdel\u001b[0m \u001b[0mx\u001b[0m\u001b[1;33m\u001b[0m\u001b[1;33m\u001b[0m\u001b[0m\n\u001b[1;32m----> 3\u001b[1;33m \u001b[0mx\u001b[0m\u001b[1;33m\u001b[0m\u001b[1;33m\u001b[0m\u001b[0m\n\u001b[0m",
      "\u001b[1;31mNameError\u001b[0m: name 'x' is not defined"
     ]
    }
   ],
   "source": [
    "x = 1 \n",
    "del x\n",
    "x"
   ]
  },
  {
   "cell_type": "code",
   "execution_count": 33,
   "metadata": {},
   "outputs": [
    {
     "data": {
      "text/plain": [
       "[1, 2, 3]"
      ]
     },
     "execution_count": 33,
     "metadata": {},
     "output_type": "execute_result"
    }
   ],
   "source": [
    "a = [1, 2, 3]\n",
    "b = a\n",
    "del a \n",
    "b"
   ]
  },
  {
   "cell_type": "code",
   "execution_count": 34,
   "metadata": {},
   "outputs": [
    {
     "name": "stdout",
     "output_type": "stream",
     "text": [
      "hello,world!\n"
     ]
    }
   ],
   "source": [
    "exec('print(\"hello,world!\")')"
   ]
  },
  {
   "cell_type": "code",
   "execution_count": 35,
   "metadata": {},
   "outputs": [
    {
     "data": {
      "text/plain": [
       "9"
      ]
     },
     "execution_count": 35,
     "metadata": {},
     "output_type": "execute_result"
    }
   ],
   "source": [
    "scope = {}\n",
    "exec('y = 1', scope)\n",
    "y"
   ]
  },
  {
   "cell_type": "code",
   "execution_count": 36,
   "metadata": {},
   "outputs": [
    {
     "name": "stdout",
     "output_type": "stream",
     "text": [
      "Variable      Type    Data/Info\n",
      "-------------------------------\n",
      "age           int     40\n",
      "ages          list    n=4\n",
      "b             list    n=3\n",
      "boys          list    n=3\n",
      "coordinates   list    n=100\n",
      "girls         list    n=4\n",
      "i             int     3\n",
      "item          int     9\n",
      "name          str     d\n",
      "names         list    n=4\n",
      "result        list    n=4\n",
      "scope         dict    n=2\n",
      "squares       dict    n=10\n",
      "y             int     9\n"
     ]
    }
   ],
   "source": [
    "%whos"
   ]
  },
  {
   "cell_type": "code",
   "execution_count": 37,
   "metadata": {},
   "outputs": [
    {
     "data": {
      "text/plain": [
       "1"
      ]
     },
     "execution_count": 37,
     "metadata": {},
     "output_type": "execute_result"
    }
   ],
   "source": [
    "scope['y']"
   ]
  },
  {
   "cell_type": "code",
   "execution_count": 38,
   "metadata": {},
   "outputs": [
    {
     "name": "stdout",
     "output_type": "stream",
     "text": [
      "{'__builtins__': {'__name__': 'builtins', '__doc__': \"Built-in functions, exceptions, and other objects.\\n\\nNoteworthy: None is the `nil' object; Ellipsis represents `...' in slices.\", '__package__': '', '__loader__': <class '_frozen_importlib.BuiltinImporter'>, '__spec__': ModuleSpec(name='builtins', loader=<class '_frozen_importlib.BuiltinImporter'>), '__build_class__': <built-in function __build_class__>, '__import__': <built-in function __import__>, 'abs': <built-in function abs>, 'all': <built-in function all>, 'any': <built-in function any>, 'ascii': <built-in function ascii>, 'bin': <built-in function bin>, 'breakpoint': <built-in function breakpoint>, 'callable': <built-in function callable>, 'chr': <built-in function chr>, 'compile': <built-in function compile>, 'delattr': <built-in function delattr>, 'dir': <built-in function dir>, 'divmod': <built-in function divmod>, 'eval': <built-in function eval>, 'exec': <built-in function exec>, 'format': <built-in function format>, 'getattr': <built-in function getattr>, 'globals': <built-in function globals>, 'hasattr': <built-in function hasattr>, 'hash': <built-in function hash>, 'hex': <built-in function hex>, 'id': <built-in function id>, 'input': <bound method Kernel.raw_input of <ipykernel.ipkernel.IPythonKernel object at 0x000001A4FDB34FD0>>, 'isinstance': <built-in function isinstance>, 'issubclass': <built-in function issubclass>, 'iter': <built-in function iter>, 'len': <built-in function len>, 'locals': <built-in function locals>, 'max': <built-in function max>, 'min': <built-in function min>, 'next': <built-in function next>, 'oct': <built-in function oct>, 'ord': <built-in function ord>, 'pow': <built-in function pow>, 'print': <built-in function print>, 'repr': <built-in function repr>, 'round': <built-in function round>, 'setattr': <built-in function setattr>, 'sorted': <built-in function sorted>, 'sum': <built-in function sum>, 'vars': <built-in function vars>, 'None': None, 'Ellipsis': Ellipsis, 'NotImplemented': NotImplemented, 'False': False, 'True': True, 'bool': <class 'bool'>, 'memoryview': <class 'memoryview'>, 'bytearray': <class 'bytearray'>, 'bytes': <class 'bytes'>, 'classmethod': <class 'classmethod'>, 'complex': <class 'complex'>, 'dict': <class 'dict'>, 'enumerate': <class 'enumerate'>, 'filter': <class 'filter'>, 'float': <class 'float'>, 'frozenset': <class 'frozenset'>, 'property': <class 'property'>, 'int': <class 'int'>, 'list': <class 'list'>, 'map': <class 'map'>, 'object': <class 'object'>, 'range': <class 'range'>, 'reversed': <class 'reversed'>, 'set': <class 'set'>, 'slice': <class 'slice'>, 'staticmethod': <class 'staticmethod'>, 'str': <class 'str'>, 'super': <class 'super'>, 'tuple': <class 'tuple'>, 'type': <class 'type'>, 'zip': <class 'zip'>, '__debug__': True, 'BaseException': <class 'BaseException'>, 'Exception': <class 'Exception'>, 'TypeError': <class 'TypeError'>, 'StopAsyncIteration': <class 'StopAsyncIteration'>, 'StopIteration': <class 'StopIteration'>, 'GeneratorExit': <class 'GeneratorExit'>, 'SystemExit': <class 'SystemExit'>, 'KeyboardInterrupt': <class 'KeyboardInterrupt'>, 'ImportError': <class 'ImportError'>, 'ModuleNotFoundError': <class 'ModuleNotFoundError'>, 'OSError': <class 'OSError'>, 'EnvironmentError': <class 'OSError'>, 'IOError': <class 'OSError'>, 'WindowsError': <class 'OSError'>, 'EOFError': <class 'EOFError'>, 'RuntimeError': <class 'RuntimeError'>, 'RecursionError': <class 'RecursionError'>, 'NotImplementedError': <class 'NotImplementedError'>, 'NameError': <class 'NameError'>, 'UnboundLocalError': <class 'UnboundLocalError'>, 'AttributeError': <class 'AttributeError'>, 'SyntaxError': <class 'SyntaxError'>, 'IndentationError': <class 'IndentationError'>, 'TabError': <class 'TabError'>, 'LookupError': <class 'LookupError'>, 'IndexError': <class 'IndexError'>, 'KeyError': <class 'KeyError'>, 'ValueError': <class 'ValueError'>, 'UnicodeError': <class 'UnicodeError'>, 'UnicodeEncodeError': <class 'UnicodeEncodeError'>, 'UnicodeDecodeError': <class 'UnicodeDecodeError'>, 'UnicodeTranslateError': <class 'UnicodeTranslateError'>, 'AssertionError': <class 'AssertionError'>, 'ArithmeticError': <class 'ArithmeticError'>, 'FloatingPointError': <class 'FloatingPointError'>, 'OverflowError': <class 'OverflowError'>, 'ZeroDivisionError': <class 'ZeroDivisionError'>, 'SystemError': <class 'SystemError'>, 'ReferenceError': <class 'ReferenceError'>, 'MemoryError': <class 'MemoryError'>, 'BufferError': <class 'BufferError'>, 'Warning': <class 'Warning'>, 'UserWarning': <class 'UserWarning'>, 'DeprecationWarning': <class 'DeprecationWarning'>, 'PendingDeprecationWarning': <class 'PendingDeprecationWarning'>, 'SyntaxWarning': <class 'SyntaxWarning'>, 'RuntimeWarning': <class 'RuntimeWarning'>, 'FutureWarning': <class 'FutureWarning'>, 'ImportWarning': <class 'ImportWarning'>, 'UnicodeWarning': <class 'UnicodeWarning'>, 'BytesWarning': <class 'BytesWarning'>, 'ResourceWarning': <class 'ResourceWarning'>, 'ConnectionError': <class 'ConnectionError'>, 'BlockingIOError': <class 'BlockingIOError'>, 'BrokenPipeError': <class 'BrokenPipeError'>, 'ChildProcessError': <class 'ChildProcessError'>, 'ConnectionAbortedError': <class 'ConnectionAbortedError'>, 'ConnectionRefusedError': <class 'ConnectionRefusedError'>, 'ConnectionResetError': <class 'ConnectionResetError'>, 'FileExistsError': <class 'FileExistsError'>, 'FileNotFoundError': <class 'FileNotFoundError'>, 'IsADirectoryError': <class 'IsADirectoryError'>, 'NotADirectoryError': <class 'NotADirectoryError'>, 'InterruptedError': <class 'InterruptedError'>, 'PermissionError': <class 'PermissionError'>, 'ProcessLookupError': <class 'ProcessLookupError'>, 'TimeoutError': <class 'TimeoutError'>, 'open': <built-in function open>, 'copyright': Copyright (c) 2001-2019 Python Software Foundation.\n",
      "All Rights Reserved.\n",
      "\n",
      "Copyright (c) 2000 BeOpen.com.\n",
      "All Rights Reserved.\n",
      "\n",
      "Copyright (c) 1995-2001 Corporation for National Research Initiatives.\n",
      "All Rights Reserved.\n",
      "\n",
      "Copyright (c) 1991-1995 Stichting Mathematisch Centrum, Amsterdam.\n",
      "All Rights Reserved., 'credits':     Thanks to CWI, CNRI, BeOpen.com, Zope Corporation and a cast of thousands\n",
      "    for supporting Python development.  See www.python.org for more information., 'license': Type license() to see the full license text, 'help': Type help() for interactive help, or help(object) for help about object., '__IPYTHON__': True, 'display': <function display at 0x000001A4FCA67E18>, 'get_ipython': <bound method InteractiveShell.get_ipython of <ipykernel.zmqshell.ZMQInteractiveShell object at 0x000001A4FDB3D390>>}, 'y': 1}\n"
     ]
    }
   ],
   "source": [
    "print(scope)"
   ]
  },
  {
   "cell_type": "code",
   "execution_count": 39,
   "metadata": {},
   "outputs": [
    {
     "data": {
      "text/plain": [
       "{'__name__': '__main__',\n",
       " '__doc__': 'Automatically created module for IPython interactive environment',\n",
       " '__package__': None,\n",
       " '__loader__': None,\n",
       " '__spec__': None,\n",
       " '__builtin__': <module 'builtins' (built-in)>,\n",
       " '__builtins__': <module 'builtins' (built-in)>,\n",
       " '_ih': ['',\n",
       "  \"names = ['a', 'b', 'c', 'd']\\nages = [10, 20, 30, 40]\\nfor i in range(len(names)):\\n    print(name[i], age[i])\",\n",
       "  \"names = ['a', 'b', 'c', 'd']\\nages = [10, 20, 30, 40]\\nfor i in range(len(names)):\\n    print(names[i], age[i])\",\n",
       "  \"names = ['a', 'b', 'c', 'd']\\nages = [10, 20, 30, 40]\\nfor i in range(len(names)):\\n    print(names[i], ages[i])\",\n",
       "  \"names = ['a', 'b', 'c', 'd']\\nages = [10, 20, 30, 40]\\nfor name, age in zip(names, ages):\\n    print(name, age)\",\n",
       "  'a = list(zip(names, ages))\\na',\n",
       "  \"names = ['a', 'b', 'c', 'd']\\nfor i in range(len(names)):\\n    print(i +1, names[i])\",\n",
       "  \"names = ['a', 'b', 'c', 'd']\\ni = 1\\nfor name in names:\\n    print(i, name)\\n    i += 1\",\n",
       "  \"names = ['a', 'b', 'c', 'd']\\nfor i, name in enumerate:\\n    print(i, names)\",\n",
       "  \"names = ['a', 'b', 'c', 'd']\\nfor i, name in enumerate:\\n    print(i, name)\",\n",
       "  \"names = ['a', 'b', 'c', 'd']\\nfor i, name in enumerate:\\n    print(i, name)\",\n",
       "  \"names = ['a', 'b', 'c', 'd']\\nfor i, name in enumerate(names):\\n    print(i, name)\",\n",
       "  'a = list(enumerate(names))',\n",
       "  'a',\n",
       "  'a = list(range(0, 10))\\nb = list()\\nfor item in a:\\n    b.append(item * item)\\n\\nprint(a, b)',\n",
       "  'b = [item * item for item in range(0, 10)]\\nb',\n",
       "  '[item for item in range(0, 100) if item % 3 == 0]',\n",
       "  'a = [item for item in range(0, 100) if item % 3 == 0]\\na',\n",
       "  'a = [item for item in range(0, 100) if item % 3 == 0]\\nprint(a)',\n",
       "  'coordinates = []\\nfor x in range(1,10):\\n    for y in range(0, 10):\\n        coordinates.append((x, y))\\n        \\nprint(coordinates)',\n",
       "  'coordinates = [(x, y) for x in range(0, 10) for y in range(0, 10)]\\nprint(coordinates)',\n",
       "  \"girls = ['alice', 'bernice', 'clarice']\\nboys = ['chris', 'arnold', 'bob']\\nresult = [boy + '+' girl for boy in boys for girl in girls if boy[0] == girl[0]]\\nprint(result)\",\n",
       "  \"girls = ['alice', 'bernice', 'clarice']\\nboys = ['chris', 'arnold', 'bob']\\nresult = [boy + '+' + girl for boy in boys for girl in girls if boy[0] == girl[0]]\\nprint(result)\",\n",
       "  \"girls = ['alice', 'bernice', 'clarice', 'betrice']\\nboys = ['chris', 'arnold', 'bob']\\nresult = [boy + '+' + girl for boy in boys for girl in girls if boy[0] == girl[0]]\\nprint(result)\",\n",
       "  'squares = {i : i ** 2 for i in range(0, 10)}\\nprint(suqares)',\n",
       "  'squares = {i : i ** 2 for i in range(0, 10)}\\nprint(squares)',\n",
       "  'square[5]',\n",
       "  'squares[5]',\n",
       "  'a = list[1, 2, 3]\\nb = a\\nb is a',\n",
       "  'a = [1, 2, 3]\\nb = a\\nb is a',\n",
       "  'a = None\\nb',\n",
       "  'b = None',\n",
       "  'x = 1 \\ndel x\\nx',\n",
       "  'a = [1, 2, 3]\\nb = a\\ndel a \\nb',\n",
       "  'exec(\\'print(\"hello,world!\")\\')',\n",
       "  \"scope = {}\\nexec('y = 1', scope)\\ny\",\n",
       "  \"get_ipython().run_line_magic('whos', '')\",\n",
       "  \"scope['y']\",\n",
       "  'print(scope)',\n",
       "  'vars()'],\n",
       " '_oh': {5: [('a', 10), ('b', 20), ('c', 30), ('d', 40)],\n",
       "  13: [(0, 'a'), (1, 'b'), (2, 'c'), (3, 'd')],\n",
       "  15: [0, 1, 4, 9, 16, 25, 36, 49, 64, 81],\n",
       "  16: [0,\n",
       "   3,\n",
       "   6,\n",
       "   9,\n",
       "   12,\n",
       "   15,\n",
       "   18,\n",
       "   21,\n",
       "   24,\n",
       "   27,\n",
       "   30,\n",
       "   33,\n",
       "   36,\n",
       "   39,\n",
       "   42,\n",
       "   45,\n",
       "   48,\n",
       "   51,\n",
       "   54,\n",
       "   57,\n",
       "   60,\n",
       "   63,\n",
       "   66,\n",
       "   69,\n",
       "   72,\n",
       "   75,\n",
       "   78,\n",
       "   81,\n",
       "   84,\n",
       "   87,\n",
       "   90,\n",
       "   93,\n",
       "   96,\n",
       "   99],\n",
       "  17: [0,\n",
       "   3,\n",
       "   6,\n",
       "   9,\n",
       "   12,\n",
       "   15,\n",
       "   18,\n",
       "   21,\n",
       "   24,\n",
       "   27,\n",
       "   30,\n",
       "   33,\n",
       "   36,\n",
       "   39,\n",
       "   42,\n",
       "   45,\n",
       "   48,\n",
       "   51,\n",
       "   54,\n",
       "   57,\n",
       "   60,\n",
       "   63,\n",
       "   66,\n",
       "   69,\n",
       "   72,\n",
       "   75,\n",
       "   78,\n",
       "   81,\n",
       "   84,\n",
       "   87,\n",
       "   90,\n",
       "   93,\n",
       "   96,\n",
       "   99],\n",
       "  27: 25,\n",
       "  29: True,\n",
       "  30: [1, 2, 3],\n",
       "  33: [1, 2, 3],\n",
       "  35: 9,\n",
       "  37: 1},\n",
       " '_dh': ['C:\\\\Users\\\\DELL'],\n",
       " 'In': ['',\n",
       "  \"names = ['a', 'b', 'c', 'd']\\nages = [10, 20, 30, 40]\\nfor i in range(len(names)):\\n    print(name[i], age[i])\",\n",
       "  \"names = ['a', 'b', 'c', 'd']\\nages = [10, 20, 30, 40]\\nfor i in range(len(names)):\\n    print(names[i], age[i])\",\n",
       "  \"names = ['a', 'b', 'c', 'd']\\nages = [10, 20, 30, 40]\\nfor i in range(len(names)):\\n    print(names[i], ages[i])\",\n",
       "  \"names = ['a', 'b', 'c', 'd']\\nages = [10, 20, 30, 40]\\nfor name, age in zip(names, ages):\\n    print(name, age)\",\n",
       "  'a = list(zip(names, ages))\\na',\n",
       "  \"names = ['a', 'b', 'c', 'd']\\nfor i in range(len(names)):\\n    print(i +1, names[i])\",\n",
       "  \"names = ['a', 'b', 'c', 'd']\\ni = 1\\nfor name in names:\\n    print(i, name)\\n    i += 1\",\n",
       "  \"names = ['a', 'b', 'c', 'd']\\nfor i, name in enumerate:\\n    print(i, names)\",\n",
       "  \"names = ['a', 'b', 'c', 'd']\\nfor i, name in enumerate:\\n    print(i, name)\",\n",
       "  \"names = ['a', 'b', 'c', 'd']\\nfor i, name in enumerate:\\n    print(i, name)\",\n",
       "  \"names = ['a', 'b', 'c', 'd']\\nfor i, name in enumerate(names):\\n    print(i, name)\",\n",
       "  'a = list(enumerate(names))',\n",
       "  'a',\n",
       "  'a = list(range(0, 10))\\nb = list()\\nfor item in a:\\n    b.append(item * item)\\n\\nprint(a, b)',\n",
       "  'b = [item * item for item in range(0, 10)]\\nb',\n",
       "  '[item for item in range(0, 100) if item % 3 == 0]',\n",
       "  'a = [item for item in range(0, 100) if item % 3 == 0]\\na',\n",
       "  'a = [item for item in range(0, 100) if item % 3 == 0]\\nprint(a)',\n",
       "  'coordinates = []\\nfor x in range(1,10):\\n    for y in range(0, 10):\\n        coordinates.append((x, y))\\n        \\nprint(coordinates)',\n",
       "  'coordinates = [(x, y) for x in range(0, 10) for y in range(0, 10)]\\nprint(coordinates)',\n",
       "  \"girls = ['alice', 'bernice', 'clarice']\\nboys = ['chris', 'arnold', 'bob']\\nresult = [boy + '+' girl for boy in boys for girl in girls if boy[0] == girl[0]]\\nprint(result)\",\n",
       "  \"girls = ['alice', 'bernice', 'clarice']\\nboys = ['chris', 'arnold', 'bob']\\nresult = [boy + '+' + girl for boy in boys for girl in girls if boy[0] == girl[0]]\\nprint(result)\",\n",
       "  \"girls = ['alice', 'bernice', 'clarice', 'betrice']\\nboys = ['chris', 'arnold', 'bob']\\nresult = [boy + '+' + girl for boy in boys for girl in girls if boy[0] == girl[0]]\\nprint(result)\",\n",
       "  'squares = {i : i ** 2 for i in range(0, 10)}\\nprint(suqares)',\n",
       "  'squares = {i : i ** 2 for i in range(0, 10)}\\nprint(squares)',\n",
       "  'square[5]',\n",
       "  'squares[5]',\n",
       "  'a = list[1, 2, 3]\\nb = a\\nb is a',\n",
       "  'a = [1, 2, 3]\\nb = a\\nb is a',\n",
       "  'a = None\\nb',\n",
       "  'b = None',\n",
       "  'x = 1 \\ndel x\\nx',\n",
       "  'a = [1, 2, 3]\\nb = a\\ndel a \\nb',\n",
       "  'exec(\\'print(\"hello,world!\")\\')',\n",
       "  \"scope = {}\\nexec('y = 1', scope)\\ny\",\n",
       "  \"get_ipython().run_line_magic('whos', '')\",\n",
       "  \"scope['y']\",\n",
       "  'print(scope)',\n",
       "  'vars()'],\n",
       " 'Out': {5: [('a', 10), ('b', 20), ('c', 30), ('d', 40)],\n",
       "  13: [(0, 'a'), (1, 'b'), (2, 'c'), (3, 'd')],\n",
       "  15: [0, 1, 4, 9, 16, 25, 36, 49, 64, 81],\n",
       "  16: [0,\n",
       "   3,\n",
       "   6,\n",
       "   9,\n",
       "   12,\n",
       "   15,\n",
       "   18,\n",
       "   21,\n",
       "   24,\n",
       "   27,\n",
       "   30,\n",
       "   33,\n",
       "   36,\n",
       "   39,\n",
       "   42,\n",
       "   45,\n",
       "   48,\n",
       "   51,\n",
       "   54,\n",
       "   57,\n",
       "   60,\n",
       "   63,\n",
       "   66,\n",
       "   69,\n",
       "   72,\n",
       "   75,\n",
       "   78,\n",
       "   81,\n",
       "   84,\n",
       "   87,\n",
       "   90,\n",
       "   93,\n",
       "   96,\n",
       "   99],\n",
       "  17: [0,\n",
       "   3,\n",
       "   6,\n",
       "   9,\n",
       "   12,\n",
       "   15,\n",
       "   18,\n",
       "   21,\n",
       "   24,\n",
       "   27,\n",
       "   30,\n",
       "   33,\n",
       "   36,\n",
       "   39,\n",
       "   42,\n",
       "   45,\n",
       "   48,\n",
       "   51,\n",
       "   54,\n",
       "   57,\n",
       "   60,\n",
       "   63,\n",
       "   66,\n",
       "   69,\n",
       "   72,\n",
       "   75,\n",
       "   78,\n",
       "   81,\n",
       "   84,\n",
       "   87,\n",
       "   90,\n",
       "   93,\n",
       "   96,\n",
       "   99],\n",
       "  27: 25,\n",
       "  29: True,\n",
       "  30: [1, 2, 3],\n",
       "  33: [1, 2, 3],\n",
       "  35: 9,\n",
       "  37: 1},\n",
       " 'get_ipython': <bound method InteractiveShell.get_ipython of <ipykernel.zmqshell.ZMQInteractiveShell object at 0x000001A4FDB3D390>>,\n",
       " 'exit': <IPython.core.autocall.ZMQExitAutocall at 0x1a4fe6a24e0>,\n",
       " 'quit': <IPython.core.autocall.ZMQExitAutocall at 0x1a4fe6a24e0>,\n",
       " '_': 1,\n",
       " '__': 9,\n",
       " '___': [1, 2, 3],\n",
       " '_i': 'print(scope)',\n",
       " '_ii': \"scope['y']\",\n",
       " '_iii': '%whos',\n",
       " '_i1': \"names = ['a', 'b', 'c', 'd']\\nages = [10, 20, 30, 40]\\nfor i in range(len(names)):\\n    print(name[i], age[i])\",\n",
       " 'names': ['a', 'b', 'c', 'd'],\n",
       " 'ages': [10, 20, 30, 40],\n",
       " 'i': 3,\n",
       " '_i2': \"names = ['a', 'b', 'c', 'd']\\nages = [10, 20, 30, 40]\\nfor i in range(len(names)):\\n    print(names[i], age[i])\",\n",
       " '_i3': \"names = ['a', 'b', 'c', 'd']\\nages = [10, 20, 30, 40]\\nfor i in range(len(names)):\\n    print(names[i], ages[i])\",\n",
       " '_i4': \"names = ['a', 'b', 'c', 'd']\\nages = [10, 20, 30, 40]\\nfor name, age in zip(names, ages):\\n    print(name, age)\",\n",
       " 'name': 'd',\n",
       " 'age': 40,\n",
       " '_i5': 'a = list(zip(names, ages))\\na',\n",
       " '_5': [('a', 10), ('b', 20), ('c', 30), ('d', 40)],\n",
       " '_i6': \"names = ['a', 'b', 'c', 'd']\\nfor i in range(len(names)):\\n    print(i +1, names[i])\",\n",
       " '_i7': \"names = ['a', 'b', 'c', 'd']\\ni = 1\\nfor name in names:\\n    print(i, name)\\n    i += 1\",\n",
       " '_i8': \"names = ['a', 'b', 'c', 'd']\\nfor i, name in enumerate:\\n    print(i, names)\",\n",
       " '_i9': \"names = ['a', 'b', 'c', 'd']\\nfor i, name in enumerate:\\n    print(i, name)\",\n",
       " '_i10': \"names = ['a', 'b', 'c', 'd']\\nfor i, name in enumerate:\\n    print(i, name)\",\n",
       " '_i11': \"names = ['a', 'b', 'c', 'd']\\nfor i, name in enumerate(names):\\n    print(i, name)\",\n",
       " '_i12': 'a = list(enumerate(names))',\n",
       " '_i13': 'a',\n",
       " '_13': [(0, 'a'), (1, 'b'), (2, 'c'), (3, 'd')],\n",
       " '_i14': 'a = list(range(0, 10))\\nb = list()\\nfor item in a:\\n    b.append(item * item)\\n\\nprint(a, b)',\n",
       " 'b': [1, 2, 3],\n",
       " 'item': 9,\n",
       " '_i15': 'b = [item * item for item in range(0, 10)]\\nb',\n",
       " '_15': [0, 1, 4, 9, 16, 25, 36, 49, 64, 81],\n",
       " '_i16': '[item for item in range(0, 100) if item % 3 == 0]',\n",
       " '_16': [0,\n",
       "  3,\n",
       "  6,\n",
       "  9,\n",
       "  12,\n",
       "  15,\n",
       "  18,\n",
       "  21,\n",
       "  24,\n",
       "  27,\n",
       "  30,\n",
       "  33,\n",
       "  36,\n",
       "  39,\n",
       "  42,\n",
       "  45,\n",
       "  48,\n",
       "  51,\n",
       "  54,\n",
       "  57,\n",
       "  60,\n",
       "  63,\n",
       "  66,\n",
       "  69,\n",
       "  72,\n",
       "  75,\n",
       "  78,\n",
       "  81,\n",
       "  84,\n",
       "  87,\n",
       "  90,\n",
       "  93,\n",
       "  96,\n",
       "  99],\n",
       " '_i17': 'a = [item for item in range(0, 100) if item % 3 == 0]\\na',\n",
       " '_17': [0,\n",
       "  3,\n",
       "  6,\n",
       "  9,\n",
       "  12,\n",
       "  15,\n",
       "  18,\n",
       "  21,\n",
       "  24,\n",
       "  27,\n",
       "  30,\n",
       "  33,\n",
       "  36,\n",
       "  39,\n",
       "  42,\n",
       "  45,\n",
       "  48,\n",
       "  51,\n",
       "  54,\n",
       "  57,\n",
       "  60,\n",
       "  63,\n",
       "  66,\n",
       "  69,\n",
       "  72,\n",
       "  75,\n",
       "  78,\n",
       "  81,\n",
       "  84,\n",
       "  87,\n",
       "  90,\n",
       "  93,\n",
       "  96,\n",
       "  99],\n",
       " '_i18': 'a = [item for item in range(0, 100) if item % 3 == 0]\\nprint(a)',\n",
       " '_i19': 'coordinates = []\\nfor x in range(1,10):\\n    for y in range(0, 10):\\n        coordinates.append((x, y))\\n        \\nprint(coordinates)',\n",
       " 'coordinates': [(0, 0),\n",
       "  (0, 1),\n",
       "  (0, 2),\n",
       "  (0, 3),\n",
       "  (0, 4),\n",
       "  (0, 5),\n",
       "  (0, 6),\n",
       "  (0, 7),\n",
       "  (0, 8),\n",
       "  (0, 9),\n",
       "  (1, 0),\n",
       "  (1, 1),\n",
       "  (1, 2),\n",
       "  (1, 3),\n",
       "  (1, 4),\n",
       "  (1, 5),\n",
       "  (1, 6),\n",
       "  (1, 7),\n",
       "  (1, 8),\n",
       "  (1, 9),\n",
       "  (2, 0),\n",
       "  (2, 1),\n",
       "  (2, 2),\n",
       "  (2, 3),\n",
       "  (2, 4),\n",
       "  (2, 5),\n",
       "  (2, 6),\n",
       "  (2, 7),\n",
       "  (2, 8),\n",
       "  (2, 9),\n",
       "  (3, 0),\n",
       "  (3, 1),\n",
       "  (3, 2),\n",
       "  (3, 3),\n",
       "  (3, 4),\n",
       "  (3, 5),\n",
       "  (3, 6),\n",
       "  (3, 7),\n",
       "  (3, 8),\n",
       "  (3, 9),\n",
       "  (4, 0),\n",
       "  (4, 1),\n",
       "  (4, 2),\n",
       "  (4, 3),\n",
       "  (4, 4),\n",
       "  (4, 5),\n",
       "  (4, 6),\n",
       "  (4, 7),\n",
       "  (4, 8),\n",
       "  (4, 9),\n",
       "  (5, 0),\n",
       "  (5, 1),\n",
       "  (5, 2),\n",
       "  (5, 3),\n",
       "  (5, 4),\n",
       "  (5, 5),\n",
       "  (5, 6),\n",
       "  (5, 7),\n",
       "  (5, 8),\n",
       "  (5, 9),\n",
       "  (6, 0),\n",
       "  (6, 1),\n",
       "  (6, 2),\n",
       "  (6, 3),\n",
       "  (6, 4),\n",
       "  (6, 5),\n",
       "  (6, 6),\n",
       "  (6, 7),\n",
       "  (6, 8),\n",
       "  (6, 9),\n",
       "  (7, 0),\n",
       "  (7, 1),\n",
       "  (7, 2),\n",
       "  (7, 3),\n",
       "  (7, 4),\n",
       "  (7, 5),\n",
       "  (7, 6),\n",
       "  (7, 7),\n",
       "  (7, 8),\n",
       "  (7, 9),\n",
       "  (8, 0),\n",
       "  (8, 1),\n",
       "  (8, 2),\n",
       "  (8, 3),\n",
       "  (8, 4),\n",
       "  (8, 5),\n",
       "  (8, 6),\n",
       "  (8, 7),\n",
       "  (8, 8),\n",
       "  (8, 9),\n",
       "  (9, 0),\n",
       "  (9, 1),\n",
       "  (9, 2),\n",
       "  (9, 3),\n",
       "  (9, 4),\n",
       "  (9, 5),\n",
       "  (9, 6),\n",
       "  (9, 7),\n",
       "  (9, 8),\n",
       "  (9, 9)],\n",
       " 'y': 9,\n",
       " '_i20': 'coordinates = [(x, y) for x in range(0, 10) for y in range(0, 10)]\\nprint(coordinates)',\n",
       " '_i21': \"girls = ['alice', 'bernice', 'clarice']\\nboys = ['chris', 'arnold', 'bob']\\nresult = [boy + '+' girl for boy in boys for girl in girls if boy[0] == girl[0]]\\nprint(result)\",\n",
       " '_i22': \"girls = ['alice', 'bernice', 'clarice']\\nboys = ['chris', 'arnold', 'bob']\\nresult = [boy + '+' + girl for boy in boys for girl in girls if boy[0] == girl[0]]\\nprint(result)\",\n",
       " 'girls': ['alice', 'bernice', 'clarice', 'betrice'],\n",
       " 'boys': ['chris', 'arnold', 'bob'],\n",
       " 'result': ['chris+clarice', 'arnold+alice', 'bob+bernice', 'bob+betrice'],\n",
       " '_i23': \"girls = ['alice', 'bernice', 'clarice', 'betrice']\\nboys = ['chris', 'arnold', 'bob']\\nresult = [boy + '+' + girl for boy in boys for girl in girls if boy[0] == girl[0]]\\nprint(result)\",\n",
       " '_i24': 'squares = {i : i ** 2 for i in range(0, 10)}\\nprint(suqares)',\n",
       " 'squares': {0: 0, 1: 1, 2: 4, 3: 9, 4: 16, 5: 25, 6: 36, 7: 49, 8: 64, 9: 81},\n",
       " '_i25': 'squares = {i : i ** 2 for i in range(0, 10)}\\nprint(squares)',\n",
       " '_i26': 'square[5]',\n",
       " '_i27': 'squares[5]',\n",
       " '_27': 25,\n",
       " '_i28': 'a = list[1, 2, 3]\\nb = a\\nb is a',\n",
       " '_i29': 'a = [1, 2, 3]\\nb = a\\nb is a',\n",
       " '_29': True,\n",
       " '_i30': 'a = None\\nb',\n",
       " '_30': [1, 2, 3],\n",
       " '_i31': 'b = None',\n",
       " '_i32': 'x = 1 \\ndel x\\nx',\n",
       " '_i33': 'a = [1, 2, 3]\\nb = a\\ndel a \\nb',\n",
       " '_33': [1, 2, 3],\n",
       " '_i34': 'exec(\\'print(\"hello,world!\")\\')',\n",
       " '_i35': \"scope = {}\\nexec('y = 1', scope)\\ny\",\n",
       " 'scope': {'__builtins__': {'__name__': 'builtins',\n",
       "   '__doc__': \"Built-in functions, exceptions, and other objects.\\n\\nNoteworthy: None is the `nil' object; Ellipsis represents `...' in slices.\",\n",
       "   '__package__': '',\n",
       "   '__loader__': _frozen_importlib.BuiltinImporter,\n",
       "   '__spec__': ModuleSpec(name='builtins', loader=<class '_frozen_importlib.BuiltinImporter'>),\n",
       "   '__build_class__': <function __build_class__>,\n",
       "   '__import__': <function __import__>,\n",
       "   'abs': <function abs(x, /)>,\n",
       "   'all': <function all(iterable, /)>,\n",
       "   'any': <function any(iterable, /)>,\n",
       "   'ascii': <function ascii(obj, /)>,\n",
       "   'bin': <function bin(number, /)>,\n",
       "   'breakpoint': <function breakpoint>,\n",
       "   'callable': <function callable(obj, /)>,\n",
       "   'chr': <function chr(i, /)>,\n",
       "   'compile': <function compile(source, filename, mode, flags=0, dont_inherit=False, optimize=-1)>,\n",
       "   'delattr': <function delattr(obj, name, /)>,\n",
       "   'dir': <function dir>,\n",
       "   'divmod': <function divmod(x, y, /)>,\n",
       "   'eval': <function eval(source, globals=None, locals=None, /)>,\n",
       "   'exec': <function exec(source, globals=None, locals=None, /)>,\n",
       "   'format': <function format(value, format_spec='', /)>,\n",
       "   'getattr': <function getattr>,\n",
       "   'globals': <function globals()>,\n",
       "   'hasattr': <function hasattr(obj, name, /)>,\n",
       "   'hash': <function hash(obj, /)>,\n",
       "   'hex': <function hex(number, /)>,\n",
       "   'id': <function id(obj, /)>,\n",
       "   'input': <bound method Kernel.raw_input of <ipykernel.ipkernel.IPythonKernel object at 0x000001A4FDB34FD0>>,\n",
       "   'isinstance': <function isinstance(obj, class_or_tuple, /)>,\n",
       "   'issubclass': <function issubclass(cls, class_or_tuple, /)>,\n",
       "   'iter': <function iter>,\n",
       "   'len': <function len(obj, /)>,\n",
       "   'locals': <function locals()>,\n",
       "   'max': <function max>,\n",
       "   'min': <function min>,\n",
       "   'next': <function next>,\n",
       "   'oct': <function oct(number, /)>,\n",
       "   'ord': <function ord(c, /)>,\n",
       "   'pow': <function pow(x, y, z=None, /)>,\n",
       "   'print': <function print>,\n",
       "   'repr': <function repr(obj, /)>,\n",
       "   'round': <function round(number, ndigits=None)>,\n",
       "   'setattr': <function setattr(obj, name, value, /)>,\n",
       "   'sorted': <function sorted(iterable, /, *, key=None, reverse=False)>,\n",
       "   'sum': <function sum(iterable, start=0, /)>,\n",
       "   'vars': <function vars>,\n",
       "   'None': None,\n",
       "   'Ellipsis': Ellipsis,\n",
       "   'NotImplemented': NotImplemented,\n",
       "   'False': False,\n",
       "   'True': True,\n",
       "   'bool': bool,\n",
       "   'memoryview': memoryview,\n",
       "   'bytearray': bytearray,\n",
       "   'bytes': bytes,\n",
       "   'classmethod': classmethod,\n",
       "   'complex': complex,\n",
       "   'dict': dict,\n",
       "   'enumerate': enumerate,\n",
       "   'filter': filter,\n",
       "   'float': float,\n",
       "   'frozenset': frozenset,\n",
       "   'property': property,\n",
       "   'int': int,\n",
       "   'list': list,\n",
       "   'map': map,\n",
       "   'object': object,\n",
       "   'range': range,\n",
       "   'reversed': reversed,\n",
       "   'set': set,\n",
       "   'slice': slice,\n",
       "   'staticmethod': staticmethod,\n",
       "   'str': str,\n",
       "   'super': super,\n",
       "   'tuple': tuple,\n",
       "   'type': type,\n",
       "   'zip': zip,\n",
       "   '__debug__': True,\n",
       "   'BaseException': BaseException,\n",
       "   'Exception': Exception,\n",
       "   'TypeError': TypeError,\n",
       "   'StopAsyncIteration': StopAsyncIteration,\n",
       "   'StopIteration': StopIteration,\n",
       "   'GeneratorExit': GeneratorExit,\n",
       "   'SystemExit': SystemExit,\n",
       "   'KeyboardInterrupt': KeyboardInterrupt,\n",
       "   'ImportError': ImportError,\n",
       "   'ModuleNotFoundError': ModuleNotFoundError,\n",
       "   'OSError': OSError,\n",
       "   'EnvironmentError': OSError,\n",
       "   'IOError': OSError,\n",
       "   'WindowsError': OSError,\n",
       "   'EOFError': EOFError,\n",
       "   'RuntimeError': RuntimeError,\n",
       "   'RecursionError': RecursionError,\n",
       "   'NotImplementedError': NotImplementedError,\n",
       "   'NameError': NameError,\n",
       "   'UnboundLocalError': UnboundLocalError,\n",
       "   'AttributeError': AttributeError,\n",
       "   'SyntaxError': SyntaxError,\n",
       "   'IndentationError': IndentationError,\n",
       "   'TabError': TabError,\n",
       "   'LookupError': LookupError,\n",
       "   'IndexError': IndexError,\n",
       "   'KeyError': KeyError,\n",
       "   'ValueError': ValueError,\n",
       "   'UnicodeError': UnicodeError,\n",
       "   'UnicodeEncodeError': UnicodeEncodeError,\n",
       "   'UnicodeDecodeError': UnicodeDecodeError,\n",
       "   'UnicodeTranslateError': UnicodeTranslateError,\n",
       "   'AssertionError': AssertionError,\n",
       "   'ArithmeticError': ArithmeticError,\n",
       "   'FloatingPointError': FloatingPointError,\n",
       "   'OverflowError': OverflowError,\n",
       "   'ZeroDivisionError': ZeroDivisionError,\n",
       "   'SystemError': SystemError,\n",
       "   'ReferenceError': ReferenceError,\n",
       "   'MemoryError': MemoryError,\n",
       "   'BufferError': BufferError,\n",
       "   'Warning': Warning,\n",
       "   'UserWarning': UserWarning,\n",
       "   'DeprecationWarning': DeprecationWarning,\n",
       "   'PendingDeprecationWarning': PendingDeprecationWarning,\n",
       "   'SyntaxWarning': SyntaxWarning,\n",
       "   'RuntimeWarning': RuntimeWarning,\n",
       "   'FutureWarning': FutureWarning,\n",
       "   'ImportWarning': ImportWarning,\n",
       "   'UnicodeWarning': UnicodeWarning,\n",
       "   'BytesWarning': BytesWarning,\n",
       "   'ResourceWarning': ResourceWarning,\n",
       "   'ConnectionError': ConnectionError,\n",
       "   'BlockingIOError': BlockingIOError,\n",
       "   'BrokenPipeError': BrokenPipeError,\n",
       "   'ChildProcessError': ChildProcessError,\n",
       "   'ConnectionAbortedError': ConnectionAbortedError,\n",
       "   'ConnectionRefusedError': ConnectionRefusedError,\n",
       "   'ConnectionResetError': ConnectionResetError,\n",
       "   'FileExistsError': FileExistsError,\n",
       "   'FileNotFoundError': FileNotFoundError,\n",
       "   'IsADirectoryError': IsADirectoryError,\n",
       "   'NotADirectoryError': NotADirectoryError,\n",
       "   'InterruptedError': InterruptedError,\n",
       "   'PermissionError': PermissionError,\n",
       "   'ProcessLookupError': ProcessLookupError,\n",
       "   'TimeoutError': TimeoutError,\n",
       "   'open': <function io.open(file, mode='r', buffering=-1, encoding=None, errors=None, newline=None, closefd=True, opener=None)>,\n",
       "   'copyright': Copyright (c) 2001-2019 Python Software Foundation.\n",
       "   All Rights Reserved.\n",
       "   \n",
       "   Copyright (c) 2000 BeOpen.com.\n",
       "   All Rights Reserved.\n",
       "   \n",
       "   Copyright (c) 1995-2001 Corporation for National Research Initiatives.\n",
       "   All Rights Reserved.\n",
       "   \n",
       "   Copyright (c) 1991-1995 Stichting Mathematisch Centrum, Amsterdam.\n",
       "   All Rights Reserved.,\n",
       "   'credits':     Thanks to CWI, CNRI, BeOpen.com, Zope Corporation and a cast of thousands\n",
       "       for supporting Python development.  See www.python.org for more information.,\n",
       "   'license': Type license() to see the full license text,\n",
       "   'help': Type help() for interactive help, or help(object) for help about object.,\n",
       "   '__IPYTHON__': True,\n",
       "   'display': <function IPython.core.display.display(*objs, include=None, exclude=None, metadata=None, transient=None, display_id=None, **kwargs)>,\n",
       "   'get_ipython': <bound method InteractiveShell.get_ipython of <ipykernel.zmqshell.ZMQInteractiveShell object at 0x000001A4FDB3D390>>},\n",
       "  'y': 1},\n",
       " '_35': 9,\n",
       " '_i36': '%whos',\n",
       " '_i37': \"scope['y']\",\n",
       " '_37': 1,\n",
       " '_i38': 'print(scope)',\n",
       " '_i39': 'vars()'}"
      ]
     },
     "execution_count": 39,
     "metadata": {},
     "output_type": "execute_result"
    }
   ],
   "source": [
    "vars()"
   ]
  },
  {
   "cell_type": "code",
   "execution_count": 40,
   "metadata": {},
   "outputs": [
    {
     "data": {
      "text/plain": [
       "6"
      ]
     },
     "execution_count": 40,
     "metadata": {},
     "output_type": "execute_result"
    }
   ],
   "source": [
    "eval('1 + 2 + 3')"
   ]
  },
  {
   "cell_type": "code",
   "execution_count": 41,
   "metadata": {},
   "outputs": [
    {
     "name": "stdout",
     "output_type": "stream",
     "text": [
      "plz input an expression: 1+3+4\n",
      "8\n"
     ]
    }
   ],
   "source": [
    "expr = input('plz input an expression: ')\n",
    "print(eval(expr))"
   ]
  },
  {
   "cell_type": "code",
   "execution_count": 45,
   "metadata": {},
   "outputs": [],
   "source": [
    "def hello(name):\n",
    "    print(\"hello, \" + name + \"!\")"
   ]
  },
  {
   "cell_type": "code",
   "execution_count": 43,
   "metadata": {},
   "outputs": [
    {
     "data": {
      "text/plain": [
       "<function __main__.hello()>"
      ]
     },
     "execution_count": 43,
     "metadata": {},
     "output_type": "execute_result"
    }
   ],
   "source": [
    "hello"
   ]
  },
  {
   "cell_type": "code",
   "execution_count": 46,
   "metadata": {},
   "outputs": [
    {
     "name": "stdout",
     "output_type": "stream",
     "text": [
      "hello, liangyu!\n"
     ]
    }
   ],
   "source": [
    "hello('liangyu')"
   ]
  },
  {
   "cell_type": "code",
   "execution_count": 47,
   "metadata": {},
   "outputs": [],
   "source": [
    "hello?"
   ]
  },
  {
   "cell_type": "code",
   "execution_count": 48,
   "metadata": {},
   "outputs": [
    {
     "data": {
      "text/plain": [
       "True"
      ]
     },
     "execution_count": 48,
     "metadata": {},
     "output_type": "execute_result"
    }
   ],
   "source": [
    "callable(hello)"
   ]
  },
  {
   "cell_type": "code",
   "execution_count": 49,
   "metadata": {},
   "outputs": [],
   "source": [
    "def hello(name):\n",
    "    'say hello to sb whose name id defined by name'\n",
    "    print(\"hello, \" + name + \"!\")"
   ]
  },
  {
   "cell_type": "code",
   "execution_count": 50,
   "metadata": {},
   "outputs": [],
   "source": [
    "hello?"
   ]
  },
  {
   "cell_type": "code",
   "execution_count": 51,
   "metadata": {},
   "outputs": [
    {
     "name": "stdout",
     "output_type": "stream",
     "text": [
      "hello, liangyu!\n",
      "None\n"
     ]
    }
   ],
   "source": [
    "print(hello('liangyu'))"
   ]
  },
  {
   "cell_type": "code",
   "execution_count": 53,
   "metadata": {},
   "outputs": [
    {
     "name": "stdout",
     "output_type": "stream",
     "text": [
      "******************************\n",
      "*           hello            *\n",
      "******************************\n"
     ]
    }
   ],
   "source": [
    "def print_banner(text,width):\n",
    "    print('*' * width)\n",
    "    print(text.center(width - 2).center(width, '*'))\n",
    "    print('*' * width)\n",
    "    \n",
    "print_banner('hello', 30)"
   ]
  },
  {
   "cell_type": "code",
   "execution_count": 56,
   "metadata": {},
   "outputs": [
    {
     "name": "stdout",
     "output_type": "stream",
     "text": [
      "##############################\n",
      "#           hello            #\n",
      "##############################\n"
     ]
    }
   ],
   "source": [
    "def print_banner(text,width):\n",
    "    symbol = '#'\n",
    "    print(symbol * width)\n",
    "    print(text.center(width - 2).center(width, symbol))\n",
    "    print(symbol * width)\n",
    "    \n",
    "print_banner('hello', 30)"
   ]
  },
  {
   "cell_type": "code",
   "execution_count": 57,
   "metadata": {},
   "outputs": [
    {
     "name": "stdout",
     "output_type": "stream",
     "text": [
      "[1, 1, 2, 3, 5, 8, 13, 21, 34, 55, 89]\n"
     ]
    }
   ],
   "source": [
    "fibs = [1, 1]\n",
    "for i in range(0, 9):\n",
    "    fibs.append(fibs[-2] + fibs[-1])# len(fibs) -1 \n",
    "print(fibs)"
   ]
  },
  {
   "cell_type": "code",
   "execution_count": 58,
   "metadata": {},
   "outputs": [
    {
     "data": {
      "text/plain": [
       "8"
      ]
     },
     "execution_count": 58,
     "metadata": {},
     "output_type": "execute_result"
    }
   ],
   "source": [
    "fibs[5]"
   ]
  },
  {
   "cell_type": "code",
   "execution_count": 59,
   "metadata": {},
   "outputs": [
    {
     "name": "stdout",
     "output_type": "stream",
     "text": [
      "how many Fibonacci numbers do you want?5\n",
      "[1, 1, 2, 3, 5]\n"
     ]
    }
   ],
   "source": [
    "def fibs(num):\n",
    "    result = [1, 1]\n",
    "    for i in range(num - 2 ):\n",
    "        result.append(result[-2] + result[-1])# len(fibs) -1 \n",
    "    return  result\n",
    "\n",
    "num = int(input('how many Fibonacci numbers do you want?'))\n",
    "print(fibs(num))"
   ]
  },
  {
   "cell_type": "code",
   "execution_count": 63,
   "metadata": {},
   "outputs": [
    {
     "name": "stdout",
     "output_type": "stream",
     "text": [
      "how many Fibonacci numbers do you want?6\n",
      "Total number of different ways:8\n"
     ]
    }
   ],
   "source": [
    "def fibs(index):\n",
    "    result = [1, 1]\n",
    "    for i in range(index - 2 ):\n",
    "        result.append(result[-2] + result[-1])# len(fibs) -1 \n",
    "    return  result[-1]\n",
    "\n",
    "num = int(input('how many Fibonacci numbers do you want?'))\n",
    "print('Total number of different ways:{}'.format(fibs(num)))"
   ]
  },
  {
   "cell_type": "code",
   "execution_count": 64,
   "metadata": {},
   "outputs": [
    {
     "name": "stdout",
     "output_type": "stream",
     "text": [
      "how many Fibonacci numbers do you want?6\n",
      "Total number of different ways:13\n"
     ]
    }
   ],
   "source": [
    "def fibs(index):\n",
    "    item_before_last, last_item = 1, 1\n",
    "    result = [1, 1]\n",
    "    for i in range(index - 2 ):\n",
    "        item_before_last, last_item = last_item, item_before_last + last_item\n",
    "    return  last_item\n",
    "\n",
    "num = int(input('how many Fibonacci numbers do you want?'))\n",
    "print('Total number of different ways:{}'.format(fibs(num + 1)))"
   ]
  },
  {
   "cell_type": "code",
   "execution_count": 66,
   "metadata": {},
   "outputs": [
    {
     "name": "stdout",
     "output_type": "stream",
     "text": [
      "#                                                          *['#', ' ', ' ', ' ', ' ', ' ', ' ', ' ', ' ', ' ', ' ', ' ', ' ', ' ', ' ', ' ', ' ', ' ', ' ', ' ', ' ', ' ', ' ', ' ', ' ', ' ', ' ', ' ', ' ', ' ', ' ', ' ', ' ', ' ', ' ', ' ', ' ', ' ', ' ', ' ', ' ', ' ', ' ', ' ', ' ', ' ', ' ', ' ', ' ', ' ', ' ', ' ', ' ', ' ', ' ', ' ', ' ', ' ', ' ', '*']\r"
     ]
    }
   ],
   "source": [
    "import math\n",
    "length = 60\n",
    "def wait():\n",
    "    y=0\n",
    "    while y < 500000:\n",
    "        z = math.sin(x) * math.exp(x)\n",
    "        y += 1\n",
    "        \n",
    "        \n",
    "bar = list()\n",
    "for i in range(0, length):\n",
    "    bar.append(' ')\n",
    "x = 0\n",
    "y = length - 1\n",
    "\n",
    "for i in range(0, length):\n",
    "    bar[x] = '*'\n",
    "    bar[y] = '#'\n",
    "    for ch in bar:\n",
    "        print(ch, sep=' ', end='')\n",
    "    print(bar, end='')\n",
    "    wait()\n",
    "    bar[x] = ' '\n",
    "    bar[y] = ' '\n",
    "    x += 1\n",
    "    y -= 1\n",
    "    print('\\r', end='')"
   ]
  },
  {
   "cell_type": "code",
   "execution_count": null,
   "metadata": {},
   "outputs": [],
   "source": [
    "setup_ants_positions()\n",
    "while not is_bar_empty():\n",
    "    update_bar()\n",
    "    show_bar()\n",
    "    wait()\n",
    "    update_ants_positions()"
   ]
  },
  {
   "cell_type": "code",
   "execution_count": 67,
   "metadata": {},
   "outputs": [
    {
     "name": "stdout",
     "output_type": "stream",
     "text": [
      "2\n"
     ]
    }
   ],
   "source": [
    "def change_it(a):\n",
    "    a = a * 2\n",
    "    \n",
    "x = 2\n",
    "change_it(x)\n",
    "print(x)"
   ]
  },
  {
   "cell_type": "code",
   "execution_count": 68,
   "metadata": {},
   "outputs": [
    {
     "name": "stdout",
     "output_type": "stream",
     "text": [
      "['Hello', 'hi']\n"
     ]
    }
   ],
   "source": [
    "def change_it(a):\n",
    "    a[0] = 'Hello'\n",
    "    \n",
    "x = ['hello','hi']\n",
    "change_it(x)\n",
    "print(x)"
   ]
  },
  {
   "cell_type": "code",
   "execution_count": 69,
   "metadata": {},
   "outputs": [
    {
     "name": "stdout",
     "output_type": "stream",
     "text": [
      "['hello', 'hi']\n"
     ]
    }
   ],
   "source": [
    "def change_it(a):\n",
    "    #a[0] = 'Hello'\n",
    "    a = ['Hello', 'hi']# 修改是可以的，但是没有办法指向一个新的对象的\n",
    "x = ['hello','hi']\n",
    "change_it(x)\n",
    "print(x)"
   ]
  },
  {
   "cell_type": "code",
   "execution_count": 70,
   "metadata": {},
   "outputs": [
    {
     "ename": "TypeError",
     "evalue": "'str' object does not support item assignment",
     "output_type": "error",
     "traceback": [
      "\u001b[1;31m---------------------------------------------------------------------------\u001b[0m",
      "\u001b[1;31mTypeError\u001b[0m                                 Traceback (most recent call last)",
      "\u001b[1;32m<ipython-input-70-2d70462c70ac>\u001b[0m in \u001b[0;36m<module>\u001b[1;34m\u001b[0m\n\u001b[0;32m      3\u001b[0m \u001b[1;33m\u001b[0m\u001b[0m\n\u001b[0;32m      4\u001b[0m \u001b[0mx\u001b[0m \u001b[1;33m=\u001b[0m \u001b[1;34m'hello'\u001b[0m\u001b[1;33m\u001b[0m\u001b[1;33m\u001b[0m\u001b[0m\n\u001b[1;32m----> 5\u001b[1;33m \u001b[0mchange_it\u001b[0m\u001b[1;33m(\u001b[0m\u001b[0mx\u001b[0m\u001b[1;33m)\u001b[0m\u001b[1;33m\u001b[0m\u001b[1;33m\u001b[0m\u001b[0m\n\u001b[0m\u001b[0;32m      6\u001b[0m \u001b[0mprint\u001b[0m\u001b[1;33m(\u001b[0m\u001b[0mx\u001b[0m\u001b[1;33m)\u001b[0m\u001b[1;33m\u001b[0m\u001b[1;33m\u001b[0m\u001b[0m\n",
      "\u001b[1;32m<ipython-input-70-2d70462c70ac>\u001b[0m in \u001b[0;36mchange_it\u001b[1;34m(a)\u001b[0m\n\u001b[0;32m      1\u001b[0m \u001b[1;32mdef\u001b[0m \u001b[0mchange_it\u001b[0m\u001b[1;33m(\u001b[0m\u001b[0ma\u001b[0m\u001b[1;33m)\u001b[0m\u001b[1;33m:\u001b[0m\u001b[1;33m\u001b[0m\u001b[1;33m\u001b[0m\u001b[0m\n\u001b[1;32m----> 2\u001b[1;33m     \u001b[0ma\u001b[0m\u001b[1;33m[\u001b[0m\u001b[1;36m0\u001b[0m\u001b[1;33m]\u001b[0m \u001b[1;33m=\u001b[0m \u001b[1;34m'H'\u001b[0m\u001b[1;33m\u001b[0m\u001b[1;33m\u001b[0m\u001b[0m\n\u001b[0m\u001b[0;32m      3\u001b[0m \u001b[1;33m\u001b[0m\u001b[0m\n\u001b[0;32m      4\u001b[0m \u001b[0mx\u001b[0m \u001b[1;33m=\u001b[0m \u001b[1;34m'hello'\u001b[0m\u001b[1;33m\u001b[0m\u001b[1;33m\u001b[0m\u001b[0m\n\u001b[0;32m      5\u001b[0m \u001b[0mchange_it\u001b[0m\u001b[1;33m(\u001b[0m\u001b[0mx\u001b[0m\u001b[1;33m)\u001b[0m\u001b[1;33m\u001b[0m\u001b[1;33m\u001b[0m\u001b[0m\n",
      "\u001b[1;31mTypeError\u001b[0m: 'str' object does not support item assignment"
     ]
    }
   ],
   "source": [
    "def change_it(a):\n",
    "    a[0] = 'H'\n",
    "    \n",
    "x = 'hello'\n",
    "change_it(x)\n",
    "print(x)"
   ]
  },
  {
   "cell_type": "code",
   "execution_count": 71,
   "metadata": {},
   "outputs": [
    {
     "name": "stdout",
     "output_type": "stream",
     "text": [
      "hi, world!\n"
     ]
    }
   ],
   "source": [
    "def hello(greeting, name):\n",
    "    print('{}, {}!'.format(greeting,name))\n",
    "    \n",
    "hello('hi', 'world')"
   ]
  },
  {
   "cell_type": "code",
   "execution_count": 72,
   "metadata": {},
   "outputs": [
    {
     "name": "stdout",
     "output_type": "stream",
     "text": [
      "hi, world!\n"
     ]
    }
   ],
   "source": [
    "hello(greeting= 'hi', name= 'world')"
   ]
  },
  {
   "cell_type": "code",
   "execution_count": 73,
   "metadata": {},
   "outputs": [
    {
     "name": "stdout",
     "output_type": "stream",
     "text": [
      "hi, world!\n"
     ]
    }
   ],
   "source": [
    "hello(name= 'world', greeting= 'hi')"
   ]
  },
  {
   "cell_type": "code",
   "execution_count": 76,
   "metadata": {},
   "outputs": [
    {
     "name": "stdout",
     "output_type": "stream",
     "text": [
      "Hello, World!\n",
      "hi, World!\n",
      "hi, lliangyu!\n",
      "Hello, liangyu!\n"
     ]
    }
   ],
   "source": [
    "def hello(greeting='Hello', name='World'):\n",
    "    print('{}, {}!'.format(greeting,name))\n",
    "    \n",
    "hello()\n",
    "hello('hi')\n",
    "hello('hi','lliangyu')\n",
    "hello(name='liangyu')"
   ]
  },
  {
   "cell_type": "code",
   "execution_count": 80,
   "metadata": {},
   "outputs": [
    {
     "name": "stdout",
     "output_type": "stream",
     "text": [
      "[0, 1, 2, 3, 4, 5, 6, 7]\n",
      "[2, 3, 4, 5, 6, 7]\n",
      "[2, 4, 6]\n"
     ]
    }
   ],
   "source": [
    "def interval(start, end=None, step=1):\n",
    "    if end is None:\n",
    "        start, end = 0, start\n",
    "    result = []\n",
    "    i = start\n",
    "    while i < end:\n",
    "        result.append(i)\n",
    "        i += step\n",
    "    return result\n",
    "    \n",
    "\n",
    "print(interval(8))\n",
    "print(interval(2, 8))\n",
    "print(interval(2, 8, 2))"
   ]
  },
  {
   "cell_type": "code",
   "execution_count": 82,
   "metadata": {},
   "outputs": [
    {
     "name": "stdout",
     "output_type": "stream",
     "text": [
      "OK\n"
     ]
    }
   ],
   "source": [
    "def sum(*params):\n",
    "    result = 0\n",
    "    for item in params:\n",
    "        result += item\n",
    "    return result\n",
    "\n",
    "\n",
    "assert(sum(1, 2, 3, 4) == 10)\n",
    "print('OK')"
   ]
  },
  {
   "cell_type": "code",
   "execution_count": 83,
   "metadata": {},
   "outputs": [
    {
     "name": "stdout",
     "output_type": "stream",
     "text": [
      "10\n"
     ]
    }
   ],
   "source": [
    "def print_sum(*params):\n",
    "    result = 0\n",
    "    for item in params:\n",
    "        result += item\n",
    "    print(result)\n",
    "\n",
    "print_sum(1, 2, 3, 4)\n"
   ]
  },
  {
   "cell_type": "code",
   "execution_count": 84,
   "metadata": {},
   "outputs": [
    {
     "name": "stdout",
     "output_type": "stream",
     "text": [
      "sum: 10\n"
     ]
    }
   ],
   "source": [
    "def print_sum(label,*params):\n",
    "    result = 0\n",
    "    for item in params:\n",
    "        result += item\n",
    "    print(label, result)\n",
    "\n",
    "print_sum('sum:',1, 2, 3, 4)\n"
   ]
  },
  {
   "cell_type": "code",
   "execution_count": 85,
   "metadata": {},
   "outputs": [
    {
     "name": "stdout",
     "output_type": "stream",
     "text": [
      "和 10\n"
     ]
    }
   ],
   "source": [
    "def print_sum(*params, label='sum'):\n",
    "    result = 0\n",
    "    for item in params:\n",
    "        result += item\n",
    "    print(label, result)\n",
    "\n",
    "print_sum(1, 2, 3, 4, label ='和')\n",
    "\n"
   ]
  },
  {
   "cell_type": "code",
   "execution_count": 86,
   "metadata": {},
   "outputs": [
    {
     "data": {
      "text/plain": [
       "15"
      ]
     },
     "execution_count": 86,
     "metadata": {},
     "output_type": "execute_result"
    }
   ],
   "source": [
    "x = [1, 2, 3, 4, 5]\n",
    "sum(*x)"
   ]
  },
  {
   "cell_type": "code",
   "execution_count": 87,
   "metadata": {},
   "outputs": [
    {
     "data": {
      "text/plain": [
       "{'__name__': '__main__',\n",
       " '__doc__': 'Automatically created module for IPython interactive environment',\n",
       " '__package__': None,\n",
       " '__loader__': None,\n",
       " '__spec__': None,\n",
       " '__builtin__': <module 'builtins' (built-in)>,\n",
       " '__builtins__': <module 'builtins' (built-in)>,\n",
       " '_ih': ['',\n",
       "  \"names = ['a', 'b', 'c', 'd']\\nages = [10, 20, 30, 40]\\nfor i in range(len(names)):\\n    print(name[i], age[i])\",\n",
       "  \"names = ['a', 'b', 'c', 'd']\\nages = [10, 20, 30, 40]\\nfor i in range(len(names)):\\n    print(names[i], age[i])\",\n",
       "  \"names = ['a', 'b', 'c', 'd']\\nages = [10, 20, 30, 40]\\nfor i in range(len(names)):\\n    print(names[i], ages[i])\",\n",
       "  \"names = ['a', 'b', 'c', 'd']\\nages = [10, 20, 30, 40]\\nfor name, age in zip(names, ages):\\n    print(name, age)\",\n",
       "  'a = list(zip(names, ages))\\na',\n",
       "  \"names = ['a', 'b', 'c', 'd']\\nfor i in range(len(names)):\\n    print(i +1, names[i])\",\n",
       "  \"names = ['a', 'b', 'c', 'd']\\ni = 1\\nfor name in names:\\n    print(i, name)\\n    i += 1\",\n",
       "  \"names = ['a', 'b', 'c', 'd']\\nfor i, name in enumerate:\\n    print(i, names)\",\n",
       "  \"names = ['a', 'b', 'c', 'd']\\nfor i, name in enumerate:\\n    print(i, name)\",\n",
       "  \"names = ['a', 'b', 'c', 'd']\\nfor i, name in enumerate:\\n    print(i, name)\",\n",
       "  \"names = ['a', 'b', 'c', 'd']\\nfor i, name in enumerate(names):\\n    print(i, name)\",\n",
       "  'a = list(enumerate(names))',\n",
       "  'a',\n",
       "  'a = list(range(0, 10))\\nb = list()\\nfor item in a:\\n    b.append(item * item)\\n\\nprint(a, b)',\n",
       "  'b = [item * item for item in range(0, 10)]\\nb',\n",
       "  '[item for item in range(0, 100) if item % 3 == 0]',\n",
       "  'a = [item for item in range(0, 100) if item % 3 == 0]\\na',\n",
       "  'a = [item for item in range(0, 100) if item % 3 == 0]\\nprint(a)',\n",
       "  'coordinates = []\\nfor x in range(1,10):\\n    for y in range(0, 10):\\n        coordinates.append((x, y))\\n        \\nprint(coordinates)',\n",
       "  'coordinates = [(x, y) for x in range(0, 10) for y in range(0, 10)]\\nprint(coordinates)',\n",
       "  \"girls = ['alice', 'bernice', 'clarice']\\nboys = ['chris', 'arnold', 'bob']\\nresult = [boy + '+' girl for boy in boys for girl in girls if boy[0] == girl[0]]\\nprint(result)\",\n",
       "  \"girls = ['alice', 'bernice', 'clarice']\\nboys = ['chris', 'arnold', 'bob']\\nresult = [boy + '+' + girl for boy in boys for girl in girls if boy[0] == girl[0]]\\nprint(result)\",\n",
       "  \"girls = ['alice', 'bernice', 'clarice', 'betrice']\\nboys = ['chris', 'arnold', 'bob']\\nresult = [boy + '+' + girl for boy in boys for girl in girls if boy[0] == girl[0]]\\nprint(result)\",\n",
       "  'squares = {i : i ** 2 for i in range(0, 10)}\\nprint(suqares)',\n",
       "  'squares = {i : i ** 2 for i in range(0, 10)}\\nprint(squares)',\n",
       "  'square[5]',\n",
       "  'squares[5]',\n",
       "  'a = list[1, 2, 3]\\nb = a\\nb is a',\n",
       "  'a = [1, 2, 3]\\nb = a\\nb is a',\n",
       "  'a = None\\nb',\n",
       "  'b = None',\n",
       "  'x = 1 \\ndel x\\nx',\n",
       "  'a = [1, 2, 3]\\nb = a\\ndel a \\nb',\n",
       "  'exec(\\'print(\"hello,world!\")\\')',\n",
       "  \"scope = {}\\nexec('y = 1', scope)\\ny\",\n",
       "  \"get_ipython().run_line_magic('whos', '')\",\n",
       "  \"scope['y']\",\n",
       "  'print(scope)',\n",
       "  'vars()',\n",
       "  \"eval('1 + 2 + 3')\",\n",
       "  \"expr = input('plz input an expression: ')\\nprint(eval(expr))\",\n",
       "  'def hello():\\n    print(\"hello, \" + name + \"!\")',\n",
       "  'hello',\n",
       "  \"hello('liangyu')\",\n",
       "  'def hello(name):\\n    print(\"hello, \" + name + \"!\")',\n",
       "  \"hello('liangyu')\",\n",
       "  \"get_ipython().run_line_magic('pinfo', 'hello')\",\n",
       "  'callable(hello)',\n",
       "  'def hello(name):\\n    \\'say hello to sb whose name id defined by name\\'\\n    print(\"hello, \" + name + \"!\")',\n",
       "  \"get_ipython().run_line_magic('pinfo', 'hello')\",\n",
       "  \"print(hello('liangyu'))\",\n",
       "  \"def print_banner(text):\\n    print('*' * 40)\\n    print(text.center(38).center(40, '*'))\\n    print('*' * 40)\\n    \\nprint_banner('hello')\",\n",
       "  \"def print_banner(text,width):\\n    print('*' * width)\\n    print(text.center(width - 2).center(width, '*'))\\n    print('*' * width)\\n    \\nprint_banner('hello', 30)\",\n",
       "  \"def print_banner(text,width):\\n    symbol = '#'\\n    print('symbol' * width)\\n    print(text.center(width - 2).center(width, 'symbol'))\\n    print('symbol' * width)\\n    \\nprint_banner('hello', 30)\",\n",
       "  \"def print_banner(text,width):\\n    symbol = '#'\\n    print('symbol' * width)\\n    print(text.center(width - 2).center(width, symbol))\\n    print('symbol' * width)\\n    \\nprint_banner('hello', 30)\",\n",
       "  \"def print_banner(text,width):\\n    symbol = '#'\\n    print(symbol * width)\\n    print(text.center(width - 2).center(width, symbol))\\n    print(symbol * width)\\n    \\nprint_banner('hello', 30)\",\n",
       "  'fibs = [1, 1]\\nfor i in range(0, 9):\\n    fibs.append(fibs[-2] + fibs[-1])\\nprint(fibs)',\n",
       "  'fibs[5]',\n",
       "  \"def fibs(num):\\n    result = [1, 1]\\n    for i in range(num - 2 ):\\n        result.append(result[-2] + result[-1])# len(fibs) -1 \\n    return  result\\n\\nnum = int(input('how many Fibonacci numbers do you want?'))\\nprint(fibs(num))\",\n",
       "  \"def fibs(num):\\n    result = [1, 1]\\n    for i in range(num - 2 ):\\n        result.append(result[-2] + result[-1])# len(fibs) -1 \\n    return  result[-1]\\n\\nnum = int(input('how many Fibonacci numbers do you want?'))\\nprint('Total number of different ways:{}'.format(fib(num)))\",\n",
       "  \"def fibs(index):\\n    result = [1, 1]\\n    for i in range(num - 2 ):\\n        result.append(result[-2] + result[-1])# len(fibs) -1 \\n    return  result[-1]\\n\\nnum = int(input('how many Fibonacci numbers do you want?'))\\nprint('Total number of different ways:{}'.format(fib(num)))\",\n",
       "  \"def fibs(index):\\n    result = [1, 1]\\n    for i in range(num - 2 ):\\n        result.append(result[-2] + result[-1])# len(fibs) -1 \\n    return  result[-1]\\n\\nnum = int(input('how many Fibonacci numbers do you want?'))\\nprint('Total number of different ways:{}'.format(fib(num)))\",\n",
       "  \"def fibs(index):\\n    result = [1, 1]\\n    for i in range(num - 2 ):\\n        result.append(result[-2] + result[-1])# len(fibs) -1 \\n    return  result[-1]\\n\\nnum = int(input('how many Fibonacci numbers do you want?'))\\nprint('Total number of different ways:{}'.format(fibs(num)))\",\n",
       "  \"def fibs(index):\\n    item_before_last, last_item = 1, 1\\n    result = [1, 1]\\n    for i in range(index - 2 ):\\n        item_before_last, last_item = last_item, item_before_last + last_item\\n    return  last_item\\n\\nnum = int(input('how many Fibonacci numbers do you want?'))\\nprint('Total number of different ways:{}'.format(fibs(num + 1)))\",\n",
       "  \"import math\\nlength = 50\\ndef wait():\\n    y=0\\n    while y < 500000:\\n        z = math.sin(x) * math.exp(x)\\n        y += 1\\n        \\n        \\nbar = list()\\nfor i in range(0, length):\\n    bar.append(' ')\\nx = 0\\ny = length - 1\\n\\nfor i in range(0, length):\\n    bar[x] = '*'\\n    bar[y] = '#'\\n    for ch in bar:\\n        print(ch, sep=' ', end='')\\n    print(bar, end='')\\n    wait()\\n    bar[x] = ' '\\n    bar[y] = ' '\\n    x += 1\\n    y -= 1\\n    print('\\\\r', end='')\",\n",
       "  \"import math\\nlength = 60\\ndef wait():\\n    y=0\\n    while y < 500000:\\n        z = math.sin(x) * math.exp(x)\\n        y += 1\\n        \\n        \\nbar = list()\\nfor i in range(0, length):\\n    bar.append(' ')\\nx = 0\\ny = length - 1\\n\\nfor i in range(0, length):\\n    bar[x] = '*'\\n    bar[y] = '#'\\n    for ch in bar:\\n        print(ch, sep=' ', end='')\\n    print(bar, end='')\\n    wait()\\n    bar[x] = ' '\\n    bar[y] = ' '\\n    x += 1\\n    y -= 1\\n    print('\\\\r', end='')\",\n",
       "  'def change_it(a):\\n    a = a * 2\\n    \\nx = 2\\nchange_it(x)\\nprint(x)',\n",
       "  \"def change_it(a):\\n    a[0] = 'Hello'\\n    \\nx = ['hello','hi']\\nchange_it(x)\\nprint(x)\",\n",
       "  \"def change_it(a):\\n    #a[0] = 'Hello'\\n    a = ['Hello', 'hi']\\nx = ['hello','hi']\\nchange_it(x)\\nprint(x)\",\n",
       "  \"def change_it(a):\\n    a[0] = 'H'\\n    \\nx = 'hello'\\nchange_it(x)\\nprint(x)\",\n",
       "  \"def hello(greeting, name):\\n    print('{}, {}!'.format(greeting,name))\\n    \\nhello('hi', 'world')\",\n",
       "  \"hello(greeting= 'hi', name= 'world')\",\n",
       "  \"hello(name= 'world', greeting= 'hi')\",\n",
       "  \"def hello(greeting='Hello', name='World'):\\n    print('{}, {}!'.format(greeting,name))\\n    \\nhello()\\nhello(hi)\\nhello('hi','lliangyu')\",\n",
       "  \"def hello(greeting='Hello', name='World'):\\n    print('{}, {}!'.format(greeting,name))\\n    \\nhello()\\nhello('hi')\\nhello('hi','lliangyu')\",\n",
       "  \"def hello(greeting='Hello', name='World'):\\n    print('{}, {}!'.format(greeting,name))\\n    \\nhello()\\nhello('hi')\\nhello('hi','lliangyu')\\nhello(name='liangyu')\",\n",
       "  'def interval():\\n    pass\\n\\ninterval(8)\\ninterval(2, 8)\\nintercal(2, 8, 2)',\n",
       "  'def interval(start, end=None, step=1):\\n    if end is None:\\n        start, end = 0, start\\n    result = []\\n    i = start\\n    while i < end:\\n        result.append(i)\\n        i += step\\n    return result\\n    \\n\\ninterval(8)\\ninterval(2, 8)\\nintercal(2, 8, 2)',\n",
       "  'def interval(start, end=None, step=1):\\n    if end is None:\\n        start, end = 0, start\\n    result = []\\n    i = start\\n    while i < end:\\n        result.append(i)\\n        i += step\\n    return result\\n    \\n\\ninterval(8)\\ninterval(2, 8)\\ninterval(2, 8, 2)',\n",
       "  'def interval(start, end=None, step=1):\\n    if end is None:\\n        start, end = 0, start\\n    result = []\\n    i = start\\n    while i < end:\\n        result.append(i)\\n        i += step\\n    return result\\n    \\n\\nprint(interval(8))\\nprint(interval(2, 8))\\nprint(interval(2, 8, 2))',\n",
       "  \"def sum(*params):\\n    results = 0\\n    for item in params:\\n        result += item\\n    return result\\n\\n\\nassert(sum(1, 2, 3, 4) == 10)\\nprint('OK')\",\n",
       "  \"def sum(*params):\\n    result = 0\\n    for item in params:\\n        result += item\\n    return result\\n\\n\\nassert(sum(1, 2, 3, 4) == 10)\\nprint('OK')\",\n",
       "  'def print_sum(*params):\\n    result = 0\\n    for item in params:\\n        result += item\\n    print(result)\\n\\nprint_sum(1, 2, 3, 4)',\n",
       "  \"def print_sum(label,*params):\\n    result = 0\\n    for item in params:\\n        result += item\\n    print(label, result)\\n\\nprint_sum('sum:',1, 2, 3, 4)\",\n",
       "  \"def print_sum(*params, label='sum'):\\n    result = 0\\n    for item in params:\\n        result += item\\n    print(label, result)\\n\\nprint_sum(1, 2, 3, 4, label ='和')\",\n",
       "  'x = [1, 2, 3, 4, 5]\\nsum(*x)',\n",
       "  'vars()'],\n",
       " '_oh': {5: [('a', 10), ('b', 20), ('c', 30), ('d', 40)],\n",
       "  13: [(0, 'a'), (1, 'b'), (2, 'c'), (3, 'd')],\n",
       "  15: [0, 1, 4, 9, 16, 25, 36, 49, 64, 81],\n",
       "  16: [0,\n",
       "   3,\n",
       "   6,\n",
       "   9,\n",
       "   12,\n",
       "   15,\n",
       "   18,\n",
       "   21,\n",
       "   24,\n",
       "   27,\n",
       "   30,\n",
       "   33,\n",
       "   36,\n",
       "   39,\n",
       "   42,\n",
       "   45,\n",
       "   48,\n",
       "   51,\n",
       "   54,\n",
       "   57,\n",
       "   60,\n",
       "   63,\n",
       "   66,\n",
       "   69,\n",
       "   72,\n",
       "   75,\n",
       "   78,\n",
       "   81,\n",
       "   84,\n",
       "   87,\n",
       "   90,\n",
       "   93,\n",
       "   96,\n",
       "   99],\n",
       "  17: [0,\n",
       "   3,\n",
       "   6,\n",
       "   9,\n",
       "   12,\n",
       "   15,\n",
       "   18,\n",
       "   21,\n",
       "   24,\n",
       "   27,\n",
       "   30,\n",
       "   33,\n",
       "   36,\n",
       "   39,\n",
       "   42,\n",
       "   45,\n",
       "   48,\n",
       "   51,\n",
       "   54,\n",
       "   57,\n",
       "   60,\n",
       "   63,\n",
       "   66,\n",
       "   69,\n",
       "   72,\n",
       "   75,\n",
       "   78,\n",
       "   81,\n",
       "   84,\n",
       "   87,\n",
       "   90,\n",
       "   93,\n",
       "   96,\n",
       "   99],\n",
       "  27: 25,\n",
       "  29: True,\n",
       "  30: [1, 2, 3],\n",
       "  33: [1, 2, 3],\n",
       "  35: 9,\n",
       "  37: 1,\n",
       "  39: {...},\n",
       "  40: 6,\n",
       "  43: <function __main__.hello()>,\n",
       "  48: True,\n",
       "  58: 8,\n",
       "  79: [2, 4, 6],\n",
       "  86: 15},\n",
       " '_dh': ['C:\\\\Users\\\\DELL'],\n",
       " 'In': ['',\n",
       "  \"names = ['a', 'b', 'c', 'd']\\nages = [10, 20, 30, 40]\\nfor i in range(len(names)):\\n    print(name[i], age[i])\",\n",
       "  \"names = ['a', 'b', 'c', 'd']\\nages = [10, 20, 30, 40]\\nfor i in range(len(names)):\\n    print(names[i], age[i])\",\n",
       "  \"names = ['a', 'b', 'c', 'd']\\nages = [10, 20, 30, 40]\\nfor i in range(len(names)):\\n    print(names[i], ages[i])\",\n",
       "  \"names = ['a', 'b', 'c', 'd']\\nages = [10, 20, 30, 40]\\nfor name, age in zip(names, ages):\\n    print(name, age)\",\n",
       "  'a = list(zip(names, ages))\\na',\n",
       "  \"names = ['a', 'b', 'c', 'd']\\nfor i in range(len(names)):\\n    print(i +1, names[i])\",\n",
       "  \"names = ['a', 'b', 'c', 'd']\\ni = 1\\nfor name in names:\\n    print(i, name)\\n    i += 1\",\n",
       "  \"names = ['a', 'b', 'c', 'd']\\nfor i, name in enumerate:\\n    print(i, names)\",\n",
       "  \"names = ['a', 'b', 'c', 'd']\\nfor i, name in enumerate:\\n    print(i, name)\",\n",
       "  \"names = ['a', 'b', 'c', 'd']\\nfor i, name in enumerate:\\n    print(i, name)\",\n",
       "  \"names = ['a', 'b', 'c', 'd']\\nfor i, name in enumerate(names):\\n    print(i, name)\",\n",
       "  'a = list(enumerate(names))',\n",
       "  'a',\n",
       "  'a = list(range(0, 10))\\nb = list()\\nfor item in a:\\n    b.append(item * item)\\n\\nprint(a, b)',\n",
       "  'b = [item * item for item in range(0, 10)]\\nb',\n",
       "  '[item for item in range(0, 100) if item % 3 == 0]',\n",
       "  'a = [item for item in range(0, 100) if item % 3 == 0]\\na',\n",
       "  'a = [item for item in range(0, 100) if item % 3 == 0]\\nprint(a)',\n",
       "  'coordinates = []\\nfor x in range(1,10):\\n    for y in range(0, 10):\\n        coordinates.append((x, y))\\n        \\nprint(coordinates)',\n",
       "  'coordinates = [(x, y) for x in range(0, 10) for y in range(0, 10)]\\nprint(coordinates)',\n",
       "  \"girls = ['alice', 'bernice', 'clarice']\\nboys = ['chris', 'arnold', 'bob']\\nresult = [boy + '+' girl for boy in boys for girl in girls if boy[0] == girl[0]]\\nprint(result)\",\n",
       "  \"girls = ['alice', 'bernice', 'clarice']\\nboys = ['chris', 'arnold', 'bob']\\nresult = [boy + '+' + girl for boy in boys for girl in girls if boy[0] == girl[0]]\\nprint(result)\",\n",
       "  \"girls = ['alice', 'bernice', 'clarice', 'betrice']\\nboys = ['chris', 'arnold', 'bob']\\nresult = [boy + '+' + girl for boy in boys for girl in girls if boy[0] == girl[0]]\\nprint(result)\",\n",
       "  'squares = {i : i ** 2 for i in range(0, 10)}\\nprint(suqares)',\n",
       "  'squares = {i : i ** 2 for i in range(0, 10)}\\nprint(squares)',\n",
       "  'square[5]',\n",
       "  'squares[5]',\n",
       "  'a = list[1, 2, 3]\\nb = a\\nb is a',\n",
       "  'a = [1, 2, 3]\\nb = a\\nb is a',\n",
       "  'a = None\\nb',\n",
       "  'b = None',\n",
       "  'x = 1 \\ndel x\\nx',\n",
       "  'a = [1, 2, 3]\\nb = a\\ndel a \\nb',\n",
       "  'exec(\\'print(\"hello,world!\")\\')',\n",
       "  \"scope = {}\\nexec('y = 1', scope)\\ny\",\n",
       "  \"get_ipython().run_line_magic('whos', '')\",\n",
       "  \"scope['y']\",\n",
       "  'print(scope)',\n",
       "  'vars()',\n",
       "  \"eval('1 + 2 + 3')\",\n",
       "  \"expr = input('plz input an expression: ')\\nprint(eval(expr))\",\n",
       "  'def hello():\\n    print(\"hello, \" + name + \"!\")',\n",
       "  'hello',\n",
       "  \"hello('liangyu')\",\n",
       "  'def hello(name):\\n    print(\"hello, \" + name + \"!\")',\n",
       "  \"hello('liangyu')\",\n",
       "  \"get_ipython().run_line_magic('pinfo', 'hello')\",\n",
       "  'callable(hello)',\n",
       "  'def hello(name):\\n    \\'say hello to sb whose name id defined by name\\'\\n    print(\"hello, \" + name + \"!\")',\n",
       "  \"get_ipython().run_line_magic('pinfo', 'hello')\",\n",
       "  \"print(hello('liangyu'))\",\n",
       "  \"def print_banner(text):\\n    print('*' * 40)\\n    print(text.center(38).center(40, '*'))\\n    print('*' * 40)\\n    \\nprint_banner('hello')\",\n",
       "  \"def print_banner(text,width):\\n    print('*' * width)\\n    print(text.center(width - 2).center(width, '*'))\\n    print('*' * width)\\n    \\nprint_banner('hello', 30)\",\n",
       "  \"def print_banner(text,width):\\n    symbol = '#'\\n    print('symbol' * width)\\n    print(text.center(width - 2).center(width, 'symbol'))\\n    print('symbol' * width)\\n    \\nprint_banner('hello', 30)\",\n",
       "  \"def print_banner(text,width):\\n    symbol = '#'\\n    print('symbol' * width)\\n    print(text.center(width - 2).center(width, symbol))\\n    print('symbol' * width)\\n    \\nprint_banner('hello', 30)\",\n",
       "  \"def print_banner(text,width):\\n    symbol = '#'\\n    print(symbol * width)\\n    print(text.center(width - 2).center(width, symbol))\\n    print(symbol * width)\\n    \\nprint_banner('hello', 30)\",\n",
       "  'fibs = [1, 1]\\nfor i in range(0, 9):\\n    fibs.append(fibs[-2] + fibs[-1])\\nprint(fibs)',\n",
       "  'fibs[5]',\n",
       "  \"def fibs(num):\\n    result = [1, 1]\\n    for i in range(num - 2 ):\\n        result.append(result[-2] + result[-1])# len(fibs) -1 \\n    return  result\\n\\nnum = int(input('how many Fibonacci numbers do you want?'))\\nprint(fibs(num))\",\n",
       "  \"def fibs(num):\\n    result = [1, 1]\\n    for i in range(num - 2 ):\\n        result.append(result[-2] + result[-1])# len(fibs) -1 \\n    return  result[-1]\\n\\nnum = int(input('how many Fibonacci numbers do you want?'))\\nprint('Total number of different ways:{}'.format(fib(num)))\",\n",
       "  \"def fibs(index):\\n    result = [1, 1]\\n    for i in range(num - 2 ):\\n        result.append(result[-2] + result[-1])# len(fibs) -1 \\n    return  result[-1]\\n\\nnum = int(input('how many Fibonacci numbers do you want?'))\\nprint('Total number of different ways:{}'.format(fib(num)))\",\n",
       "  \"def fibs(index):\\n    result = [1, 1]\\n    for i in range(num - 2 ):\\n        result.append(result[-2] + result[-1])# len(fibs) -1 \\n    return  result[-1]\\n\\nnum = int(input('how many Fibonacci numbers do you want?'))\\nprint('Total number of different ways:{}'.format(fib(num)))\",\n",
       "  \"def fibs(index):\\n    result = [1, 1]\\n    for i in range(num - 2 ):\\n        result.append(result[-2] + result[-1])# len(fibs) -1 \\n    return  result[-1]\\n\\nnum = int(input('how many Fibonacci numbers do you want?'))\\nprint('Total number of different ways:{}'.format(fibs(num)))\",\n",
       "  \"def fibs(index):\\n    item_before_last, last_item = 1, 1\\n    result = [1, 1]\\n    for i in range(index - 2 ):\\n        item_before_last, last_item = last_item, item_before_last + last_item\\n    return  last_item\\n\\nnum = int(input('how many Fibonacci numbers do you want?'))\\nprint('Total number of different ways:{}'.format(fibs(num + 1)))\",\n",
       "  \"import math\\nlength = 50\\ndef wait():\\n    y=0\\n    while y < 500000:\\n        z = math.sin(x) * math.exp(x)\\n        y += 1\\n        \\n        \\nbar = list()\\nfor i in range(0, length):\\n    bar.append(' ')\\nx = 0\\ny = length - 1\\n\\nfor i in range(0, length):\\n    bar[x] = '*'\\n    bar[y] = '#'\\n    for ch in bar:\\n        print(ch, sep=' ', end='')\\n    print(bar, end='')\\n    wait()\\n    bar[x] = ' '\\n    bar[y] = ' '\\n    x += 1\\n    y -= 1\\n    print('\\\\r', end='')\",\n",
       "  \"import math\\nlength = 60\\ndef wait():\\n    y=0\\n    while y < 500000:\\n        z = math.sin(x) * math.exp(x)\\n        y += 1\\n        \\n        \\nbar = list()\\nfor i in range(0, length):\\n    bar.append(' ')\\nx = 0\\ny = length - 1\\n\\nfor i in range(0, length):\\n    bar[x] = '*'\\n    bar[y] = '#'\\n    for ch in bar:\\n        print(ch, sep=' ', end='')\\n    print(bar, end='')\\n    wait()\\n    bar[x] = ' '\\n    bar[y] = ' '\\n    x += 1\\n    y -= 1\\n    print('\\\\r', end='')\",\n",
       "  'def change_it(a):\\n    a = a * 2\\n    \\nx = 2\\nchange_it(x)\\nprint(x)',\n",
       "  \"def change_it(a):\\n    a[0] = 'Hello'\\n    \\nx = ['hello','hi']\\nchange_it(x)\\nprint(x)\",\n",
       "  \"def change_it(a):\\n    #a[0] = 'Hello'\\n    a = ['Hello', 'hi']\\nx = ['hello','hi']\\nchange_it(x)\\nprint(x)\",\n",
       "  \"def change_it(a):\\n    a[0] = 'H'\\n    \\nx = 'hello'\\nchange_it(x)\\nprint(x)\",\n",
       "  \"def hello(greeting, name):\\n    print('{}, {}!'.format(greeting,name))\\n    \\nhello('hi', 'world')\",\n",
       "  \"hello(greeting= 'hi', name= 'world')\",\n",
       "  \"hello(name= 'world', greeting= 'hi')\",\n",
       "  \"def hello(greeting='Hello', name='World'):\\n    print('{}, {}!'.format(greeting,name))\\n    \\nhello()\\nhello(hi)\\nhello('hi','lliangyu')\",\n",
       "  \"def hello(greeting='Hello', name='World'):\\n    print('{}, {}!'.format(greeting,name))\\n    \\nhello()\\nhello('hi')\\nhello('hi','lliangyu')\",\n",
       "  \"def hello(greeting='Hello', name='World'):\\n    print('{}, {}!'.format(greeting,name))\\n    \\nhello()\\nhello('hi')\\nhello('hi','lliangyu')\\nhello(name='liangyu')\",\n",
       "  'def interval():\\n    pass\\n\\ninterval(8)\\ninterval(2, 8)\\nintercal(2, 8, 2)',\n",
       "  'def interval(start, end=None, step=1):\\n    if end is None:\\n        start, end = 0, start\\n    result = []\\n    i = start\\n    while i < end:\\n        result.append(i)\\n        i += step\\n    return result\\n    \\n\\ninterval(8)\\ninterval(2, 8)\\nintercal(2, 8, 2)',\n",
       "  'def interval(start, end=None, step=1):\\n    if end is None:\\n        start, end = 0, start\\n    result = []\\n    i = start\\n    while i < end:\\n        result.append(i)\\n        i += step\\n    return result\\n    \\n\\ninterval(8)\\ninterval(2, 8)\\ninterval(2, 8, 2)',\n",
       "  'def interval(start, end=None, step=1):\\n    if end is None:\\n        start, end = 0, start\\n    result = []\\n    i = start\\n    while i < end:\\n        result.append(i)\\n        i += step\\n    return result\\n    \\n\\nprint(interval(8))\\nprint(interval(2, 8))\\nprint(interval(2, 8, 2))',\n",
       "  \"def sum(*params):\\n    results = 0\\n    for item in params:\\n        result += item\\n    return result\\n\\n\\nassert(sum(1, 2, 3, 4) == 10)\\nprint('OK')\",\n",
       "  \"def sum(*params):\\n    result = 0\\n    for item in params:\\n        result += item\\n    return result\\n\\n\\nassert(sum(1, 2, 3, 4) == 10)\\nprint('OK')\",\n",
       "  'def print_sum(*params):\\n    result = 0\\n    for item in params:\\n        result += item\\n    print(result)\\n\\nprint_sum(1, 2, 3, 4)',\n",
       "  \"def print_sum(label,*params):\\n    result = 0\\n    for item in params:\\n        result += item\\n    print(label, result)\\n\\nprint_sum('sum:',1, 2, 3, 4)\",\n",
       "  \"def print_sum(*params, label='sum'):\\n    result = 0\\n    for item in params:\\n        result += item\\n    print(label, result)\\n\\nprint_sum(1, 2, 3, 4, label ='和')\",\n",
       "  'x = [1, 2, 3, 4, 5]\\nsum(*x)',\n",
       "  'vars()'],\n",
       " 'Out': {5: [('a', 10), ('b', 20), ('c', 30), ('d', 40)],\n",
       "  13: [(0, 'a'), (1, 'b'), (2, 'c'), (3, 'd')],\n",
       "  15: [0, 1, 4, 9, 16, 25, 36, 49, 64, 81],\n",
       "  16: [0,\n",
       "   3,\n",
       "   6,\n",
       "   9,\n",
       "   12,\n",
       "   15,\n",
       "   18,\n",
       "   21,\n",
       "   24,\n",
       "   27,\n",
       "   30,\n",
       "   33,\n",
       "   36,\n",
       "   39,\n",
       "   42,\n",
       "   45,\n",
       "   48,\n",
       "   51,\n",
       "   54,\n",
       "   57,\n",
       "   60,\n",
       "   63,\n",
       "   66,\n",
       "   69,\n",
       "   72,\n",
       "   75,\n",
       "   78,\n",
       "   81,\n",
       "   84,\n",
       "   87,\n",
       "   90,\n",
       "   93,\n",
       "   96,\n",
       "   99],\n",
       "  17: [0,\n",
       "   3,\n",
       "   6,\n",
       "   9,\n",
       "   12,\n",
       "   15,\n",
       "   18,\n",
       "   21,\n",
       "   24,\n",
       "   27,\n",
       "   30,\n",
       "   33,\n",
       "   36,\n",
       "   39,\n",
       "   42,\n",
       "   45,\n",
       "   48,\n",
       "   51,\n",
       "   54,\n",
       "   57,\n",
       "   60,\n",
       "   63,\n",
       "   66,\n",
       "   69,\n",
       "   72,\n",
       "   75,\n",
       "   78,\n",
       "   81,\n",
       "   84,\n",
       "   87,\n",
       "   90,\n",
       "   93,\n",
       "   96,\n",
       "   99],\n",
       "  27: 25,\n",
       "  29: True,\n",
       "  30: [1, 2, 3],\n",
       "  33: [1, 2, 3],\n",
       "  35: 9,\n",
       "  37: 1,\n",
       "  39: {...},\n",
       "  40: 6,\n",
       "  43: <function __main__.hello()>,\n",
       "  48: True,\n",
       "  58: 8,\n",
       "  79: [2, 4, 6],\n",
       "  86: 15},\n",
       " 'get_ipython': <bound method InteractiveShell.get_ipython of <ipykernel.zmqshell.ZMQInteractiveShell object at 0x000001A4FDB3D390>>,\n",
       " 'exit': <IPython.core.autocall.ZMQExitAutocall at 0x1a4fe6a24e0>,\n",
       " 'quit': <IPython.core.autocall.ZMQExitAutocall at 0x1a4fe6a24e0>,\n",
       " '_': 15,\n",
       " '__': [2, 4, 6],\n",
       " '___': 8,\n",
       " '_i': 'x = [1, 2, 3, 4, 5]\\nsum(*x)',\n",
       " '_ii': \"def print_sum(*params, label='sum'):\\n    result = 0\\n    for item in params:\\n        result += item\\n    print(label, result)\\n\\nprint_sum(1, 2, 3, 4, label ='和')\",\n",
       " '_iii': \"def print_sum(label,*params):\\n    result = 0\\n    for item in params:\\n        result += item\\n    print(label, result)\\n\\nprint_sum('sum:',1, 2, 3, 4)\",\n",
       " '_i1': \"names = ['a', 'b', 'c', 'd']\\nages = [10, 20, 30, 40]\\nfor i in range(len(names)):\\n    print(name[i], age[i])\",\n",
       " 'names': ['a', 'b', 'c', 'd'],\n",
       " 'ages': [10, 20, 30, 40],\n",
       " 'i': 59,\n",
       " '_i2': \"names = ['a', 'b', 'c', 'd']\\nages = [10, 20, 30, 40]\\nfor i in range(len(names)):\\n    print(names[i], age[i])\",\n",
       " '_i3': \"names = ['a', 'b', 'c', 'd']\\nages = [10, 20, 30, 40]\\nfor i in range(len(names)):\\n    print(names[i], ages[i])\",\n",
       " '_i4': \"names = ['a', 'b', 'c', 'd']\\nages = [10, 20, 30, 40]\\nfor name, age in zip(names, ages):\\n    print(name, age)\",\n",
       " 'name': 'd',\n",
       " 'age': 40,\n",
       " '_i5': 'a = list(zip(names, ages))\\na',\n",
       " '_5': [('a', 10), ('b', 20), ('c', 30), ('d', 40)],\n",
       " '_i6': \"names = ['a', 'b', 'c', 'd']\\nfor i in range(len(names)):\\n    print(i +1, names[i])\",\n",
       " '_i7': \"names = ['a', 'b', 'c', 'd']\\ni = 1\\nfor name in names:\\n    print(i, name)\\n    i += 1\",\n",
       " '_i8': \"names = ['a', 'b', 'c', 'd']\\nfor i, name in enumerate:\\n    print(i, names)\",\n",
       " '_i9': \"names = ['a', 'b', 'c', 'd']\\nfor i, name in enumerate:\\n    print(i, name)\",\n",
       " '_i10': \"names = ['a', 'b', 'c', 'd']\\nfor i, name in enumerate:\\n    print(i, name)\",\n",
       " '_i11': \"names = ['a', 'b', 'c', 'd']\\nfor i, name in enumerate(names):\\n    print(i, name)\",\n",
       " '_i12': 'a = list(enumerate(names))',\n",
       " '_i13': 'a',\n",
       " '_13': [(0, 'a'), (1, 'b'), (2, 'c'), (3, 'd')],\n",
       " '_i14': 'a = list(range(0, 10))\\nb = list()\\nfor item in a:\\n    b.append(item * item)\\n\\nprint(a, b)',\n",
       " 'b': [1, 2, 3],\n",
       " 'item': 9,\n",
       " '_i15': 'b = [item * item for item in range(0, 10)]\\nb',\n",
       " '_15': [0, 1, 4, 9, 16, 25, 36, 49, 64, 81],\n",
       " '_i16': '[item for item in range(0, 100) if item % 3 == 0]',\n",
       " '_16': [0,\n",
       "  3,\n",
       "  6,\n",
       "  9,\n",
       "  12,\n",
       "  15,\n",
       "  18,\n",
       "  21,\n",
       "  24,\n",
       "  27,\n",
       "  30,\n",
       "  33,\n",
       "  36,\n",
       "  39,\n",
       "  42,\n",
       "  45,\n",
       "  48,\n",
       "  51,\n",
       "  54,\n",
       "  57,\n",
       "  60,\n",
       "  63,\n",
       "  66,\n",
       "  69,\n",
       "  72,\n",
       "  75,\n",
       "  78,\n",
       "  81,\n",
       "  84,\n",
       "  87,\n",
       "  90,\n",
       "  93,\n",
       "  96,\n",
       "  99],\n",
       " '_i17': 'a = [item for item in range(0, 100) if item % 3 == 0]\\na',\n",
       " '_17': [0,\n",
       "  3,\n",
       "  6,\n",
       "  9,\n",
       "  12,\n",
       "  15,\n",
       "  18,\n",
       "  21,\n",
       "  24,\n",
       "  27,\n",
       "  30,\n",
       "  33,\n",
       "  36,\n",
       "  39,\n",
       "  42,\n",
       "  45,\n",
       "  48,\n",
       "  51,\n",
       "  54,\n",
       "  57,\n",
       "  60,\n",
       "  63,\n",
       "  66,\n",
       "  69,\n",
       "  72,\n",
       "  75,\n",
       "  78,\n",
       "  81,\n",
       "  84,\n",
       "  87,\n",
       "  90,\n",
       "  93,\n",
       "  96,\n",
       "  99],\n",
       " '_i18': 'a = [item for item in range(0, 100) if item % 3 == 0]\\nprint(a)',\n",
       " '_i19': 'coordinates = []\\nfor x in range(1,10):\\n    for y in range(0, 10):\\n        coordinates.append((x, y))\\n        \\nprint(coordinates)',\n",
       " 'coordinates': [(0, 0),\n",
       "  (0, 1),\n",
       "  (0, 2),\n",
       "  (0, 3),\n",
       "  (0, 4),\n",
       "  (0, 5),\n",
       "  (0, 6),\n",
       "  (0, 7),\n",
       "  (0, 8),\n",
       "  (0, 9),\n",
       "  (1, 0),\n",
       "  (1, 1),\n",
       "  (1, 2),\n",
       "  (1, 3),\n",
       "  (1, 4),\n",
       "  (1, 5),\n",
       "  (1, 6),\n",
       "  (1, 7),\n",
       "  (1, 8),\n",
       "  (1, 9),\n",
       "  (2, 0),\n",
       "  (2, 1),\n",
       "  (2, 2),\n",
       "  (2, 3),\n",
       "  (2, 4),\n",
       "  (2, 5),\n",
       "  (2, 6),\n",
       "  (2, 7),\n",
       "  (2, 8),\n",
       "  (2, 9),\n",
       "  (3, 0),\n",
       "  (3, 1),\n",
       "  (3, 2),\n",
       "  (3, 3),\n",
       "  (3, 4),\n",
       "  (3, 5),\n",
       "  (3, 6),\n",
       "  (3, 7),\n",
       "  (3, 8),\n",
       "  (3, 9),\n",
       "  (4, 0),\n",
       "  (4, 1),\n",
       "  (4, 2),\n",
       "  (4, 3),\n",
       "  (4, 4),\n",
       "  (4, 5),\n",
       "  (4, 6),\n",
       "  (4, 7),\n",
       "  (4, 8),\n",
       "  (4, 9),\n",
       "  (5, 0),\n",
       "  (5, 1),\n",
       "  (5, 2),\n",
       "  (5, 3),\n",
       "  (5, 4),\n",
       "  (5, 5),\n",
       "  (5, 6),\n",
       "  (5, 7),\n",
       "  (5, 8),\n",
       "  (5, 9),\n",
       "  (6, 0),\n",
       "  (6, 1),\n",
       "  (6, 2),\n",
       "  (6, 3),\n",
       "  (6, 4),\n",
       "  (6, 5),\n",
       "  (6, 6),\n",
       "  (6, 7),\n",
       "  (6, 8),\n",
       "  (6, 9),\n",
       "  (7, 0),\n",
       "  (7, 1),\n",
       "  (7, 2),\n",
       "  (7, 3),\n",
       "  (7, 4),\n",
       "  (7, 5),\n",
       "  (7, 6),\n",
       "  (7, 7),\n",
       "  (7, 8),\n",
       "  (7, 9),\n",
       "  (8, 0),\n",
       "  (8, 1),\n",
       "  (8, 2),\n",
       "  (8, 3),\n",
       "  (8, 4),\n",
       "  (8, 5),\n",
       "  (8, 6),\n",
       "  (8, 7),\n",
       "  (8, 8),\n",
       "  (8, 9),\n",
       "  (9, 0),\n",
       "  (9, 1),\n",
       "  (9, 2),\n",
       "  (9, 3),\n",
       "  (9, 4),\n",
       "  (9, 5),\n",
       "  (9, 6),\n",
       "  (9, 7),\n",
       "  (9, 8),\n",
       "  (9, 9)],\n",
       " 'y': -1,\n",
       " '_i20': 'coordinates = [(x, y) for x in range(0, 10) for y in range(0, 10)]\\nprint(coordinates)',\n",
       " '_i21': \"girls = ['alice', 'bernice', 'clarice']\\nboys = ['chris', 'arnold', 'bob']\\nresult = [boy + '+' girl for boy in boys for girl in girls if boy[0] == girl[0]]\\nprint(result)\",\n",
       " '_i22': \"girls = ['alice', 'bernice', 'clarice']\\nboys = ['chris', 'arnold', 'bob']\\nresult = [boy + '+' + girl for boy in boys for girl in girls if boy[0] == girl[0]]\\nprint(result)\",\n",
       " 'girls': ['alice', 'bernice', 'clarice', 'betrice'],\n",
       " 'boys': ['chris', 'arnold', 'bob'],\n",
       " 'result': ['chris+clarice', 'arnold+alice', 'bob+bernice', 'bob+betrice'],\n",
       " '_i23': \"girls = ['alice', 'bernice', 'clarice', 'betrice']\\nboys = ['chris', 'arnold', 'bob']\\nresult = [boy + '+' + girl for boy in boys for girl in girls if boy[0] == girl[0]]\\nprint(result)\",\n",
       " '_i24': 'squares = {i : i ** 2 for i in range(0, 10)}\\nprint(suqares)',\n",
       " 'squares': {0: 0, 1: 1, 2: 4, 3: 9, 4: 16, 5: 25, 6: 36, 7: 49, 8: 64, 9: 81},\n",
       " '_i25': 'squares = {i : i ** 2 for i in range(0, 10)}\\nprint(squares)',\n",
       " '_i26': 'square[5]',\n",
       " '_i27': 'squares[5]',\n",
       " '_27': 25,\n",
       " '_i28': 'a = list[1, 2, 3]\\nb = a\\nb is a',\n",
       " '_i29': 'a = [1, 2, 3]\\nb = a\\nb is a',\n",
       " '_29': True,\n",
       " '_i30': 'a = None\\nb',\n",
       " '_30': [1, 2, 3],\n",
       " '_i31': 'b = None',\n",
       " '_i32': 'x = 1 \\ndel x\\nx',\n",
       " '_i33': 'a = [1, 2, 3]\\nb = a\\ndel a \\nb',\n",
       " '_33': [1, 2, 3],\n",
       " '_i34': 'exec(\\'print(\"hello,world!\")\\')',\n",
       " '_i35': \"scope = {}\\nexec('y = 1', scope)\\ny\",\n",
       " 'scope': {'__builtins__': {'__name__': 'builtins',\n",
       "   '__doc__': \"Built-in functions, exceptions, and other objects.\\n\\nNoteworthy: None is the `nil' object; Ellipsis represents `...' in slices.\",\n",
       "   '__package__': '',\n",
       "   '__loader__': _frozen_importlib.BuiltinImporter,\n",
       "   '__spec__': ModuleSpec(name='builtins', loader=<class '_frozen_importlib.BuiltinImporter'>),\n",
       "   '__build_class__': <function __build_class__>,\n",
       "   '__import__': <function __import__>,\n",
       "   'abs': <function abs(x, /)>,\n",
       "   'all': <function all(iterable, /)>,\n",
       "   'any': <function any(iterable, /)>,\n",
       "   'ascii': <function ascii(obj, /)>,\n",
       "   'bin': <function bin(number, /)>,\n",
       "   'breakpoint': <function breakpoint>,\n",
       "   'callable': <function callable(obj, /)>,\n",
       "   'chr': <function chr(i, /)>,\n",
       "   'compile': <function compile(source, filename, mode, flags=0, dont_inherit=False, optimize=-1)>,\n",
       "   'delattr': <function delattr(obj, name, /)>,\n",
       "   'dir': <function dir>,\n",
       "   'divmod': <function divmod(x, y, /)>,\n",
       "   'eval': <function eval(source, globals=None, locals=None, /)>,\n",
       "   'exec': <function exec(source, globals=None, locals=None, /)>,\n",
       "   'format': <function format(value, format_spec='', /)>,\n",
       "   'getattr': <function getattr>,\n",
       "   'globals': <function globals()>,\n",
       "   'hasattr': <function hasattr(obj, name, /)>,\n",
       "   'hash': <function hash(obj, /)>,\n",
       "   'hex': <function hex(number, /)>,\n",
       "   'id': <function id(obj, /)>,\n",
       "   'input': <bound method Kernel.raw_input of <ipykernel.ipkernel.IPythonKernel object at 0x000001A4FDB34FD0>>,\n",
       "   'isinstance': <function isinstance(obj, class_or_tuple, /)>,\n",
       "   'issubclass': <function issubclass(cls, class_or_tuple, /)>,\n",
       "   'iter': <function iter>,\n",
       "   'len': <function len(obj, /)>,\n",
       "   'locals': <function locals()>,\n",
       "   'max': <function max>,\n",
       "   'min': <function min>,\n",
       "   'next': <function next>,\n",
       "   'oct': <function oct(number, /)>,\n",
       "   'ord': <function ord(c, /)>,\n",
       "   'pow': <function pow(x, y, z=None, /)>,\n",
       "   'print': <function print>,\n",
       "   'repr': <function repr(obj, /)>,\n",
       "   'round': <function round(number, ndigits=None)>,\n",
       "   'setattr': <function setattr(obj, name, value, /)>,\n",
       "   'sorted': <function sorted(iterable, /, *, key=None, reverse=False)>,\n",
       "   'sum': <function sum(iterable, start=0, /)>,\n",
       "   'vars': <function vars>,\n",
       "   'None': None,\n",
       "   'Ellipsis': Ellipsis,\n",
       "   'NotImplemented': NotImplemented,\n",
       "   'False': False,\n",
       "   'True': True,\n",
       "   'bool': bool,\n",
       "   'memoryview': memoryview,\n",
       "   'bytearray': bytearray,\n",
       "   'bytes': bytes,\n",
       "   'classmethod': classmethod,\n",
       "   'complex': complex,\n",
       "   'dict': dict,\n",
       "   'enumerate': enumerate,\n",
       "   'filter': filter,\n",
       "   'float': float,\n",
       "   'frozenset': frozenset,\n",
       "   'property': property,\n",
       "   'int': int,\n",
       "   'list': list,\n",
       "   'map': map,\n",
       "   'object': object,\n",
       "   'range': range,\n",
       "   'reversed': reversed,\n",
       "   'set': set,\n",
       "   'slice': slice,\n",
       "   'staticmethod': staticmethod,\n",
       "   'str': str,\n",
       "   'super': super,\n",
       "   'tuple': tuple,\n",
       "   'type': type,\n",
       "   'zip': zip,\n",
       "   '__debug__': True,\n",
       "   'BaseException': BaseException,\n",
       "   'Exception': Exception,\n",
       "   'TypeError': TypeError,\n",
       "   'StopAsyncIteration': StopAsyncIteration,\n",
       "   'StopIteration': StopIteration,\n",
       "   'GeneratorExit': GeneratorExit,\n",
       "   'SystemExit': SystemExit,\n",
       "   'KeyboardInterrupt': KeyboardInterrupt,\n",
       "   'ImportError': ImportError,\n",
       "   'ModuleNotFoundError': ModuleNotFoundError,\n",
       "   'OSError': OSError,\n",
       "   'EnvironmentError': OSError,\n",
       "   'IOError': OSError,\n",
       "   'WindowsError': OSError,\n",
       "   'EOFError': EOFError,\n",
       "   'RuntimeError': RuntimeError,\n",
       "   'RecursionError': RecursionError,\n",
       "   'NotImplementedError': NotImplementedError,\n",
       "   'NameError': NameError,\n",
       "   'UnboundLocalError': UnboundLocalError,\n",
       "   'AttributeError': AttributeError,\n",
       "   'SyntaxError': SyntaxError,\n",
       "   'IndentationError': IndentationError,\n",
       "   'TabError': TabError,\n",
       "   'LookupError': LookupError,\n",
       "   'IndexError': IndexError,\n",
       "   'KeyError': KeyError,\n",
       "   'ValueError': ValueError,\n",
       "   'UnicodeError': UnicodeError,\n",
       "   'UnicodeEncodeError': UnicodeEncodeError,\n",
       "   'UnicodeDecodeError': UnicodeDecodeError,\n",
       "   'UnicodeTranslateError': UnicodeTranslateError,\n",
       "   'AssertionError': AssertionError,\n",
       "   'ArithmeticError': ArithmeticError,\n",
       "   'FloatingPointError': FloatingPointError,\n",
       "   'OverflowError': OverflowError,\n",
       "   'ZeroDivisionError': ZeroDivisionError,\n",
       "   'SystemError': SystemError,\n",
       "   'ReferenceError': ReferenceError,\n",
       "   'MemoryError': MemoryError,\n",
       "   'BufferError': BufferError,\n",
       "   'Warning': Warning,\n",
       "   'UserWarning': UserWarning,\n",
       "   'DeprecationWarning': DeprecationWarning,\n",
       "   'PendingDeprecationWarning': PendingDeprecationWarning,\n",
       "   'SyntaxWarning': SyntaxWarning,\n",
       "   'RuntimeWarning': RuntimeWarning,\n",
       "   'FutureWarning': FutureWarning,\n",
       "   'ImportWarning': ImportWarning,\n",
       "   'UnicodeWarning': UnicodeWarning,\n",
       "   'BytesWarning': BytesWarning,\n",
       "   'ResourceWarning': ResourceWarning,\n",
       "   'ConnectionError': ConnectionError,\n",
       "   'BlockingIOError': BlockingIOError,\n",
       "   'BrokenPipeError': BrokenPipeError,\n",
       "   'ChildProcessError': ChildProcessError,\n",
       "   'ConnectionAbortedError': ConnectionAbortedError,\n",
       "   'ConnectionRefusedError': ConnectionRefusedError,\n",
       "   'ConnectionResetError': ConnectionResetError,\n",
       "   'FileExistsError': FileExistsError,\n",
       "   'FileNotFoundError': FileNotFoundError,\n",
       "   'IsADirectoryError': IsADirectoryError,\n",
       "   'NotADirectoryError': NotADirectoryError,\n",
       "   'InterruptedError': InterruptedError,\n",
       "   'PermissionError': PermissionError,\n",
       "   'ProcessLookupError': ProcessLookupError,\n",
       "   'TimeoutError': TimeoutError,\n",
       "   'open': <function io.open(file, mode='r', buffering=-1, encoding=None, errors=None, newline=None, closefd=True, opener=None)>,\n",
       "   'copyright': Copyright (c) 2001-2019 Python Software Foundation.\n",
       "   All Rights Reserved.\n",
       "   \n",
       "   Copyright (c) 2000 BeOpen.com.\n",
       "   All Rights Reserved.\n",
       "   \n",
       "   Copyright (c) 1995-2001 Corporation for National Research Initiatives.\n",
       "   All Rights Reserved.\n",
       "   \n",
       "   Copyright (c) 1991-1995 Stichting Mathematisch Centrum, Amsterdam.\n",
       "   All Rights Reserved.,\n",
       "   'credits':     Thanks to CWI, CNRI, BeOpen.com, Zope Corporation and a cast of thousands\n",
       "       for supporting Python development.  See www.python.org for more information.,\n",
       "   'license': Type license() to see the full license text,\n",
       "   'help': Type help() for interactive help, or help(object) for help about object.,\n",
       "   '__IPYTHON__': True,\n",
       "   'display': <function IPython.core.display.display(*objs, include=None, exclude=None, metadata=None, transient=None, display_id=None, **kwargs)>,\n",
       "   'get_ipython': <bound method InteractiveShell.get_ipython of <ipykernel.zmqshell.ZMQInteractiveShell object at 0x000001A4FDB3D390>>},\n",
       "  'y': 1},\n",
       " '_35': 9,\n",
       " '_i36': '%whos',\n",
       " '_i37': \"scope['y']\",\n",
       " '_37': 1,\n",
       " '_i38': 'print(scope)',\n",
       " '_i39': 'vars()',\n",
       " '_39': {...},\n",
       " '_i40': \"eval('1 + 2 + 3')\",\n",
       " '_40': 6,\n",
       " '_i41': \"expr = input('plz input an expression: ')\\nprint(eval(expr))\",\n",
       " 'expr': '1+3+4',\n",
       " '_i42': 'def hello():\\n    print(\"hello, \" + name + \"!\")',\n",
       " 'hello': <function __main__.hello(greeting='Hello', name='World')>,\n",
       " '_i43': 'hello',\n",
       " '_43': <function __main__.hello()>,\n",
       " '_i44': \"hello('liangyu')\",\n",
       " '_i45': 'def hello(name):\\n    print(\"hello, \" + name + \"!\")',\n",
       " '_i46': \"hello('liangyu')\",\n",
       " '_i47': 'hello?',\n",
       " '_i48': 'callable(hello)',\n",
       " '_48': True,\n",
       " '_i49': 'def hello(name):\\n    \\'say hello to sb whose name id defined by name\\'\\n    print(\"hello, \" + name + \"!\")',\n",
       " '_i50': 'hello?',\n",
       " '_i51': \"print(hello('liangyu'))\",\n",
       " '_i52': \"def print_banner(text):\\n    print('*' * 40)\\n    print(text.center(38).center(40, '*'))\\n    print('*' * 40)\\n    \\nprint_banner('hello')\",\n",
       " 'print_banner': <function __main__.print_banner(text, width)>,\n",
       " '_i53': \"def print_banner(text,width):\\n    print('*' * width)\\n    print(text.center(width - 2).center(width, '*'))\\n    print('*' * width)\\n    \\nprint_banner('hello', 30)\",\n",
       " '_i54': \"def print_banner(text,width):\\n    symbol = '#'\\n    print('symbol' * width)\\n    print(text.center(width - 2).center(width, 'symbol'))\\n    print('symbol' * width)\\n    \\nprint_banner('hello', 30)\",\n",
       " '_i55': \"def print_banner(text,width):\\n    symbol = '#'\\n    print('symbol' * width)\\n    print(text.center(width - 2).center(width, symbol))\\n    print('symbol' * width)\\n    \\nprint_banner('hello', 30)\",\n",
       " '_i56': \"def print_banner(text,width):\\n    symbol = '#'\\n    print(symbol * width)\\n    print(text.center(width - 2).center(width, symbol))\\n    print(symbol * width)\\n    \\nprint_banner('hello', 30)\",\n",
       " '_i57': 'fibs = [1, 1]\\nfor i in range(0, 9):\\n    fibs.append(fibs[-2] + fibs[-1])\\nprint(fibs)',\n",
       " 'fibs': <function __main__.fibs(index)>,\n",
       " '_i58': 'fibs[5]',\n",
       " '_58': 8,\n",
       " '_i59': \"def fibs(num):\\n    result = [1, 1]\\n    for i in range(num - 2 ):\\n        result.append(result[-2] + result[-1])# len(fibs) -1 \\n    return  result\\n\\nnum = int(input('how many Fibonacci numbers do you want?'))\\nprint(fibs(num))\",\n",
       " 'num': 6,\n",
       " '_i60': \"def fibs(num):\\n    result = [1, 1]\\n    for i in range(num - 2 ):\\n        result.append(result[-2] + result[-1])# len(fibs) -1 \\n    return  result[-1]\\n\\nnum = int(input('how many Fibonacci numbers do you want?'))\\nprint('Total number of different ways:{}'.format(fib(num)))\",\n",
       " '_i61': \"def fibs(index):\\n    result = [1, 1]\\n    for i in range(num - 2 ):\\n        result.append(result[-2] + result[-1])# len(fibs) -1 \\n    return  result[-1]\\n\\nnum = int(input('how many Fibonacci numbers do you want?'))\\nprint('Total number of different ways:{}'.format(fib(num)))\",\n",
       " '_i62': \"def fibs(index):\\n    result = [1, 1]\\n    for i in range(num - 2 ):\\n        result.append(result[-2] + result[-1])# len(fibs) -1 \\n    return  result[-1]\\n\\nnum = int(input('how many Fibonacci numbers do you want?'))\\nprint('Total number of different ways:{}'.format(fib(num)))\",\n",
       " '_i63': \"def fibs(index):\\n    result = [1, 1]\\n    for i in range(num - 2 ):\\n        result.append(result[-2] + result[-1])# len(fibs) -1 \\n    return  result[-1]\\n\\nnum = int(input('how many Fibonacci numbers do you want?'))\\nprint('Total number of different ways:{}'.format(fibs(num)))\",\n",
       " '_i64': \"def fibs(index):\\n    item_before_last, last_item = 1, 1\\n    result = [1, 1]\\n    for i in range(index - 2 ):\\n        item_before_last, last_item = last_item, item_before_last + last_item\\n    return  last_item\\n\\nnum = int(input('how many Fibonacci numbers do you want?'))\\nprint('Total number of different ways:{}'.format(fibs(num + 1)))\",\n",
       " '_i65': \"import math\\nlength = 50\\ndef wait():\\n    y=0\\n    while y < 500000:\\n        z = math.sin(x) * math.exp(x)\\n        y += 1\\n        \\n        \\nbar = list()\\nfor i in range(0, length):\\n    bar.append(' ')\\nx = 0\\ny = length - 1\\n\\nfor i in range(0, length):\\n    bar[x] = '*'\\n    bar[y] = '#'\\n    for ch in bar:\\n        print(ch, sep=' ', end='')\\n    print(bar, end='')\\n    wait()\\n    bar[x] = ' '\\n    bar[y] = ' '\\n    x += 1\\n    y -= 1\\n    print('\\\\r', end='')\",\n",
       " 'math': <module 'math' (built-in)>,\n",
       " 'length': 60,\n",
       " 'wait': <function __main__.wait()>,\n",
       " 'bar': [' ',\n",
       "  ' ',\n",
       "  ' ',\n",
       "  ' ',\n",
       "  ' ',\n",
       "  ' ',\n",
       "  ' ',\n",
       "  ' ',\n",
       "  ' ',\n",
       "  ' ',\n",
       "  ' ',\n",
       "  ' ',\n",
       "  ' ',\n",
       "  ' ',\n",
       "  ' ',\n",
       "  ' ',\n",
       "  ' ',\n",
       "  ' ',\n",
       "  ' ',\n",
       "  ' ',\n",
       "  ' ',\n",
       "  ' ',\n",
       "  ' ',\n",
       "  ' ',\n",
       "  ' ',\n",
       "  ' ',\n",
       "  ' ',\n",
       "  ' ',\n",
       "  ' ',\n",
       "  ' ',\n",
       "  ' ',\n",
       "  ' ',\n",
       "  ' ',\n",
       "  ' ',\n",
       "  ' ',\n",
       "  ' ',\n",
       "  ' ',\n",
       "  ' ',\n",
       "  ' ',\n",
       "  ' ',\n",
       "  ' ',\n",
       "  ' ',\n",
       "  ' ',\n",
       "  ' ',\n",
       "  ' ',\n",
       "  ' ',\n",
       "  ' ',\n",
       "  ' ',\n",
       "  ' ',\n",
       "  ' ',\n",
       "  ' ',\n",
       "  ' ',\n",
       "  ' ',\n",
       "  ' ',\n",
       "  ' ',\n",
       "  ' ',\n",
       "  ' ',\n",
       "  ' ',\n",
       "  ' ',\n",
       "  ' '],\n",
       " 'x': [1, 2, 3, 4, 5],\n",
       " 'ch': '*',\n",
       " '_i66': \"import math\\nlength = 60\\ndef wait():\\n    y=0\\n    while y < 500000:\\n        z = math.sin(x) * math.exp(x)\\n        y += 1\\n        \\n        \\nbar = list()\\nfor i in range(0, length):\\n    bar.append(' ')\\nx = 0\\ny = length - 1\\n\\nfor i in range(0, length):\\n    bar[x] = '*'\\n    bar[y] = '#'\\n    for ch in bar:\\n        print(ch, sep=' ', end='')\\n    print(bar, end='')\\n    wait()\\n    bar[x] = ' '\\n    bar[y] = ' '\\n    x += 1\\n    y -= 1\\n    print('\\\\r', end='')\",\n",
       " '_i67': 'def change_it(a):\\n    a = a * 2\\n    \\nx = 2\\nchange_it(x)\\nprint(x)',\n",
       " 'change_it': <function __main__.change_it(a)>,\n",
       " '_i68': \"def change_it(a):\\n    a[0] = 'Hello'\\n    \\nx = ['hello','hi']\\nchange_it(x)\\nprint(x)\",\n",
       " '_i69': \"def change_it(a):\\n    #a[0] = 'Hello'\\n    a = ['Hello', 'hi']\\nx = ['hello','hi']\\nchange_it(x)\\nprint(x)\",\n",
       " '_i70': \"def change_it(a):\\n    a[0] = 'H'\\n    \\nx = 'hello'\\nchange_it(x)\\nprint(x)\",\n",
       " '_i71': \"def hello(greeting, name):\\n    print('{}, {}!'.format(greeting,name))\\n    \\nhello('hi', 'world')\",\n",
       " '_i72': \"hello(greeting= 'hi', name= 'world')\",\n",
       " '_i73': \"hello(name= 'world', greeting= 'hi')\",\n",
       " '_i74': \"def hello(greeting='Hello', name='World'):\\n    print('{}, {}!'.format(greeting,name))\\n    \\nhello()\\nhello(hi)\\nhello('hi','lliangyu')\",\n",
       " '_i75': \"def hello(greeting='Hello', name='World'):\\n    print('{}, {}!'.format(greeting,name))\\n    \\nhello()\\nhello('hi')\\nhello('hi','lliangyu')\",\n",
       " '_i76': \"def hello(greeting='Hello', name='World'):\\n    print('{}, {}!'.format(greeting,name))\\n    \\nhello()\\nhello('hi')\\nhello('hi','lliangyu')\\nhello(name='liangyu')\",\n",
       " '_i77': 'def interval():\\n    pass\\n\\ninterval(8)\\ninterval(2, 8)\\nintercal(2, 8, 2)',\n",
       " 'interval': <function __main__.interval(start, end=None, step=1)>,\n",
       " '_i78': 'def interval(start, end=None, step=1):\\n    if end is None:\\n        start, end = 0, start\\n    result = []\\n    i = start\\n    while i < end:\\n        result.append(i)\\n        i += step\\n    return result\\n    \\n\\ninterval(8)\\ninterval(2, 8)\\nintercal(2, 8, 2)',\n",
       " '_i79': 'def interval(start, end=None, step=1):\\n    if end is None:\\n        start, end = 0, start\\n    result = []\\n    i = start\\n    while i < end:\\n        result.append(i)\\n        i += step\\n    return result\\n    \\n\\ninterval(8)\\ninterval(2, 8)\\ninterval(2, 8, 2)',\n",
       " '_79': [2, 4, 6],\n",
       " '_i80': 'def interval(start, end=None, step=1):\\n    if end is None:\\n        start, end = 0, start\\n    result = []\\n    i = start\\n    while i < end:\\n        result.append(i)\\n        i += step\\n    return result\\n    \\n\\nprint(interval(8))\\nprint(interval(2, 8))\\nprint(interval(2, 8, 2))',\n",
       " '_i81': \"def sum(*params):\\n    results = 0\\n    for item in params:\\n        result += item\\n    return result\\n\\n\\nassert(sum(1, 2, 3, 4) == 10)\\nprint('OK')\",\n",
       " 'sum': <function __main__.sum(*params)>,\n",
       " '_i82': \"def sum(*params):\\n    result = 0\\n    for item in params:\\n        result += item\\n    return result\\n\\n\\nassert(sum(1, 2, 3, 4) == 10)\\nprint('OK')\",\n",
       " '_i83': 'def print_sum(*params):\\n    result = 0\\n    for item in params:\\n        result += item\\n    print(result)\\n\\nprint_sum(1, 2, 3, 4)',\n",
       " 'print_sum': <function __main__.print_sum(*params, label='sum')>,\n",
       " '_i84': \"def print_sum(label,*params):\\n    result = 0\\n    for item in params:\\n        result += item\\n    print(label, result)\\n\\nprint_sum('sum:',1, 2, 3, 4)\",\n",
       " '_i85': \"def print_sum(*params, label='sum'):\\n    result = 0\\n    for item in params:\\n        result += item\\n    print(label, result)\\n\\nprint_sum(1, 2, 3, 4, label ='和')\",\n",
       " '_i86': 'x = [1, 2, 3, 4, 5]\\nsum(*x)',\n",
       " '_86': 15,\n",
       " '_i87': 'vars()'}"
      ]
     },
     "execution_count": 87,
     "metadata": {},
     "output_type": "execute_result"
    }
   ],
   "source": [
    "vars()"
   ]
  },
  {
   "cell_type": "code",
   "execution_count": 88,
   "metadata": {},
   "outputs": [
    {
     "name": "stdout",
     "output_type": "stream",
     "text": [
      "Variable       Type        Data/Info\n",
      "------------------------------------\n",
      "age            int         40\n",
      "ages           list        n=4\n",
      "b              list        n=3\n",
      "bar            list        n=60\n",
      "boys           list        n=3\n",
      "ch             str         *\n",
      "change_it      function    <function change_it at 0x000001A4FE867598>\n",
      "coordinates    list        n=100\n",
      "expr           str         1+3+4\n",
      "fibs           function    <function fibs at 0x000001A4FE88C048>\n",
      "girls          list        n=4\n",
      "hello          function    <function hello at 0x000001A4FE8676A8>\n",
      "i              int         59\n",
      "interval       function    <function interval at 0x000001A4FE867D90>\n",
      "item           int         9\n",
      "length         int         60\n",
      "math           module      <module 'math' (built-in)>\n",
      "name           str         d\n",
      "names          list        n=4\n",
      "num            int         6\n",
      "print_banner   function    <function print_banner at 0x000001A4FE88C510>\n",
      "print_sum      function    <function print_sum at 0x000001A4FE8679D8>\n",
      "result         list        n=4\n",
      "scope          dict        n=2\n",
      "squares        dict        n=10\n",
      "sum            function    <function sum at 0x000001A4FE8678C8>\n",
      "wait           function    <function wait at 0x000001A4FE88C730>\n",
      "x              list        n=5\n",
      "y              int         -1\n"
     ]
    }
   ],
   "source": [
    "%whos"
   ]
  },
  {
   "cell_type": "code",
   "execution_count": 90,
   "metadata": {},
   "outputs": [
    {
     "name": "stdout",
     "output_type": "stream",
     "text": [
      "1\n"
     ]
    }
   ],
   "source": [
    "def foo():x = 42\n",
    "    \n",
    "x = 1\n",
    "foo()\n",
    "print(x)"
   ]
  },
  {
   "cell_type": "code",
   "execution_count": 91,
   "metadata": {},
   "outputs": [
    {
     "data": {
      "text/plain": [
       "<function __main__.foo()>"
      ]
     },
     "execution_count": 91,
     "metadata": {},
     "output_type": "execute_result"
    }
   ],
   "source": [
    "scope = vars()\n",
    "scope['foo']"
   ]
  },
  {
   "cell_type": "code",
   "execution_count": 93,
   "metadata": {},
   "outputs": [
    {
     "name": "stdout",
     "output_type": "stream",
     "text": [
      "1\n"
     ]
    }
   ],
   "source": [
    "def foo():\n",
    "    print(x)\n",
    "    \n",
    "x = 1\n",
    "foo()"
   ]
  },
  {
   "cell_type": "code",
   "execution_count": 94,
   "metadata": {},
   "outputs": [
    {
     "name": "stdout",
     "output_type": "stream",
     "text": [
      "1\n"
     ]
    }
   ],
   "source": [
    "def foo():\n",
    "    x = 2\n",
    "    print(globals()['x'])\n",
    "    \n",
    "x = 1\n",
    "foo()"
   ]
  },
  {
   "cell_type": "code",
   "execution_count": 96,
   "metadata": {},
   "outputs": [
    {
     "data": {
      "text/plain": [
       "2"
      ]
     },
     "execution_count": 96,
     "metadata": {},
     "output_type": "execute_result"
    }
   ],
   "source": [
    "\n",
    "def change_globals():\n",
    "    global x\n",
    "    x += 1\n",
    "    \n",
    "x = 1\n",
    "change_globals()\n",
    "x"
   ]
  },
  {
   "cell_type": "code",
   "execution_count": 99,
   "metadata": {},
   "outputs": [
    {
     "name": "stdout",
     "output_type": "stream",
     "text": [
      "10\n",
      "18\n"
     ]
    },
    {
     "data": {
      "text/plain": [
       "18"
      ]
     },
     "execution_count": 99,
     "metadata": {},
     "output_type": "execute_result"
    }
   ],
   "source": [
    "def multiplier(factor):\n",
    "    def multiplyByFactor(number):\n",
    "        return number * factor\n",
    "    return multiplyByFactor\n",
    "\n",
    "double = multiplier(2)\n",
    "print(double(5))\n",
    "triple = multiplier(3)\n",
    "print(triple(6))\n",
    "\n",
    "multiplier(3)(6)"
   ]
  },
  {
   "cell_type": "code",
   "execution_count": null,
   "metadata": {},
   "outputs": [],
   "source": []
  }
 ],
 "metadata": {
  "kernelspec": {
   "display_name": "Python 3",
   "language": "python",
   "name": "python3"
  },
  "language_info": {
   "codemirror_mode": {
    "name": "ipython",
    "version": 3
   },
   "file_extension": ".py",
   "mimetype": "text/x-python",
   "name": "python",
   "nbconvert_exporter": "python",
   "pygments_lexer": "ipython3",
   "version": "3.7.3"
  }
 },
 "nbformat": 4,
 "nbformat_minor": 2
}
