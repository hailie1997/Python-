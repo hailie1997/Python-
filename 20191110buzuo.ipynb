{
 "cells": [
  {
   "cell_type": "code",
   "execution_count": 1,
   "metadata": {},
   "outputs": [
    {
     "name": "stdout",
     "output_type": "stream",
     "text": [
      "6\n"
     ]
    }
   ],
   "source": [
    "#编写函数，用于求一个自然数中所有数字的和。（提示，可以用一个自然数进行测试，比如123）\n",
    "def sum_digit(n): \n",
    "\n",
    "    if n < 10: \n",
    "\n",
    "        return n \n",
    "\n",
    "    else:\n",
    "\n",
    "        last = n % 10 \n",
    "\n",
    "        all_but_last = n // 10 \n",
    "\n",
    "        return sum_digit(all_but_last) + last\n",
    "\n",
    "result = sum_digit(123) \n",
    "\n",
    "print(result)"
   ]
  },
  {
   "cell_type": "code",
   "execution_count": 2,
   "metadata": {},
   "outputs": [
    {
     "name": "stdout",
     "output_type": "stream",
     "text": [
      "Hello, I'm Zhang San.\n",
      "Hello, I'm Li Si.\n"
     ]
    }
   ],
   "source": [
    "#课堂练习\n",
    "class Person:\n",
    "    def set_name(self, name):\n",
    "        self.name = name\n",
    "        \n",
    "    def get_name(self):\n",
    "        return self.name\n",
    "    \n",
    "    def greet(self):\n",
    "        print(\"Hello, I'm {}.\".format(self.name))\n",
    "        \n",
    "zs = Person()\n",
    "zs.set_name('Zhang San')\n",
    "zs.greet()\n",
    "ls = Person()\n",
    "ls.set_name('Li Si')\n",
    "ls.greet()"
   ]
  },
  {
   "cell_type": "code",
   "execution_count": 3,
   "metadata": {},
   "outputs": [
    {
     "ename": "TypeError",
     "evalue": "Person() takes no arguments",
     "output_type": "error",
     "traceback": [
      "\u001b[1;31m---------------------------------------------------------------------------\u001b[0m",
      "\u001b[1;31mTypeError\u001b[0m                                 Traceback (most recent call last)",
      "\u001b[1;32m<ipython-input-3-0a9296380fd1>\u001b[0m in \u001b[0;36m<module>\u001b[1;34m\u001b[0m\n\u001b[0;32m     21\u001b[0m         \u001b[0mprint\u001b[0m\u001b[1;33m(\u001b[0m\u001b[1;34m\"Hello, I'm {}.\"\u001b[0m\u001b[1;33m.\u001b[0m\u001b[0mformat\u001b[0m\u001b[1;33m(\u001b[0m\u001b[0mself\u001b[0m\u001b[1;33m.\u001b[0m\u001b[0m__name\u001b[0m\u001b[1;33m)\u001b[0m\u001b[1;33m)\u001b[0m\u001b[1;33m\u001b[0m\u001b[1;33m\u001b[0m\u001b[0m\n\u001b[0;32m     22\u001b[0m \u001b[1;33m\u001b[0m\u001b[0m\n\u001b[1;32m---> 23\u001b[1;33m \u001b[0mzs\u001b[0m \u001b[1;33m=\u001b[0m \u001b[0mPerson\u001b[0m\u001b[1;33m(\u001b[0m\u001b[1;34m'Zhang San'\u001b[0m\u001b[1;33m)\u001b[0m\u001b[1;33m\u001b[0m\u001b[1;33m\u001b[0m\u001b[0m\n\u001b[0m\u001b[0;32m     24\u001b[0m \u001b[0mls\u001b[0m \u001b[1;33m=\u001b[0m \u001b[0mPerson\u001b[0m\u001b[1;33m(\u001b[0m\u001b[1;34m'Li Si'\u001b[0m\u001b[1;33m)\u001b[0m\u001b[1;33m\u001b[0m\u001b[1;33m\u001b[0m\u001b[0m\n\u001b[0;32m     25\u001b[0m \u001b[0mzs\u001b[0m\u001b[1;33m.\u001b[0m\u001b[0mgreet\u001b[0m\u001b[1;33m(\u001b[0m\u001b[1;33m)\u001b[0m\u001b[1;33m\u001b[0m\u001b[1;33m\u001b[0m\u001b[0m\n",
      "\u001b[1;31mTypeError\u001b[0m: Person() takes no arguments"
     ]
    }
   ],
   "source": [
    "class Person:\n",
    "    count = 0\n",
    "    \n",
    "    def set_name(self, name):\n",
    "        # assert(isinstance(name, str))\n",
    "        if isinstance(name, str):\n",
    "            self.__name = name\n",
    "        else:\n",
    "            print('Not a valid name.')\n",
    "\n",
    "#    def __init__(self, name=None):\n",
    "#        set_name(name)\n",
    "#        Person.count += 1\n",
    "#        print('Total number of person: {}'.format(Person.count))\n",
    "        \n",
    "    def get_name(self):\n",
    "        return self.__name\n",
    "    \n",
    "    def greet(self):\n",
    "        print(\"Hello, I'm {}.\".format(self.__name))\n",
    "        print(\"Hello, I'm {}.\".format(self.__name))\n",
    "        \n",
    "zs = Person('Zhang San')\n",
    "ls = Person('Li Si')\n",
    "zs.greet()\n",
    "ls.greet()\n",
    "ww = Person()"
   ]
  },
  {
   "cell_type": "code",
   "execution_count": 4,
   "metadata": {},
   "outputs": [
    {
     "name": "stdout",
     "output_type": "stream",
     "text": [
      "Hello, I'm Zhang San.\n",
      "Hello, I'm Zhang San.\n"
     ]
    }
   ],
   "source": [
    "class Person:\n",
    "   \n",
    "    def __init__(self, name=None):\n",
    "        self.__name = name\n",
    "    \n",
    "    def set_name(self, name):\n",
    "        # assert(isinstance(name, str))\n",
    "        if isinstance(name, str):\n",
    "            self.__name = name\n",
    "        else:\n",
    "            print('Not a valid name.')\n",
    "\n",
    "    def get_name(self):\n",
    "        return self.__name\n",
    "    \n",
    "    def __greet_once(self):\n",
    "        print(\"Hello, I'm {}.\".format(self.__name))\n",
    "\n",
    "    def greet(self):\n",
    "        self.__greet_once()\n",
    "        self.__greet_once()\n",
    "\n",
    "        \n",
    "zs = Person('Zhang San')\n",
    "zs.greet()\n"
   ]
  },
  {
   "cell_type": "code",
   "execution_count": 5,
   "metadata": {},
   "outputs": [
    {
     "data": {
      "text/plain": [
       "{'_Person__name': 'Zhang San'}"
      ]
     },
     "execution_count": 5,
     "metadata": {},
     "output_type": "execute_result"
    }
   ],
   "source": [
    "zs.__dict__"
   ]
  },
  {
   "cell_type": "code",
   "execution_count": 6,
   "metadata": {},
   "outputs": [
    {
     "name": "stdout",
     "output_type": "stream",
     "text": [
      "Zhang San\n"
     ]
    }
   ],
   "source": [
    "print(zs._Person__name)"
   ]
  },
  {
   "cell_type": "code",
   "execution_count": 7,
   "metadata": {},
   "outputs": [],
   "source": [
    "zs._Person__name = 1"
   ]
  },
  {
   "cell_type": "code",
   "execution_count": 8,
   "metadata": {},
   "outputs": [
    {
     "name": "stdout",
     "output_type": "stream",
     "text": [
      "Hello, I'm 1.\n",
      "Hello, I'm 1.\n"
     ]
    }
   ],
   "source": [
    "zs.greet()"
   ]
  },
  {
   "cell_type": "code",
   "execution_count": 9,
   "metadata": {},
   "outputs": [],
   "source": [
    "zs = Person('Zhang San')\n",
    "zs.__name = 'test'"
   ]
  },
  {
   "cell_type": "code",
   "execution_count": 10,
   "metadata": {},
   "outputs": [
    {
     "data": {
      "text/plain": [
       "{'_Person__name': 'Zhang San', '__name': 'test'}"
      ]
     },
     "execution_count": 10,
     "metadata": {},
     "output_type": "execute_result"
    }
   ],
   "source": [
    "zs.__dict__"
   ]
  },
  {
   "cell_type": "code",
   "execution_count": 11,
   "metadata": {},
   "outputs": [
    {
     "name": "stdout",
     "output_type": "stream",
     "text": [
      "Help on class Person in module __main__:\n",
      "\n",
      "class Person(builtins.object)\n",
      " |  Person(name=None)\n",
      " |  \n",
      " |  Methods defined here:\n",
      " |  \n",
      " |  __init__(self, name=None)\n",
      " |      Initialize self.  See help(type(self)) for accurate signature.\n",
      " |  \n",
      " |  get_name(self)\n",
      " |  \n",
      " |  greet(self)\n",
      " |  \n",
      " |  set_name(self, name)\n",
      " |  \n",
      " |  ----------------------------------------------------------------------\n",
      " |  Data descriptors defined here:\n",
      " |  \n",
      " |  __dict__\n",
      " |      dictionary for instance variables (if defined)\n",
      " |  \n",
      " |  __weakref__\n",
      " |      list of weak references to the object (if defined)\n",
      "\n"
     ]
    }
   ],
   "source": [
    "help(Person)"
   ]
  },
  {
   "cell_type": "code",
   "execution_count": 12,
   "metadata": {},
   "outputs": [],
   "source": [
    "class Person:\n",
    "    '''This class can be used to represent a person. '''\n",
    "   \n",
    "    def __init__(self, name:str=None):\n",
    "        self.__name = name\n",
    "    \n",
    "    def set_name(self, name:str):\n",
    "        '''Set the name of person. name must be a str. '''\n",
    "        # assert(isinstance(name, str))\n",
    "        if isinstance(name, str):\n",
    "            self.__name = name\n",
    "        else:\n",
    "            print('Not a valid name.')\n",
    "\n",
    "    def get_name(self)->str:\n",
    "        ''' Returns the name of the person.'''\n",
    "        return self.__name\n",
    "    \n",
    "    def __greet_once(self):\n",
    "        print(\"Hello, I'm {}.\".format(self.__name))\n",
    "\n",
    "    def greet(self):\n",
    "        self.__greet_once()\n",
    "        self.__greet_once()\n",
    "        \n",
    "zs = Person(1)"
   ]
  },
  {
   "cell_type": "code",
   "execution_count": 13,
   "metadata": {},
   "outputs": [
    {
     "name": "stdout",
     "output_type": "stream",
     "text": [
      "Help on class Person in module __main__:\n",
      "\n",
      "class Person(builtins.object)\n",
      " |  Person(name: str = None)\n",
      " |  \n",
      " |  This class can be used to represent a person.\n",
      " |  \n",
      " |  Methods defined here:\n",
      " |  \n",
      " |  __init__(self, name: str = None)\n",
      " |      Initialize self.  See help(type(self)) for accurate signature.\n",
      " |  \n",
      " |  get_name(self) -> str\n",
      " |      Returns the name of the person.\n",
      " |  \n",
      " |  greet(self)\n",
      " |  \n",
      " |  set_name(self, name: str)\n",
      " |      Set the name of person. name must be a str.\n",
      " |  \n",
      " |  ----------------------------------------------------------------------\n",
      " |  Data descriptors defined here:\n",
      " |  \n",
      " |  __dict__\n",
      " |      dictionary for instance variables (if defined)\n",
      " |  \n",
      " |  __weakref__\n",
      " |      list of weak references to the object (if defined)\n",
      "\n"
     ]
    }
   ],
   "source": [
    "help(Person)#所以这个help"
   ]
  },
  {
   "cell_type": "code",
   "execution_count": 14,
   "metadata": {},
   "outputs": [
    {
     "name": "stdout",
     "output_type": "stream",
     "text": [
      "1\n",
      "2\n"
     ]
    }
   ],
   "source": [
    "my_list = ['hello', [1, 2, 3, 'e', 'e', 4]]\n",
    "for item in my_list:\n",
    "    print(item.count('e'))"
   ]
  },
  {
   "cell_type": "code",
   "execution_count": 15,
   "metadata": {},
   "outputs": [
    {
     "name": "stdout",
     "output_type": "stream",
     "text": [
      "meow...\n",
      "meow...\n",
      "wang, wang...\n",
      "wang, wang...\n"
     ]
    }
   ],
   "source": [
    "class Cat:\n",
    "    def meow(self):\n",
    "        print('meow...')\n",
    "\n",
    "class Dog:\n",
    "    def wang(self):\n",
    "        print('wang, wang...')\n",
    "        \n",
    "pets = [Cat()]\n",
    "pets.append(Cat())\n",
    "pets.append(Dog())\n",
    "pets.append(Dog())\n",
    "\n",
    "for item in pets:\n",
    "    if isinstance(item, Cat):\n",
    "        item.meow()\n",
    "    elif isinstance(item, Dog):\n",
    "        item.wang()\n",
    "    else:\n",
    "        pass\n",
    "    "
   ]
  },
  {
   "cell_type": "code",
   "execution_count": 16,
   "metadata": {},
   "outputs": [
    {
     "name": "stdout",
     "output_type": "stream",
     "text": [
      "meow...\n",
      "wang, wang...\n",
      "meow...\n"
     ]
    }
   ],
   "source": [
    "class Cat:\n",
    "    def talk(self):\n",
    "        print('meow...')\n",
    "\n",
    "class Dog:\n",
    "    def talk(self):\n",
    "        print('wang, wang...')\n",
    "        \n",
    "pets = [Cat(), Dog(), Cat()]\n",
    "\n",
    "for item in pets:\n",
    "    item.talk()"
   ]
  },
  {
   "cell_type": "code",
   "execution_count": 17,
   "metadata": {},
   "outputs": [
    {
     "name": "stdout",
     "output_type": "stream",
     "text": [
      "3\n",
      "ab\n"
     ]
    }
   ],
   "source": [
    "def add(a, b):\n",
    "    return a + b\n",
    "\n",
    "a = 1\n",
    "b = 2\n",
    "print(add(a, b))\n",
    "x, y = 'a', 'b'\n",
    "print(add(x, y))"
   ]
  },
  {
   "cell_type": "code",
   "execution_count": 18,
   "metadata": {},
   "outputs": [
    {
     "name": "stdout",
     "output_type": "stream",
     "text": [
      "Hello, I'm Zhang San.\n",
      "Hello, I'm Zhang San.\n",
      "My score is: 100\n"
     ]
    }
   ],
   "source": [
    "class Person:\n",
    "    '''This class can be used to represent a person. '''\n",
    "   \n",
    "    def __init__(self, name:str=None):\n",
    "        self.set_name(name)\n",
    "    \n",
    "    def set_name(self, name:str):\n",
    "        '''Set the name of person. name must be a str. '''\n",
    "        # assert(isinstance(name, str))\n",
    "        if isinstance(name, str):\n",
    "            self.__name = name\n",
    "        else:\n",
    "            print('Not a valid name.')\n",
    "\n",
    "    def get_name(self)->str:\n",
    "        ''' Returns the name of the person.'''\n",
    "        return self.__name\n",
    "    \n",
    "    def __greet_once(self):\n",
    "        print(\"Hello, I'm {}.\".format(self.__name))\n",
    "\n",
    "    def greet(self):\n",
    "        self.__greet_once()\n",
    "        self.__greet_once()\n",
    "        \n",
    "class Student(Person):\n",
    "    def __init__(self, name=None):\n",
    "        Person.__init__(self, name)\n",
    "        self.__score = 60\n",
    "        \n",
    "    def set_score(self, score):\n",
    "        self.__score = score\n",
    "        \n",
    "    def get_score(self):\n",
    "        return self.__score\n",
    "    \n",
    "    def show_score(self):\n",
    "        print('My score is: {}'.format(self.__score))\n",
    "    \n",
    "    def greet(self):\n",
    "        Person.greet(self)\n",
    "        self.show_score()\n",
    "\n",
    "zs = Student(\"Zhang San\")\n",
    "# zs.set_name()\n",
    "zs.set_score(100)\n",
    "zs.greet()\n",
    "# zs.show_score()"
   ]
  },
  {
   "cell_type": "code",
   "execution_count": 19,
   "metadata": {},
   "outputs": [
    {
     "name": "stdout",
     "output_type": "stream",
     "text": [
      "Hello, I'm Zhang San.\n",
      "Hello, I'm Zhang San.\n",
      "Hello, I'm Li Si.\n",
      "Hello, I'm Li Si.\n",
      "My score is: 100\n"
     ]
    }
   ],
   "source": [
    "people = list()\n",
    "zs = Person('Zhang San')\n",
    "ls = Student('Li Si')\n",
    "ls.set_score(100)\n",
    "people.append(zs)\n",
    "people.append(ls)\n",
    "\n",
    "for p in people:\n",
    "    p.greet()"
   ]
  },
  {
   "cell_type": "code",
   "execution_count": 20,
   "metadata": {},
   "outputs": [
    {
     "data": {
      "text/plain": [
       "True"
      ]
     },
     "execution_count": 20,
     "metadata": {},
     "output_type": "execute_result"
    }
   ],
   "source": [
    "issubclass(Student, Person)"
   ]
  },
  {
   "cell_type": "code",
   "execution_count": 21,
   "metadata": {},
   "outputs": [
    {
     "data": {
      "text/plain": [
       "[1, 2, 3]"
      ]
     },
     "execution_count": 21,
     "metadata": {},
     "output_type": "execute_result"
    }
   ],
   "source": [
    "class Filter:\n",
    "    def __init__(self):\n",
    "        self.blocked = []\n",
    "        \n",
    "    def filter(self, sequence):\n",
    "        return [x for x in sequence if x not in self.blocked]\n",
    "    \n",
    "#class SpamFilter(Filter):\n",
    "#    def __init__(self):\n",
    "#        self.blocked = ['SPAM']\n",
    "        \n",
    "f = Filter()\n",
    "f.filter([1, 2, 3])"
   ]
  },
  {
   "cell_type": "code",
   "execution_count": 22,
   "metadata": {},
   "outputs": [
    {
     "data": {
      "text/plain": [
       "['bacon', 'eggs', 'sausage']"
      ]
     },
     "execution_count": 22,
     "metadata": {},
     "output_type": "execute_result"
    }
   ],
   "source": [
    "sf = Filter() #filter\n",
    "sf.blocked = ['SPAM']\n",
    "sf.filter(['SPAM', 'SPAM', 'bacon', 'eggs', 'sausage', 'SPAM'])"
   ]
  },
  {
   "cell_type": "code",
   "execution_count": 23,
   "metadata": {},
   "outputs": [
    {
     "name": "stdout",
     "output_type": "stream",
     "text": [
      "My value is: 6\n"
     ]
    }
   ],
   "source": [
    "class Calculator:\n",
    "    def calculate(self, expression):\n",
    "        return eval(expression)\n",
    "        \n",
    "class Talker:\n",
    "    def talk(self, value):\n",
    "        print('My value is:', value)\n",
    "        \n",
    "class TalkingCalculator(Calculator, Talker):\n",
    "    pass\n",
    "\n",
    "tc = TalkingCalculator()\n",
    "result = tc.calculate('1 + 2 + 3')\n",
    "tc.talk(result)"
   ]
  },
  {
   "cell_type": "code",
   "execution_count": 24,
   "metadata": {},
   "outputs": [
    {
     "name": "stdout",
     "output_type": "stream",
     "text": [
      "My value is: 6\n"
     ]
    }
   ],
   "source": [
    "class Calculator:\n",
    "    def calculate(self, expression):\n",
    "        return eval(expression)\n",
    "        \n",
    "class Talker:\n",
    "    def talk(self, value):\n",
    "        print('My value is:', value)\n",
    "        \n",
    "class TalkingCalculator:\n",
    "    def __init__(self):\n",
    "        self.__calculator = Calculator()\n",
    "        self.__talker = Talker()\n",
    "        self.__value = None\n",
    "        \n",
    "    def calculate(self, expression):\n",
    "        self.__value = self.__calculator.calculate(expression)\n",
    "    \n",
    "    def talk(self):\n",
    "        self.__talker.talk(self.__value)\n",
    "    \n",
    "\n",
    "tc = TalkingCalculator()\n",
    "tc.calculate('1 + 2 + 3')\n",
    "tc.talk()"
   ]
  },
  {
   "cell_type": "code",
   "execution_count": null,
   "metadata": {},
   "outputs": [],
   "source": []
  }
 ],
 "metadata": {
  "kernelspec": {
   "display_name": "Python 3",
   "language": "python",
   "name": "python3"
  },
  "language_info": {
   "codemirror_mode": {
    "name": "ipython",
    "version": 3
   },
   "file_extension": ".py",
   "mimetype": "text/x-python",
   "name": "python",
   "nbconvert_exporter": "python",
   "pygments_lexer": "ipython3",
   "version": "3.7.3"
  }
 },
 "nbformat": 4,
 "nbformat_minor": 2
}
