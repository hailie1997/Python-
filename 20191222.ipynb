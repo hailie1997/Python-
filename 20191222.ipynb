{
 "cells": [
  {
   "cell_type": "code",
   "execution_count": null,
   "metadata": {},
   "outputs": [],
   "source": [
    "import urllib.request\n",
    "#定义一个网页数据类\n",
    "class page_data():\n",
    "    #初始一个网页\n",
    "    def __init__(self, url_add):\n",
    "        self.url = url_add\n",
    "   #code方法百度到的\n",
    "    def get_httpcode(self):\n",
    "        status = urllib.request.urlopen(self.url).code\n",
    "        return status\n",
    "    #read方法也是百度到的\n",
    "    def get_htmlcontent(self):\n",
    "        contentstr = urllib.request.urlopen(self.url).read()\n",
    "        return contentstr\n",
    "    #先把网页内容提取出来，所有带链接的存到str里，然后转换成字节形式，才能用split切片函数\n",
    "    def get_linknum(self):\n",
    "        content = urllib.request.urlopen(self.url).read()\n",
    "        str=\"< a href=\"\n",
    "        byte=str.encode()\n",
    "    #Python split() 通过指定分隔符对字符串进行切片，如果参数 num 有指定值，则分隔 num+1 个子字符串\n",
    "        return len(content.split(byte)) -1\n",
    "\n",
    "A = page_data(\"http://www.baidu.com\")\n",
    "print(A.get_httpcode())\n",
    "print(A.get_htmlcontent())\n",
    "print(A.get_linknum())"
   ]
  }
 ],
 "metadata": {
  "kernelspec": {
   "display_name": "Python 3",
   "language": "python",
   "name": "python3"
  },
  "language_info": {
   "codemirror_mode": {
    "name": "ipython",
    "version": 3
   },
   "file_extension": ".py",
   "mimetype": "text/x-python",
   "name": "python",
   "nbconvert_exporter": "python",
   "pygments_lexer": "ipython3",
   "version": "3.7.3"
  }
 },
 "nbformat": 4,
 "nbformat_minor": 2
}
